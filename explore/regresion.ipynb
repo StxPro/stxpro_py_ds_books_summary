{
 "cells": [
  {
   "cell_type": "code",
   "execution_count": 2,
   "id": "97c1c68b-2b48-4ae3-a80a-8dc451e6233e",
   "metadata": {
    "execution": {
     "iopub.execute_input": "2022-09-05T00:23:15.479763Z",
     "iopub.status.busy": "2022-09-05T00:23:15.479226Z",
     "iopub.status.idle": "2022-09-05T00:23:15.591827Z",
     "shell.execute_reply": "2022-09-05T00:23:15.590983Z",
     "shell.execute_reply.started": "2022-09-05T00:23:15.479729Z"
    },
    "tags": []
   },
   "outputs": [
    {
     "name": "stdout",
     "output_type": "stream",
     "text": [
      "README.md                      blood_transfusion.csv\n",
      "adult-census-numeric-all.csv   cps_85_wages.csv\n",
      "adult-census-numeric-test.csv  \u001b[0m\u001b[01;34mfinancial-data\u001b[0m/\n",
      "adult-census-numeric.csv       house_prices.csv\n",
      "adult-census.csv               penguins.csv\n",
      "ames_housing_no_missing.csv    penguins_classification.csv\n",
      "bike_rides.csv                 penguins_regression.csv\n"
     ]
    }
   ],
   "source": [
    "ls ~/lab/github/scikit-learn-mooc/datasets"
   ]
  },
  {
   "cell_type": "code",
   "execution_count": 3,
   "id": "2f33beb0-00f0-4f5a-8f16-f8886a3aa71b",
   "metadata": {
    "execution": {
     "iopub.execute_input": "2022-09-05T00:23:17.205334Z",
     "iopub.status.busy": "2022-09-05T00:23:17.204802Z",
     "iopub.status.idle": "2022-09-05T00:23:17.318213Z",
     "shell.execute_reply": "2022-09-05T00:23:17.317310Z",
     "shell.execute_reply.started": "2022-09-05T00:23:17.205315Z"
    },
    "tags": []
   },
   "outputs": [
    {
     "name": "stdout",
     "output_type": "stream",
     "text": [
      "regresion.ipynb\n"
     ]
    }
   ],
   "source": [
    "!ls"
   ]
  },
  {
   "cell_type": "code",
   "execution_count": 4,
   "id": "e16f9034-f7ff-4384-929d-6c155e89d326",
   "metadata": {
    "execution": {
     "iopub.execute_input": "2022-09-05T00:23:18.924937Z",
     "iopub.status.busy": "2022-09-05T00:23:18.924050Z",
     "iopub.status.idle": "2022-09-05T00:23:18.936687Z",
     "shell.execute_reply": "2022-09-05T00:23:18.935525Z",
     "shell.execute_reply.started": "2022-09-05T00:23:18.924915Z"
    },
    "tags": []
   },
   "outputs": [
    {
     "name": "stdout",
     "output_type": "stream",
     "text": [
      "/home/ncortes/lab/github/scikit-learn-mooc/datasets\n"
     ]
    },
    {
     "data": {
      "text/plain": [
       "['~/lab/github/stxpro_py_ds_books_summary/explore']"
      ]
     },
     "execution_count": 4,
     "metadata": {},
     "output_type": "execute_result"
    }
   ],
   "source": [
    "%pushd ~/lab/github/scikit-learn-mooc/datasets"
   ]
  },
  {
   "cell_type": "code",
   "execution_count": 6,
   "id": "f2f38cb9-7f4b-4150-a25f-a3440ad26ff3",
   "metadata": {
    "execution": {
     "iopub.execute_input": "2022-09-05T00:23:34.601734Z",
     "iopub.status.busy": "2022-09-05T00:23:34.601208Z",
     "iopub.status.idle": "2022-09-05T00:23:34.714806Z",
     "shell.execute_reply": "2022-09-05T00:23:34.713935Z",
     "shell.execute_reply.started": "2022-09-05T00:23:34.601714Z"
    },
    "tags": []
   },
   "outputs": [
    {
     "name": "stdout",
     "output_type": "stream",
     "text": [
      "total 11M\n",
      "drwxr-xr-x  4 ncortes ncortes 4.0K Sep  4 19:18 .\n",
      "drwxr-xr-x 15 ncortes ncortes 4.0K May 31 00:20 ..\n",
      "drwxr-xr-x  2 ncortes ncortes 4.0K Sep  4 19:18 .ipynb_checkpoints\n",
      "-rw-r--r--  1 ncortes ncortes  130 May 29 21:27 README.md\n",
      "-rw-r--r--  1 ncortes ncortes 940K May 29 21:27 adult-census-numeric-all.csv\n",
      "-rw-r--r--  1 ncortes ncortes 164K May 29 21:27 adult-census-numeric-test.csv\n",
      "-rw-r--r--  1 ncortes ncortes 655K May 29 21:27 adult-census-numeric.csv\n",
      "-rw-r--r--  1 ncortes ncortes 5.2M May 29 21:27 adult-census.csv\n",
      "-rw-r--r--  1 ncortes ncortes 467K May 29 21:27 ames_housing_no_missing.csv\n",
      "-rw-r--r--  1 ncortes ncortes 2.6M May 29 21:27 bike_rides.csv\n",
      "-rw-r--r--  1 ncortes ncortes  17K May 29 21:27 blood_transfusion.csv\n",
      "-rw-r--r--  1 ncortes ncortes  34K May 29 21:27 cps_85_wages.csv\n",
      "drwxr-xr-x  2 ncortes ncortes 4.0K May 29 21:27 financial-data\n",
      "-rw-r--r--  1 ncortes ncortes 452K May 29 21:27 house_prices.csv\n",
      "-rw-r--r--  1 ncortes ncortes  52K May 29 21:27 penguins.csv\n",
      "-rw-r--r--  1 ncortes ncortes 6.0K May 29 21:27 penguins_classification.csv\n",
      "-rw-r--r--  1 ncortes ncortes 4.4K May 29 21:27 penguins_regression.csv\n"
     ]
    }
   ],
   "source": [
    "!ls -lah"
   ]
  },
  {
   "cell_type": "code",
   "execution_count": 7,
   "id": "a31a909a-fc0e-400a-8a30-250047f2a5e2",
   "metadata": {
    "execution": {
     "iopub.execute_input": "2022-09-05T00:23:47.855065Z",
     "iopub.status.busy": "2022-09-05T00:23:47.854645Z",
     "iopub.status.idle": "2022-09-05T00:23:48.352930Z",
     "shell.execute_reply": "2022-09-05T00:23:48.352028Z",
     "shell.execute_reply.started": "2022-09-05T00:23:47.855048Z"
    }
   },
   "outputs": [],
   "source": [
    "import pandas as pd"
   ]
  },
  {
   "cell_type": "code",
   "execution_count": 8,
   "id": "600df988-b452-434a-8e52-b4c6aa1ce97e",
   "metadata": {
    "execution": {
     "iopub.execute_input": "2022-09-05T00:24:05.283044Z",
     "iopub.status.busy": "2022-09-05T00:24:05.282466Z",
     "iopub.status.idle": "2022-09-05T00:24:05.286546Z",
     "shell.execute_reply": "2022-09-05T00:24:05.285563Z",
     "shell.execute_reply.started": "2022-09-05T00:24:05.283025Z"
    }
   },
   "outputs": [],
   "source": [
    "from pydatautils.utils.notebook_utils import Utils"
   ]
  },
  {
   "cell_type": "code",
   "execution_count": 9,
   "id": "afde22f0-58b5-43df-81c6-87269990ac60",
   "metadata": {
    "execution": {
     "iopub.execute_input": "2022-09-05T00:24:12.857403Z",
     "iopub.status.busy": "2022-09-05T00:24:12.856435Z",
     "iopub.status.idle": "2022-09-05T00:24:13.339367Z",
     "shell.execute_reply": "2022-09-05T00:24:13.338404Z",
     "shell.execute_reply.started": "2022-09-05T00:24:12.857364Z"
    }
   },
   "outputs": [
    {
     "name": "stderr",
     "output_type": "stream",
     "text": [
      "WARNING:root:'PYARROW_IGNORE_TIMEZONE' environment variable was not set. It is required to set this environment variable to '1' in both driver and executor sides if you use pyarrow>=2.0.0. pandas-on-Spark will set it for you but it does not work if there is a Spark context already launched.\n"
     ]
    },
    {
     "data": {
      "text/html": [
       "\n",
       "            <style scoped>\n",
       "                .dataframe-div {\n",
       "                  overflow: auto;\n",
       "                  position: relative;\n",
       "                }\n",
       "\n",
       "                .dataframe-div .dataframe thead th {\n",
       "                  position: -webkit-sticky; /* for Safari */\n",
       "                  position: sticky;\n",
       "                  top: 0;\n",
       "                  background: #00734d;\n",
       "                  color: white;\n",
       "                }\n",
       "\n",
       "                .dataframe-div .dataframe thead th:first-child {\n",
       "                  left: 0;\n",
       "                  z-index: 1;\n",
       "                }\n",
       "\n",
       "                .dataframe-div .dataframe tbody tr th:only-of-type {\n",
       "                        vertical-align: middle;\n",
       "                    }\n",
       "\n",
       "                .dataframe-div .dataframe tbody tr th {\n",
       "                  position: sticky;\n",
       "                  left: 0;\n",
       "                  background: #00734d;\n",
       "                  color: white;\n",
       "                  vertical-align: top;\n",
       "                }\n",
       "\n",
       "                }\n",
       "            </style>\n",
       "            "
      ],
      "text/plain": [
       "<IPython.core.display.HTML object>"
      ]
     },
     "metadata": {},
     "output_type": "display_data"
    }
   ],
   "source": [
    "Utils.fix_to_pandas()"
   ]
  },
  {
   "cell_type": "code",
   "execution_count": 26,
   "id": "831ffbce-c8e0-488c-8b0c-6908dd4323bb",
   "metadata": {
    "execution": {
     "iopub.execute_input": "2022-09-05T00:41:12.921086Z",
     "iopub.status.busy": "2022-09-05T00:41:12.920538Z",
     "iopub.status.idle": "2022-09-05T00:41:12.973317Z",
     "shell.execute_reply": "2022-09-05T00:41:12.972346Z",
     "shell.execute_reply.started": "2022-09-05T00:41:12.921069Z"
    },
    "tags": []
   },
   "outputs": [
    {
     "data": {
      "text/html": [
       "<div class=\"dataframe-div\" style=\"max-height: 300px;\"><table border=\"1\" class=\"dataframe\">\n",
       "  <thead>\n",
       "    <tr style=\"text-align: right;\">\n",
       "      <th></th>\n",
       "      <th>Id</th>\n",
       "      <th>MSSubClass</th>\n",
       "      <th>MSZoning</th>\n",
       "      <th>LotFrontage</th>\n",
       "      <th>LotArea</th>\n",
       "      <th>Street</th>\n",
       "      <th>Alley</th>\n",
       "      <th>LotShape</th>\n",
       "      <th>LandContour</th>\n",
       "      <th>Utilities</th>\n",
       "      <th>LotConfig</th>\n",
       "      <th>LandSlope</th>\n",
       "      <th>Neighborhood</th>\n",
       "      <th>Condition1</th>\n",
       "      <th>Condition2</th>\n",
       "      <th>BldgType</th>\n",
       "      <th>HouseStyle</th>\n",
       "      <th>OverallQual</th>\n",
       "      <th>OverallCond</th>\n",
       "      <th>YearBuilt</th>\n",
       "      <th>YearRemodAdd</th>\n",
       "      <th>RoofStyle</th>\n",
       "      <th>RoofMatl</th>\n",
       "      <th>Exterior1st</th>\n",
       "      <th>Exterior2nd</th>\n",
       "      <th>MasVnrType</th>\n",
       "      <th>MasVnrArea</th>\n",
       "      <th>ExterQual</th>\n",
       "      <th>ExterCond</th>\n",
       "      <th>Foundation</th>\n",
       "      <th>BsmtQual</th>\n",
       "      <th>BsmtCond</th>\n",
       "      <th>BsmtExposure</th>\n",
       "      <th>BsmtFinType1</th>\n",
       "      <th>BsmtFinSF1</th>\n",
       "      <th>BsmtFinType2</th>\n",
       "      <th>BsmtFinSF2</th>\n",
       "      <th>BsmtUnfSF</th>\n",
       "      <th>TotalBsmtSF</th>\n",
       "      <th>Heating</th>\n",
       "      <th>HeatingQC</th>\n",
       "      <th>CentralAir</th>\n",
       "      <th>Electrical</th>\n",
       "      <th>1stFlrSF</th>\n",
       "      <th>2ndFlrSF</th>\n",
       "      <th>LowQualFinSF</th>\n",
       "      <th>GrLivArea</th>\n",
       "      <th>BsmtFullBath</th>\n",
       "      <th>BsmtHalfBath</th>\n",
       "      <th>FullBath</th>\n",
       "      <th>HalfBath</th>\n",
       "      <th>BedroomAbvGr</th>\n",
       "      <th>KitchenAbvGr</th>\n",
       "      <th>KitchenQual</th>\n",
       "      <th>TotRmsAbvGrd</th>\n",
       "      <th>Functional</th>\n",
       "      <th>Fireplaces</th>\n",
       "      <th>FireplaceQu</th>\n",
       "      <th>GarageType</th>\n",
       "      <th>GarageYrBlt</th>\n",
       "      <th>GarageFinish</th>\n",
       "      <th>GarageCars</th>\n",
       "      <th>GarageArea</th>\n",
       "      <th>GarageQual</th>\n",
       "      <th>GarageCond</th>\n",
       "      <th>PavedDrive</th>\n",
       "      <th>WoodDeckSF</th>\n",
       "      <th>OpenPorchSF</th>\n",
       "      <th>EnclosedPorch</th>\n",
       "      <th>3SsnPorch</th>\n",
       "      <th>ScreenPorch</th>\n",
       "      <th>PoolArea</th>\n",
       "      <th>PoolQC</th>\n",
       "      <th>Fence</th>\n",
       "      <th>MiscFeature</th>\n",
       "      <th>MiscVal</th>\n",
       "      <th>MoSold</th>\n",
       "      <th>YrSold</th>\n",
       "      <th>SaleType</th>\n",
       "      <th>SaleCondition</th>\n",
       "      <th>SalePrice</th>\n",
       "    </tr>\n",
       "  </thead>\n",
       "  <tbody>\n",
       "    <tr>\n",
       "      <th>0</th>\n",
       "      <td>1</td>\n",
       "      <td>60</td>\n",
       "      <td>RL</td>\n",
       "      <td>65.000</td>\n",
       "      <td>8,450</td>\n",
       "      <td>Pave</td>\n",
       "      <td>NaN</td>\n",
       "      <td>Reg</td>\n",
       "      <td>Lvl</td>\n",
       "      <td>AllPub</td>\n",
       "      <td>Inside</td>\n",
       "      <td>Gtl</td>\n",
       "      <td>CollgCr</td>\n",
       "      <td>Norm</td>\n",
       "      <td>Norm</td>\n",
       "      <td>1Fam</td>\n",
       "      <td>2Story</td>\n",
       "      <td>7</td>\n",
       "      <td>5</td>\n",
       "      <td>2,003</td>\n",
       "      <td>2,003</td>\n",
       "      <td>Gable</td>\n",
       "      <td>CompShg</td>\n",
       "      <td>VinylSd</td>\n",
       "      <td>VinylSd</td>\n",
       "      <td>BrkFace</td>\n",
       "      <td>196.000</td>\n",
       "      <td>Gd</td>\n",
       "      <td>TA</td>\n",
       "      <td>PConc</td>\n",
       "      <td>Gd</td>\n",
       "      <td>TA</td>\n",
       "      <td>No</td>\n",
       "      <td>GLQ</td>\n",
       "      <td>706</td>\n",
       "      <td>Unf</td>\n",
       "      <td>0</td>\n",
       "      <td>150</td>\n",
       "      <td>856</td>\n",
       "      <td>GasA</td>\n",
       "      <td>Ex</td>\n",
       "      <td>Y</td>\n",
       "      <td>SBrkr</td>\n",
       "      <td>856</td>\n",
       "      <td>854</td>\n",
       "      <td>0</td>\n",
       "      <td>1,710</td>\n",
       "      <td>1</td>\n",
       "      <td>0</td>\n",
       "      <td>2</td>\n",
       "      <td>1</td>\n",
       "      <td>3</td>\n",
       "      <td>1</td>\n",
       "      <td>Gd</td>\n",
       "      <td>8</td>\n",
       "      <td>Typ</td>\n",
       "      <td>0</td>\n",
       "      <td>NaN</td>\n",
       "      <td>Attchd</td>\n",
       "      <td>2,003.000</td>\n",
       "      <td>RFn</td>\n",
       "      <td>2</td>\n",
       "      <td>548</td>\n",
       "      <td>TA</td>\n",
       "      <td>TA</td>\n",
       "      <td>Y</td>\n",
       "      <td>0</td>\n",
       "      <td>61</td>\n",
       "      <td>0</td>\n",
       "      <td>0</td>\n",
       "      <td>0</td>\n",
       "      <td>0</td>\n",
       "      <td>NaN</td>\n",
       "      <td>NaN</td>\n",
       "      <td>NaN</td>\n",
       "      <td>0</td>\n",
       "      <td>2</td>\n",
       "      <td>2,008</td>\n",
       "      <td>WD</td>\n",
       "      <td>Normal</td>\n",
       "      <td>208,500</td>\n",
       "    </tr>\n",
       "    <tr>\n",
       "      <th>1</th>\n",
       "      <td>2</td>\n",
       "      <td>20</td>\n",
       "      <td>RL</td>\n",
       "      <td>80.000</td>\n",
       "      <td>9,600</td>\n",
       "      <td>Pave</td>\n",
       "      <td>NaN</td>\n",
       "      <td>Reg</td>\n",
       "      <td>Lvl</td>\n",
       "      <td>AllPub</td>\n",
       "      <td>FR2</td>\n",
       "      <td>Gtl</td>\n",
       "      <td>Veenker</td>\n",
       "      <td>Feedr</td>\n",
       "      <td>Norm</td>\n",
       "      <td>1Fam</td>\n",
       "      <td>1Story</td>\n",
       "      <td>6</td>\n",
       "      <td>8</td>\n",
       "      <td>1,976</td>\n",
       "      <td>1,976</td>\n",
       "      <td>Gable</td>\n",
       "      <td>CompShg</td>\n",
       "      <td>MetalSd</td>\n",
       "      <td>MetalSd</td>\n",
       "      <td>None</td>\n",
       "      <td>0.000</td>\n",
       "      <td>TA</td>\n",
       "      <td>TA</td>\n",
       "      <td>CBlock</td>\n",
       "      <td>Gd</td>\n",
       "      <td>TA</td>\n",
       "      <td>Gd</td>\n",
       "      <td>ALQ</td>\n",
       "      <td>978</td>\n",
       "      <td>Unf</td>\n",
       "      <td>0</td>\n",
       "      <td>284</td>\n",
       "      <td>1,262</td>\n",
       "      <td>GasA</td>\n",
       "      <td>Ex</td>\n",
       "      <td>Y</td>\n",
       "      <td>SBrkr</td>\n",
       "      <td>1,262</td>\n",
       "      <td>0</td>\n",
       "      <td>0</td>\n",
       "      <td>1,262</td>\n",
       "      <td>0</td>\n",
       "      <td>1</td>\n",
       "      <td>2</td>\n",
       "      <td>0</td>\n",
       "      <td>3</td>\n",
       "      <td>1</td>\n",
       "      <td>TA</td>\n",
       "      <td>6</td>\n",
       "      <td>Typ</td>\n",
       "      <td>1</td>\n",
       "      <td>TA</td>\n",
       "      <td>Attchd</td>\n",
       "      <td>1,976.000</td>\n",
       "      <td>RFn</td>\n",
       "      <td>2</td>\n",
       "      <td>460</td>\n",
       "      <td>TA</td>\n",
       "      <td>TA</td>\n",
       "      <td>Y</td>\n",
       "      <td>298</td>\n",
       "      <td>0</td>\n",
       "      <td>0</td>\n",
       "      <td>0</td>\n",
       "      <td>0</td>\n",
       "      <td>0</td>\n",
       "      <td>NaN</td>\n",
       "      <td>NaN</td>\n",
       "      <td>NaN</td>\n",
       "      <td>0</td>\n",
       "      <td>5</td>\n",
       "      <td>2,007</td>\n",
       "      <td>WD</td>\n",
       "      <td>Normal</td>\n",
       "      <td>181,500</td>\n",
       "    </tr>\n",
       "    <tr>\n",
       "      <th>2</th>\n",
       "      <td>3</td>\n",
       "      <td>60</td>\n",
       "      <td>RL</td>\n",
       "      <td>68.000</td>\n",
       "      <td>11,250</td>\n",
       "      <td>Pave</td>\n",
       "      <td>NaN</td>\n",
       "      <td>IR1</td>\n",
       "      <td>Lvl</td>\n",
       "      <td>AllPub</td>\n",
       "      <td>Inside</td>\n",
       "      <td>Gtl</td>\n",
       "      <td>CollgCr</td>\n",
       "      <td>Norm</td>\n",
       "      <td>Norm</td>\n",
       "      <td>1Fam</td>\n",
       "      <td>2Story</td>\n",
       "      <td>7</td>\n",
       "      <td>5</td>\n",
       "      <td>2,001</td>\n",
       "      <td>2,002</td>\n",
       "      <td>Gable</td>\n",
       "      <td>CompShg</td>\n",
       "      <td>VinylSd</td>\n",
       "      <td>VinylSd</td>\n",
       "      <td>BrkFace</td>\n",
       "      <td>162.000</td>\n",
       "      <td>Gd</td>\n",
       "      <td>TA</td>\n",
       "      <td>PConc</td>\n",
       "      <td>Gd</td>\n",
       "      <td>TA</td>\n",
       "      <td>Mn</td>\n",
       "      <td>GLQ</td>\n",
       "      <td>486</td>\n",
       "      <td>Unf</td>\n",
       "      <td>0</td>\n",
       "      <td>434</td>\n",
       "      <td>920</td>\n",
       "      <td>GasA</td>\n",
       "      <td>Ex</td>\n",
       "      <td>Y</td>\n",
       "      <td>SBrkr</td>\n",
       "      <td>920</td>\n",
       "      <td>866</td>\n",
       "      <td>0</td>\n",
       "      <td>1,786</td>\n",
       "      <td>1</td>\n",
       "      <td>0</td>\n",
       "      <td>2</td>\n",
       "      <td>1</td>\n",
       "      <td>3</td>\n",
       "      <td>1</td>\n",
       "      <td>Gd</td>\n",
       "      <td>6</td>\n",
       "      <td>Typ</td>\n",
       "      <td>1</td>\n",
       "      <td>TA</td>\n",
       "      <td>Attchd</td>\n",
       "      <td>2,001.000</td>\n",
       "      <td>RFn</td>\n",
       "      <td>2</td>\n",
       "      <td>608</td>\n",
       "      <td>TA</td>\n",
       "      <td>TA</td>\n",
       "      <td>Y</td>\n",
       "      <td>0</td>\n",
       "      <td>42</td>\n",
       "      <td>0</td>\n",
       "      <td>0</td>\n",
       "      <td>0</td>\n",
       "      <td>0</td>\n",
       "      <td>NaN</td>\n",
       "      <td>NaN</td>\n",
       "      <td>NaN</td>\n",
       "      <td>0</td>\n",
       "      <td>9</td>\n",
       "      <td>2,008</td>\n",
       "      <td>WD</td>\n",
       "      <td>Normal</td>\n",
       "      <td>223,500</td>\n",
       "    </tr>\n",
       "    <tr>\n",
       "      <th>3</th>\n",
       "      <td>4</td>\n",
       "      <td>70</td>\n",
       "      <td>RL</td>\n",
       "      <td>60.000</td>\n",
       "      <td>9,550</td>\n",
       "      <td>Pave</td>\n",
       "      <td>NaN</td>\n",
       "      <td>IR1</td>\n",
       "      <td>Lvl</td>\n",
       "      <td>AllPub</td>\n",
       "      <td>Corner</td>\n",
       "      <td>Gtl</td>\n",
       "      <td>Crawfor</td>\n",
       "      <td>Norm</td>\n",
       "      <td>Norm</td>\n",
       "      <td>1Fam</td>\n",
       "      <td>2Story</td>\n",
       "      <td>7</td>\n",
       "      <td>5</td>\n",
       "      <td>1,915</td>\n",
       "      <td>1,970</td>\n",
       "      <td>Gable</td>\n",
       "      <td>CompShg</td>\n",
       "      <td>'Wd Sdng'</td>\n",
       "      <td>'Wd Shng'</td>\n",
       "      <td>None</td>\n",
       "      <td>0.000</td>\n",
       "      <td>TA</td>\n",
       "      <td>TA</td>\n",
       "      <td>BrkTil</td>\n",
       "      <td>TA</td>\n",
       "      <td>Gd</td>\n",
       "      <td>No</td>\n",
       "      <td>ALQ</td>\n",
       "      <td>216</td>\n",
       "      <td>Unf</td>\n",
       "      <td>0</td>\n",
       "      <td>540</td>\n",
       "      <td>756</td>\n",
       "      <td>GasA</td>\n",
       "      <td>Gd</td>\n",
       "      <td>Y</td>\n",
       "      <td>SBrkr</td>\n",
       "      <td>961</td>\n",
       "      <td>756</td>\n",
       "      <td>0</td>\n",
       "      <td>1,717</td>\n",
       "      <td>1</td>\n",
       "      <td>0</td>\n",
       "      <td>1</td>\n",
       "      <td>0</td>\n",
       "      <td>3</td>\n",
       "      <td>1</td>\n",
       "      <td>Gd</td>\n",
       "      <td>7</td>\n",
       "      <td>Typ</td>\n",
       "      <td>1</td>\n",
       "      <td>Gd</td>\n",
       "      <td>Detchd</td>\n",
       "      <td>1,998.000</td>\n",
       "      <td>Unf</td>\n",
       "      <td>3</td>\n",
       "      <td>642</td>\n",
       "      <td>TA</td>\n",
       "      <td>TA</td>\n",
       "      <td>Y</td>\n",
       "      <td>0</td>\n",
       "      <td>35</td>\n",
       "      <td>272</td>\n",
       "      <td>0</td>\n",
       "      <td>0</td>\n",
       "      <td>0</td>\n",
       "      <td>NaN</td>\n",
       "      <td>NaN</td>\n",
       "      <td>NaN</td>\n",
       "      <td>0</td>\n",
       "      <td>2</td>\n",
       "      <td>2,006</td>\n",
       "      <td>WD</td>\n",
       "      <td>Abnorml</td>\n",
       "      <td>140,000</td>\n",
       "    </tr>\n",
       "    <tr>\n",
       "      <th>4</th>\n",
       "      <td>5</td>\n",
       "      <td>60</td>\n",
       "      <td>RL</td>\n",
       "      <td>84.000</td>\n",
       "      <td>14,260</td>\n",
       "      <td>Pave</td>\n",
       "      <td>NaN</td>\n",
       "      <td>IR1</td>\n",
       "      <td>Lvl</td>\n",
       "      <td>AllPub</td>\n",
       "      <td>FR2</td>\n",
       "      <td>Gtl</td>\n",
       "      <td>NoRidge</td>\n",
       "      <td>Norm</td>\n",
       "      <td>Norm</td>\n",
       "      <td>1Fam</td>\n",
       "      <td>2Story</td>\n",
       "      <td>8</td>\n",
       "      <td>5</td>\n",
       "      <td>2,000</td>\n",
       "      <td>2,000</td>\n",
       "      <td>Gable</td>\n",
       "      <td>CompShg</td>\n",
       "      <td>VinylSd</td>\n",
       "      <td>VinylSd</td>\n",
       "      <td>BrkFace</td>\n",
       "      <td>350.000</td>\n",
       "      <td>Gd</td>\n",
       "      <td>TA</td>\n",
       "      <td>PConc</td>\n",
       "      <td>Gd</td>\n",
       "      <td>TA</td>\n",
       "      <td>Av</td>\n",
       "      <td>GLQ</td>\n",
       "      <td>655</td>\n",
       "      <td>Unf</td>\n",
       "      <td>0</td>\n",
       "      <td>490</td>\n",
       "      <td>1,145</td>\n",
       "      <td>GasA</td>\n",
       "      <td>Ex</td>\n",
       "      <td>Y</td>\n",
       "      <td>SBrkr</td>\n",
       "      <td>1,145</td>\n",
       "      <td>1,053</td>\n",
       "      <td>0</td>\n",
       "      <td>2,198</td>\n",
       "      <td>1</td>\n",
       "      <td>0</td>\n",
       "      <td>2</td>\n",
       "      <td>1</td>\n",
       "      <td>4</td>\n",
       "      <td>1</td>\n",
       "      <td>Gd</td>\n",
       "      <td>9</td>\n",
       "      <td>Typ</td>\n",
       "      <td>1</td>\n",
       "      <td>TA</td>\n",
       "      <td>Attchd</td>\n",
       "      <td>2,000.000</td>\n",
       "      <td>RFn</td>\n",
       "      <td>3</td>\n",
       "      <td>836</td>\n",
       "      <td>TA</td>\n",
       "      <td>TA</td>\n",
       "      <td>Y</td>\n",
       "      <td>192</td>\n",
       "      <td>84</td>\n",
       "      <td>0</td>\n",
       "      <td>0</td>\n",
       "      <td>0</td>\n",
       "      <td>0</td>\n",
       "      <td>NaN</td>\n",
       "      <td>NaN</td>\n",
       "      <td>NaN</td>\n",
       "      <td>0</td>\n",
       "      <td>12</td>\n",
       "      <td>2,008</td>\n",
       "      <td>WD</td>\n",
       "      <td>Normal</td>\n",
       "      <td>250,000</td>\n",
       "    </tr>\n",
       "  </tbody>\n",
       "</table>\n",
       "</div>"
      ],
      "text/plain": [
       "<IPython.core.display.HTML object>"
      ]
     },
     "metadata": {},
     "output_type": "display_data"
    }
   ],
   "source": [
    "df_raw = pd.read_csv('house_prices.csv', na_values='?')\n",
    "df_raw.pprint()"
   ]
  },
  {
   "cell_type": "code",
   "execution_count": 11,
   "id": "2340bd21-5952-44cf-b4ae-32219c37dbeb",
   "metadata": {
    "execution": {
     "iopub.execute_input": "2022-09-05T00:25:17.835132Z",
     "iopub.status.busy": "2022-09-05T00:25:17.834416Z",
     "iopub.status.idle": "2022-09-05T00:25:17.838856Z",
     "shell.execute_reply": "2022-09-05T00:25:17.837943Z",
     "shell.execute_reply.started": "2022-09-05T00:25:17.835112Z"
    }
   },
   "outputs": [],
   "source": [
    "import numpy as np"
   ]
  },
  {
   "cell_type": "code",
   "execution_count": 18,
   "id": "901e3f95-8b3f-483d-8963-d141e5fca59c",
   "metadata": {
    "execution": {
     "iopub.execute_input": "2022-09-05T00:29:07.863235Z",
     "iopub.status.busy": "2022-09-05T00:29:07.862300Z",
     "iopub.status.idle": "2022-09-05T00:29:07.869314Z",
     "shell.execute_reply": "2022-09-05T00:29:07.868441Z",
     "shell.execute_reply.started": "2022-09-05T00:29:07.863214Z"
    },
    "tags": []
   },
   "outputs": [
    {
     "data": {
      "text/plain": [
       "array([0. , 0.1, 0.2, 0.3, 0.4, 0.5, 0.6, 0.7, 0.8, 0.9, 1. ])"
      ]
     },
     "execution_count": 18,
     "metadata": {},
     "output_type": "execute_result"
    }
   ],
   "source": [
    "np.linspace(0,1,11)"
   ]
  },
  {
   "cell_type": "code",
   "execution_count": 25,
   "id": "db154550-4399-478f-b76d-1a4bc7a5b95a",
   "metadata": {
    "execution": {
     "iopub.execute_input": "2022-09-05T00:35:02.326090Z",
     "iopub.status.busy": "2022-09-05T00:35:02.325124Z",
     "iopub.status.idle": "2022-09-05T00:35:02.344029Z",
     "shell.execute_reply": "2022-09-05T00:35:02.343109Z",
     "shell.execute_reply.started": "2022-09-05T00:35:02.326063Z"
    },
    "tags": []
   },
   "outputs": [
    {
     "data": {
      "text/html": [
       "<div>\n",
       "<style scoped>\n",
       "    .dataframe tbody tr th:only-of-type {\n",
       "        vertical-align: middle;\n",
       "    }\n",
       "\n",
       "    .dataframe tbody tr th {\n",
       "        vertical-align: top;\n",
       "    }\n",
       "\n",
       "    .dataframe thead th {\n",
       "        text-align: right;\n",
       "    }\n",
       "</style>\n",
       "<table border=\"1\" class=\"dataframe\">\n",
       "  <thead>\n",
       "    <tr style=\"text-align: right;\">\n",
       "      <th></th>\n",
       "      <th>SalePrice</th>\n",
       "    </tr>\n",
       "  </thead>\n",
       "  <tbody>\n",
       "    <tr>\n",
       "      <th>count</th>\n",
       "      <td>1,460.000</td>\n",
       "    </tr>\n",
       "    <tr>\n",
       "      <th>mean</th>\n",
       "      <td>180,921.196</td>\n",
       "    </tr>\n",
       "    <tr>\n",
       "      <th>std</th>\n",
       "      <td>79,442.503</td>\n",
       "    </tr>\n",
       "    <tr>\n",
       "      <th>min</th>\n",
       "      <td>34,900.000</td>\n",
       "    </tr>\n",
       "    <tr>\n",
       "      <th>0%</th>\n",
       "      <td>34,900.000</td>\n",
       "    </tr>\n",
       "    <tr>\n",
       "      <th>10%</th>\n",
       "      <td>106,475.000</td>\n",
       "    </tr>\n",
       "    <tr>\n",
       "      <th>20%</th>\n",
       "      <td>124,000.000</td>\n",
       "    </tr>\n",
       "    <tr>\n",
       "      <th>30%</th>\n",
       "      <td>135,500.000</td>\n",
       "    </tr>\n",
       "    <tr>\n",
       "      <th>40%</th>\n",
       "      <td>147,000.000</td>\n",
       "    </tr>\n",
       "    <tr>\n",
       "      <th>50%</th>\n",
       "      <td>163,000.000</td>\n",
       "    </tr>\n",
       "    <tr>\n",
       "      <th>60%</th>\n",
       "      <td>179,280.000</td>\n",
       "    </tr>\n",
       "    <tr>\n",
       "      <th>70%</th>\n",
       "      <td>198,620.000</td>\n",
       "    </tr>\n",
       "    <tr>\n",
       "      <th>80%</th>\n",
       "      <td>230,000.000</td>\n",
       "    </tr>\n",
       "    <tr>\n",
       "      <th>90%</th>\n",
       "      <td>278,000.000</td>\n",
       "    </tr>\n",
       "    <tr>\n",
       "      <th>100%</th>\n",
       "      <td>755,000.000</td>\n",
       "    </tr>\n",
       "    <tr>\n",
       "      <th>max</th>\n",
       "      <td>755,000.000</td>\n",
       "    </tr>\n",
       "  </tbody>\n",
       "</table>\n",
       "</div>"
      ],
      "text/plain": [
       "                 SalePrice\n",
       "count            1,460.000\n",
       "mean           180,921.196\n",
       "std             79,442.503\n",
       "min             34,900.000\n",
       "0%              34,900.000\n",
       "10%            106,475.000\n",
       "20%            124,000.000\n",
       "30%            135,500.000\n",
       "40%            147,000.000\n",
       "50%            163,000.000\n",
       "60%            179,280.000\n",
       "70%            198,620.000\n",
       "80%            230,000.000\n",
       "90%            278,000.000\n",
       "100%           755,000.000\n",
       "max            755,000.000"
      ]
     },
     "execution_count": 25,
     "metadata": {},
     "output_type": "execute_result"
    }
   ],
   "source": [
    "df_raw[['SalePrice']].describe(np.linspace(0,1,11))"
   ]
  },
  {
   "cell_type": "code",
   "execution_count": 27,
   "id": "11cae8c9-a643-4605-9924-ded3fe808245",
   "metadata": {
    "execution": {
     "iopub.execute_input": "2022-09-05T00:41:49.375278Z",
     "iopub.status.busy": "2022-09-05T00:41:49.374270Z",
     "iopub.status.idle": "2022-09-05T00:41:49.380805Z",
     "shell.execute_reply": "2022-09-05T00:41:49.379993Z",
     "shell.execute_reply.started": "2022-09-05T00:41:49.375255Z"
    },
    "tags": []
   },
   "outputs": [],
   "source": [
    "target_name = \"SalePrice\"\n",
    "data, target = df_raw.drop(columns=target_name), df_raw[target_name]\n",
    "target = (target > 200_000).astype(int)"
   ]
  },
  {
   "cell_type": "code",
   "execution_count": 29,
   "id": "6065f2ad-a560-408a-be40-cd57c0d1f831",
   "metadata": {
    "execution": {
     "iopub.execute_input": "2022-09-05T00:42:07.843519Z",
     "iopub.status.busy": "2022-09-05T00:42:07.842944Z",
     "iopub.status.idle": "2022-09-05T00:42:07.851961Z",
     "shell.execute_reply": "2022-09-05T00:42:07.850909Z",
     "shell.execute_reply.started": "2022-09-05T00:42:07.843461Z"
    },
    "tags": []
   },
   "outputs": [
    {
     "data": {
      "text/plain": [
       "0    1033\n",
       "1     427\n",
       "Name: SalePrice, dtype: int64"
      ]
     },
     "execution_count": 29,
     "metadata": {},
     "output_type": "execute_result"
    }
   ],
   "source": [
    "target.value_counts()"
   ]
  },
  {
   "cell_type": "markdown",
   "id": "a6b50fa6-364e-44e6-b17c-c28bcf6a3e0b",
   "metadata": {},
   "source": [
    "For the sake of simplicity, we can cherry-pick some features and only retain\n",
    "this arbitrary subset of data:"
   ]
  },
  {
   "cell_type": "code",
   "execution_count": 30,
   "id": "a3292ca7",
   "metadata": {
    "execution": {
     "iopub.execute_input": "2022-09-05T00:43:52.898383Z",
     "iopub.status.busy": "2022-09-05T00:43:52.897702Z",
     "iopub.status.idle": "2022-09-05T00:43:52.903695Z",
     "shell.execute_reply": "2022-09-05T00:43:52.902687Z",
     "shell.execute_reply.started": "2022-09-05T00:43:52.898367Z"
    }
   },
   "outputs": [],
   "source": [
    "numeric_features = ['LotArea', 'FullBath', 'HalfBath']\n",
    "categorical_features = ['Neighborhood', 'HouseStyle']\n",
    "data = data[numeric_features + categorical_features]"
   ]
  },
  {
   "cell_type": "code",
   "execution_count": 31,
   "id": "d8cd61ad-8731-4ba2-8733-4c1c3c961a97",
   "metadata": {
    "execution": {
     "iopub.execute_input": "2022-09-05T00:44:00.846396Z",
     "iopub.status.busy": "2022-09-05T00:44:00.845445Z",
     "iopub.status.idle": "2022-09-05T00:44:00.855966Z",
     "shell.execute_reply": "2022-09-05T00:44:00.854996Z",
     "shell.execute_reply.started": "2022-09-05T00:44:00.846363Z"
    }
   },
   "outputs": [
    {
     "data": {
      "text/html": [
       "<div class=\"dataframe-div\" style=\"max-height: 300px;\"><table border=\"1\" class=\"dataframe\">\n",
       "  <thead>\n",
       "    <tr style=\"text-align: right;\">\n",
       "      <th></th>\n",
       "      <th>LotArea</th>\n",
       "      <th>FullBath</th>\n",
       "      <th>HalfBath</th>\n",
       "      <th>Neighborhood</th>\n",
       "      <th>HouseStyle</th>\n",
       "    </tr>\n",
       "  </thead>\n",
       "  <tbody>\n",
       "    <tr>\n",
       "      <th>0</th>\n",
       "      <td>8,450</td>\n",
       "      <td>2</td>\n",
       "      <td>1</td>\n",
       "      <td>CollgCr</td>\n",
       "      <td>2Story</td>\n",
       "    </tr>\n",
       "    <tr>\n",
       "      <th>1</th>\n",
       "      <td>9,600</td>\n",
       "      <td>2</td>\n",
       "      <td>0</td>\n",
       "      <td>Veenker</td>\n",
       "      <td>1Story</td>\n",
       "    </tr>\n",
       "    <tr>\n",
       "      <th>2</th>\n",
       "      <td>11,250</td>\n",
       "      <td>2</td>\n",
       "      <td>1</td>\n",
       "      <td>CollgCr</td>\n",
       "      <td>2Story</td>\n",
       "    </tr>\n",
       "    <tr>\n",
       "      <th>3</th>\n",
       "      <td>9,550</td>\n",
       "      <td>1</td>\n",
       "      <td>0</td>\n",
       "      <td>Crawfor</td>\n",
       "      <td>2Story</td>\n",
       "    </tr>\n",
       "    <tr>\n",
       "      <th>4</th>\n",
       "      <td>14,260</td>\n",
       "      <td>2</td>\n",
       "      <td>1</td>\n",
       "      <td>NoRidge</td>\n",
       "      <td>2Story</td>\n",
       "    </tr>\n",
       "  </tbody>\n",
       "</table>\n",
       "</div>"
      ],
      "text/plain": [
       "<IPython.core.display.HTML object>"
      ]
     },
     "metadata": {},
     "output_type": "display_data"
    }
   ],
   "source": [
    "data.pprint()"
   ]
  },
  {
   "cell_type": "code",
   "execution_count": 32,
   "id": "02b22736-9019-44a0-a40e-e3924b5d0467",
   "metadata": {
    "execution": {
     "iopub.execute_input": "2022-09-05T00:44:27.277379Z",
     "iopub.status.busy": "2022-09-05T00:44:27.276914Z",
     "iopub.status.idle": "2022-09-05T00:44:27.746005Z",
     "shell.execute_reply": "2022-09-05T00:44:27.745255Z",
     "shell.execute_reply.started": "2022-09-05T00:44:27.277359Z"
    }
   },
   "outputs": [],
   "source": [
    "from sklearn.pipeline import Pipeline\n",
    "from sklearn.impute import SimpleImputer\n",
    "from sklearn.preprocessing import StandardScaler, OneHotEncoder\n",
    "\n",
    "numeric_transformer = Pipeline(steps=[\n",
    "    ('imputer', SimpleImputer(strategy='median')),\n",
    "    ('scaler', StandardScaler(),\n",
    ")])\n",
    "\n",
    "categorical_transformer = OneHotEncoder(handle_unknown='ignore')"
   ]
  },
  {
   "cell_type": "code",
   "execution_count": 33,
   "id": "d2c35264-d13b-40c8-bda9-17f8919a9ccc",
   "metadata": {
    "execution": {
     "iopub.execute_input": "2022-09-05T00:44:29.094387Z",
     "iopub.status.busy": "2022-09-05T00:44:29.093951Z",
     "iopub.status.idle": "2022-09-05T00:44:29.103149Z",
     "shell.execute_reply": "2022-09-05T00:44:29.102013Z",
     "shell.execute_reply.started": "2022-09-05T00:44:29.094365Z"
    }
   },
   "outputs": [],
   "source": [
    "from sklearn.compose import ColumnTransformer\n",
    "\n",
    "preprocessor = ColumnTransformer(transformers=[\n",
    "    ('num', numeric_transformer, numeric_features),\n",
    "    ('cat', categorical_transformer, categorical_features),\n",
    "])"
   ]
  },
  {
   "cell_type": "code",
   "execution_count": 34,
   "id": "249d3771-fc52-4a0c-9c91-7b5ad60cbc5c",
   "metadata": {
    "execution": {
     "iopub.execute_input": "2022-09-05T00:44:35.788866Z",
     "iopub.status.busy": "2022-09-05T00:44:35.788314Z",
     "iopub.status.idle": "2022-09-05T00:44:35.793574Z",
     "shell.execute_reply": "2022-09-05T00:44:35.792229Z",
     "shell.execute_reply.started": "2022-09-05T00:44:35.788850Z"
    }
   },
   "outputs": [],
   "source": [
    "from sklearn.linear_model import LogisticRegression\n",
    "\n",
    "model = Pipeline(steps=[\n",
    "    ('preprocessor', preprocessor),\n",
    "    ('classifier', LogisticRegression()),\n",
    "])"
   ]
  },
  {
   "cell_type": "code",
   "execution_count": 35,
   "id": "f7c7ab08-3b20-4872-9c30-b2e352b1b10d",
   "metadata": {
    "execution": {
     "iopub.execute_input": "2022-09-05T00:44:42.883756Z",
     "iopub.status.busy": "2022-09-05T00:44:42.883167Z",
     "iopub.status.idle": "2022-09-05T00:44:42.915635Z",
     "shell.execute_reply": "2022-09-05T00:44:42.914660Z",
     "shell.execute_reply.started": "2022-09-05T00:44:42.883738Z"
    }
   },
   "outputs": [
    {
     "data": {
      "text/html": [
       "<style>#sk-container-id-1 {color: black;background-color: white;}#sk-container-id-1 pre{padding: 0;}#sk-container-id-1 div.sk-toggleable {background-color: white;}#sk-container-id-1 label.sk-toggleable__label {cursor: pointer;display: block;width: 100%;margin-bottom: 0;padding: 0.3em;box-sizing: border-box;text-align: center;}#sk-container-id-1 label.sk-toggleable__label-arrow:before {content: \"▸\";float: left;margin-right: 0.25em;color: #696969;}#sk-container-id-1 label.sk-toggleable__label-arrow:hover:before {color: black;}#sk-container-id-1 div.sk-estimator:hover label.sk-toggleable__label-arrow:before {color: black;}#sk-container-id-1 div.sk-toggleable__content {max-height: 0;max-width: 0;overflow: hidden;text-align: left;background-color: #f0f8ff;}#sk-container-id-1 div.sk-toggleable__content pre {margin: 0.2em;color: black;border-radius: 0.25em;background-color: #f0f8ff;}#sk-container-id-1 input.sk-toggleable__control:checked~div.sk-toggleable__content {max-height: 200px;max-width: 100%;overflow: auto;}#sk-container-id-1 input.sk-toggleable__control:checked~label.sk-toggleable__label-arrow:before {content: \"▾\";}#sk-container-id-1 div.sk-estimator input.sk-toggleable__control:checked~label.sk-toggleable__label {background-color: #d4ebff;}#sk-container-id-1 div.sk-label input.sk-toggleable__control:checked~label.sk-toggleable__label {background-color: #d4ebff;}#sk-container-id-1 input.sk-hidden--visually {border: 0;clip: rect(1px 1px 1px 1px);clip: rect(1px, 1px, 1px, 1px);height: 1px;margin: -1px;overflow: hidden;padding: 0;position: absolute;width: 1px;}#sk-container-id-1 div.sk-estimator {font-family: monospace;background-color: #f0f8ff;border: 1px dotted black;border-radius: 0.25em;box-sizing: border-box;margin-bottom: 0.5em;}#sk-container-id-1 div.sk-estimator:hover {background-color: #d4ebff;}#sk-container-id-1 div.sk-parallel-item::after {content: \"\";width: 100%;border-bottom: 1px solid gray;flex-grow: 1;}#sk-container-id-1 div.sk-label:hover label.sk-toggleable__label {background-color: #d4ebff;}#sk-container-id-1 div.sk-serial::before {content: \"\";position: absolute;border-left: 1px solid gray;box-sizing: border-box;top: 0;bottom: 0;left: 50%;z-index: 0;}#sk-container-id-1 div.sk-serial {display: flex;flex-direction: column;align-items: center;background-color: white;padding-right: 0.2em;padding-left: 0.2em;position: relative;}#sk-container-id-1 div.sk-item {position: relative;z-index: 1;}#sk-container-id-1 div.sk-parallel {display: flex;align-items: stretch;justify-content: center;background-color: white;position: relative;}#sk-container-id-1 div.sk-item::before, #sk-container-id-1 div.sk-parallel-item::before {content: \"\";position: absolute;border-left: 1px solid gray;box-sizing: border-box;top: 0;bottom: 0;left: 50%;z-index: -1;}#sk-container-id-1 div.sk-parallel-item {display: flex;flex-direction: column;z-index: 1;position: relative;background-color: white;}#sk-container-id-1 div.sk-parallel-item:first-child::after {align-self: flex-end;width: 50%;}#sk-container-id-1 div.sk-parallel-item:last-child::after {align-self: flex-start;width: 50%;}#sk-container-id-1 div.sk-parallel-item:only-child::after {width: 0;}#sk-container-id-1 div.sk-dashed-wrapped {border: 1px dashed gray;margin: 0 0.4em 0.5em 0.4em;box-sizing: border-box;padding-bottom: 0.4em;background-color: white;}#sk-container-id-1 div.sk-label label {font-family: monospace;font-weight: bold;display: inline-block;line-height: 1.2em;}#sk-container-id-1 div.sk-label-container {text-align: center;}#sk-container-id-1 div.sk-container {/* jupyter's `normalize.less` sets `[hidden] { display: none; }` but bootstrap.min.css set `[hidden] { display: none !important; }` so we also need the `!important` here to be able to override the default hidden behavior on the sphinx rendered scikit-learn.org. See: https://github.com/scikit-learn/scikit-learn/issues/21755 */display: inline-block !important;position: relative;}#sk-container-id-1 div.sk-text-repr-fallback {display: none;}</style><div id=\"sk-container-id-1\" class=\"sk-top-container\"><div class=\"sk-text-repr-fallback\"><pre>Pipeline(steps=[(&#x27;preprocessor&#x27;,\n",
       "                 ColumnTransformer(transformers=[(&#x27;num&#x27;,\n",
       "                                                  Pipeline(steps=[(&#x27;imputer&#x27;,\n",
       "                                                                   SimpleImputer(strategy=&#x27;median&#x27;)),\n",
       "                                                                  (&#x27;scaler&#x27;,\n",
       "                                                                   StandardScaler())]),\n",
       "                                                  [&#x27;LotArea&#x27;, &#x27;FullBath&#x27;,\n",
       "                                                   &#x27;HalfBath&#x27;]),\n",
       "                                                 (&#x27;cat&#x27;,\n",
       "                                                  OneHotEncoder(handle_unknown=&#x27;ignore&#x27;),\n",
       "                                                  [&#x27;Neighborhood&#x27;,\n",
       "                                                   &#x27;HouseStyle&#x27;])])),\n",
       "                (&#x27;classifier&#x27;, LogisticRegression())])</pre><b>In a Jupyter environment, please rerun this cell to show the HTML representation or trust the notebook. <br />On GitHub, the HTML representation is unable to render, please try loading this page with nbviewer.org.</b></div><div class=\"sk-container\" hidden><div class=\"sk-item sk-dashed-wrapped\"><div class=\"sk-label-container\"><div class=\"sk-label sk-toggleable\"><input class=\"sk-toggleable__control sk-hidden--visually\" id=\"sk-estimator-id-1\" type=\"checkbox\" ><label for=\"sk-estimator-id-1\" class=\"sk-toggleable__label sk-toggleable__label-arrow\">Pipeline</label><div class=\"sk-toggleable__content\"><pre>Pipeline(steps=[(&#x27;preprocessor&#x27;,\n",
       "                 ColumnTransformer(transformers=[(&#x27;num&#x27;,\n",
       "                                                  Pipeline(steps=[(&#x27;imputer&#x27;,\n",
       "                                                                   SimpleImputer(strategy=&#x27;median&#x27;)),\n",
       "                                                                  (&#x27;scaler&#x27;,\n",
       "                                                                   StandardScaler())]),\n",
       "                                                  [&#x27;LotArea&#x27;, &#x27;FullBath&#x27;,\n",
       "                                                   &#x27;HalfBath&#x27;]),\n",
       "                                                 (&#x27;cat&#x27;,\n",
       "                                                  OneHotEncoder(handle_unknown=&#x27;ignore&#x27;),\n",
       "                                                  [&#x27;Neighborhood&#x27;,\n",
       "                                                   &#x27;HouseStyle&#x27;])])),\n",
       "                (&#x27;classifier&#x27;, LogisticRegression())])</pre></div></div></div><div class=\"sk-serial\"><div class=\"sk-item sk-dashed-wrapped\"><div class=\"sk-label-container\"><div class=\"sk-label sk-toggleable\"><input class=\"sk-toggleable__control sk-hidden--visually\" id=\"sk-estimator-id-2\" type=\"checkbox\" ><label for=\"sk-estimator-id-2\" class=\"sk-toggleable__label sk-toggleable__label-arrow\">preprocessor: ColumnTransformer</label><div class=\"sk-toggleable__content\"><pre>ColumnTransformer(transformers=[(&#x27;num&#x27;,\n",
       "                                 Pipeline(steps=[(&#x27;imputer&#x27;,\n",
       "                                                  SimpleImputer(strategy=&#x27;median&#x27;)),\n",
       "                                                 (&#x27;scaler&#x27;, StandardScaler())]),\n",
       "                                 [&#x27;LotArea&#x27;, &#x27;FullBath&#x27;, &#x27;HalfBath&#x27;]),\n",
       "                                (&#x27;cat&#x27;, OneHotEncoder(handle_unknown=&#x27;ignore&#x27;),\n",
       "                                 [&#x27;Neighborhood&#x27;, &#x27;HouseStyle&#x27;])])</pre></div></div></div><div class=\"sk-parallel\"><div class=\"sk-parallel-item\"><div class=\"sk-item\"><div class=\"sk-label-container\"><div class=\"sk-label sk-toggleable\"><input class=\"sk-toggleable__control sk-hidden--visually\" id=\"sk-estimator-id-3\" type=\"checkbox\" ><label for=\"sk-estimator-id-3\" class=\"sk-toggleable__label sk-toggleable__label-arrow\">num</label><div class=\"sk-toggleable__content\"><pre>[&#x27;LotArea&#x27;, &#x27;FullBath&#x27;, &#x27;HalfBath&#x27;]</pre></div></div></div><div class=\"sk-serial\"><div class=\"sk-item\"><div class=\"sk-serial\"><div class=\"sk-item\"><div class=\"sk-estimator sk-toggleable\"><input class=\"sk-toggleable__control sk-hidden--visually\" id=\"sk-estimator-id-4\" type=\"checkbox\" ><label for=\"sk-estimator-id-4\" class=\"sk-toggleable__label sk-toggleable__label-arrow\">SimpleImputer</label><div class=\"sk-toggleable__content\"><pre>SimpleImputer(strategy=&#x27;median&#x27;)</pre></div></div></div><div class=\"sk-item\"><div class=\"sk-estimator sk-toggleable\"><input class=\"sk-toggleable__control sk-hidden--visually\" id=\"sk-estimator-id-5\" type=\"checkbox\" ><label for=\"sk-estimator-id-5\" class=\"sk-toggleable__label sk-toggleable__label-arrow\">StandardScaler</label><div class=\"sk-toggleable__content\"><pre>StandardScaler()</pre></div></div></div></div></div></div></div></div><div class=\"sk-parallel-item\"><div class=\"sk-item\"><div class=\"sk-label-container\"><div class=\"sk-label sk-toggleable\"><input class=\"sk-toggleable__control sk-hidden--visually\" id=\"sk-estimator-id-6\" type=\"checkbox\" ><label for=\"sk-estimator-id-6\" class=\"sk-toggleable__label sk-toggleable__label-arrow\">cat</label><div class=\"sk-toggleable__content\"><pre>[&#x27;Neighborhood&#x27;, &#x27;HouseStyle&#x27;]</pre></div></div></div><div class=\"sk-serial\"><div class=\"sk-item\"><div class=\"sk-estimator sk-toggleable\"><input class=\"sk-toggleable__control sk-hidden--visually\" id=\"sk-estimator-id-7\" type=\"checkbox\" ><label for=\"sk-estimator-id-7\" class=\"sk-toggleable__label sk-toggleable__label-arrow\">OneHotEncoder</label><div class=\"sk-toggleable__content\"><pre>OneHotEncoder(handle_unknown=&#x27;ignore&#x27;)</pre></div></div></div></div></div></div></div></div><div class=\"sk-item\"><div class=\"sk-estimator sk-toggleable\"><input class=\"sk-toggleable__control sk-hidden--visually\" id=\"sk-estimator-id-8\" type=\"checkbox\" ><label for=\"sk-estimator-id-8\" class=\"sk-toggleable__label sk-toggleable__label-arrow\">LogisticRegression</label><div class=\"sk-toggleable__content\"><pre>LogisticRegression()</pre></div></div></div></div></div></div></div>"
      ],
      "text/plain": [
       "Pipeline(steps=[('preprocessor',\n",
       "                 ColumnTransformer(transformers=[('num',\n",
       "                                                  Pipeline(steps=[('imputer',\n",
       "                                                                   SimpleImputer(strategy='median')),\n",
       "                                                                  ('scaler',\n",
       "                                                                   StandardScaler())]),\n",
       "                                                  ['LotArea', 'FullBath',\n",
       "                                                   'HalfBath']),\n",
       "                                                 ('cat',\n",
       "                                                  OneHotEncoder(handle_unknown='ignore'),\n",
       "                                                  ['Neighborhood',\n",
       "                                                   'HouseStyle'])])),\n",
       "                ('classifier', LogisticRegression())])"
      ]
     },
     "execution_count": 35,
     "metadata": {},
     "output_type": "execute_result"
    }
   ],
   "source": [
    "from sklearn import set_config\n",
    "\n",
    "set_config(display='diagram')\n",
    "model"
   ]
  },
  {
   "cell_type": "code",
   "execution_count": 36,
   "id": "deb9e797-7150-4eb9-ba07-8bb0e739ee89",
   "metadata": {
    "execution": {
     "iopub.execute_input": "2022-09-05T00:45:15.359590Z",
     "iopub.status.busy": "2022-09-05T00:45:15.358653Z",
     "iopub.status.idle": "2022-09-05T00:45:15.497937Z",
     "shell.execute_reply": "2022-09-05T00:45:15.496853Z",
     "shell.execute_reply.started": "2022-09-05T00:45:15.359543Z"
    }
   },
   "outputs": [
    {
     "name": "stdout",
     "output_type": "stream",
     "text": [
      "The mean cross-validation accuracy is: 0.859 +/- 0.018\n"
     ]
    }
   ],
   "source": [
    "from sklearn.model_selection import cross_validate\n",
    "\n",
    "cv_results = cross_validate(model, data, target, cv=5)\n",
    "scores = cv_results[\"test_score\"]\n",
    "print(\"The mean cross-validation accuracy is: \"\n",
    "      f\"{scores.mean():.3f} +/- {scores.std():.3f}\")"
   ]
  },
  {
   "cell_type": "markdown",
   "id": "237be003-86ec-4899-a9f0-100c1a723e15",
   "metadata": {},
   "source": [
    "```{note}\n",
    "In this case, around 86% of the times the pipeline correctly predicts whether\n",
    "the price of a house is above or below the 200_000 dollars threshold. But\n",
    "be aware that this score was obtained by picking some features by hand, which\n",
    "is not necessarily the best thing we can do for this classification task. In this\n",
    "example we can hope that fitting a complex machine learning pipelines on a\n",
    "richer set of features can improve upon this performance level.\n",
    "\n",
    "Reducing a price estimation problem to a binary classification problem with a\n",
    "single threshold at 200_000 dollars is probably too coarse to be useful in\n",
    "in practice. Treating this problem as a regression problem is probably a better\n",
    "idea. We will see later in this MOOC how to train and evaluate the performance\n",
    "of various regression models.\n",
    "```"
   ]
  },
  {
   "cell_type": "code",
   "execution_count": null,
   "id": "b4766e94-8b06-48b7-8905-41f0e6f4782c",
   "metadata": {},
   "outputs": [],
   "source": []
  },
  {
   "cell_type": "code",
   "execution_count": null,
   "id": "4f550197-c5ca-4bf6-9e7f-dcd68457c03c",
   "metadata": {},
   "outputs": [],
   "source": []
  },
  {
   "cell_type": "code",
   "execution_count": null,
   "id": "79394581-a215-440d-9adc-8fa1f44b896a",
   "metadata": {},
   "outputs": [],
   "source": []
  },
  {
   "cell_type": "code",
   "execution_count": null,
   "id": "cd931325-19f6-4ef1-9628-86a371334c8d",
   "metadata": {},
   "outputs": [],
   "source": []
  },
  {
   "cell_type": "code",
   "execution_count": 8,
   "id": "7c80cea7-a196-4d07-b8a1-1106a0c706ba",
   "metadata": {
    "execution": {
     "iopub.execute_input": "2022-09-05T00:21:27.811401Z",
     "iopub.status.busy": "2022-09-05T00:21:27.810971Z",
     "iopub.status.idle": "2022-09-05T00:21:27.817030Z",
     "shell.execute_reply": "2022-09-05T00:21:27.815519Z",
     "shell.execute_reply.started": "2022-09-05T00:21:27.811380Z"
    }
   },
   "outputs": [
    {
     "name": "stdout",
     "output_type": "stream",
     "text": [
      "/home/ncortes/lab/github/stxpro_py_ds_books_summary/explore\n",
      "popd -> ~/lab/github/stxpro_py_ds_books_summary/explore\n"
     ]
    }
   ],
   "source": [
    "%popd"
   ]
  },
  {
   "cell_type": "code",
   "execution_count": 1,
   "id": "e03c64af-c7ef-4fdc-b2d1-baa1a0e6d7e7",
   "metadata": {
    "execution": {
     "iopub.execute_input": "2022-09-05T00:23:06.935002Z",
     "iopub.status.busy": "2022-09-05T00:23:06.934754Z",
     "iopub.status.idle": "2022-09-05T00:23:07.053792Z",
     "shell.execute_reply": "2022-09-05T00:23:07.052721Z",
     "shell.execute_reply.started": "2022-09-05T00:23:06.934938Z"
    },
    "tags": []
   },
   "outputs": [
    {
     "name": "stdout",
     "output_type": "stream",
     "text": [
      "total 24\n",
      "drwxr-xr-x 3 ncortes ncortes 4096 Sep  4 19:23 .\n",
      "drwxr-xr-x 5 ncortes ncortes 4096 Sep  4 19:11 ..\n",
      "drwxr-xr-x 2 ncortes ncortes 4096 Sep  4 19:12 .ipynb_checkpoints\n",
      "-rw-r--r-- 1 ncortes ncortes 8701 Sep  4 19:23 regresion.ipynb\n"
     ]
    }
   ],
   "source": [
    "!ls -la"
   ]
  }
 ],
 "metadata": {
  "kernelspec": {
   "display_name": "py3106",
   "language": "python",
   "name": "py310"
  },
  "language_info": {
   "codemirror_mode": {
    "name": "ipython",
    "version": 3
   },
   "file_extension": ".py",
   "mimetype": "text/x-python",
   "name": "python",
   "nbconvert_exporter": "python",
   "pygments_lexer": "ipython3",
   "version": "3.10.6"
  }
 },
 "nbformat": 4,
 "nbformat_minor": 5
}
