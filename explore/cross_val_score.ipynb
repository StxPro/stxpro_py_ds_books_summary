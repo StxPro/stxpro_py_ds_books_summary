{
 "cells": [
  {
   "cell_type": "code",
   "execution_count": 1,
   "id": "4f0da6f0-e7f3-47d9-a147-39c0d49fbd2f",
   "metadata": {
    "execution": {
     "iopub.execute_input": "2022-09-20T03:36:42.175667Z",
     "iopub.status.busy": "2022-09-20T03:36:42.174545Z",
     "iopub.status.idle": "2022-09-20T03:36:43.194414Z",
     "shell.execute_reply": "2022-09-20T03:36:43.193721Z",
     "shell.execute_reply.started": "2022-09-20T03:36:42.175590Z"
    },
    "tags": []
   },
   "outputs": [],
   "source": [
    "from sklearn.datasets import make_classification\n",
    "from sklearn.model_selection import RepeatedStratifiedKFold, cross_val_score\n",
    "from xgboost import XGBRFClassifier"
   ]
  },
  {
   "cell_type": "code",
   "execution_count": 2,
   "id": "c4b72c94-cfba-4446-b193-addac56fc748",
   "metadata": {
    "execution": {
     "iopub.execute_input": "2022-09-20T03:36:44.833118Z",
     "iopub.status.busy": "2022-09-20T03:36:44.832787Z",
     "iopub.status.idle": "2022-09-20T03:36:44.837915Z",
     "shell.execute_reply": "2022-09-20T03:36:44.837046Z",
     "shell.execute_reply.started": "2022-09-20T03:36:44.833103Z"
    },
    "tags": []
   },
   "outputs": [],
   "source": [
    "# get the dataset\n",
    "def get_dataset():\n",
    "    X, y = make_classification(\n",
    "        n_samples=1000, n_features=20, n_informative=15, n_redundant=5, random_state=7\n",
    "    )\n",
    "    return X, y"
   ]
  },
  {
   "cell_type": "code",
   "execution_count": 11,
   "id": "03ef28c7-83d7-4d72-b736-48cd014507aa",
   "metadata": {
    "execution": {
     "iopub.execute_input": "2022-09-20T03:40:16.382924Z",
     "iopub.status.busy": "2022-09-20T03:40:16.381973Z",
     "iopub.status.idle": "2022-09-20T03:40:16.388708Z",
     "shell.execute_reply": "2022-09-20T03:40:16.387353Z",
     "shell.execute_reply.started": "2022-09-20T03:40:16.382894Z"
    },
    "tags": []
   },
   "outputs": [],
   "source": [
    "# get a list of models to evaluate\n",
    "def get_models(model):\n",
    "    models = dict()\n",
    "    for v in arange(0.1, 1.1, 0.1):\n",
    "        key = \"%.1f\" % v\n",
    "        models[key] = model(\n",
    "            n_estimators=100, subsample=0.9, colsample_bynode=v\n",
    "        )\n",
    "    return models"
   ]
  },
  {
   "cell_type": "code",
   "execution_count": 4,
   "id": "a5806530-f1e1-4605-acc5-18338a0129ab",
   "metadata": {
    "execution": {
     "iopub.execute_input": "2022-09-20T03:36:46.534501Z",
     "iopub.status.busy": "2022-09-20T03:36:46.534215Z",
     "iopub.status.idle": "2022-09-20T03:36:46.539215Z",
     "shell.execute_reply": "2022-09-20T03:36:46.538428Z",
     "shell.execute_reply.started": "2022-09-20T03:36:46.534486Z"
    },
    "tags": []
   },
   "outputs": [],
   "source": [
    "# evaluate a give model using cross-validation\n",
    "def evaluate_model(model, X, y):\n",
    "    # define the model evaluation procedure\n",
    "    cv = RepeatedStratifiedKFold(n_splits=10, n_repeats=3, random_state=1)\n",
    "    # evaluate the model\n",
    "    scores = cross_val_score(model, X, y, scoring=\"accuracy\", cv=cv, n_jobs=-1)\n",
    "    return scores"
   ]
  },
  {
   "cell_type": "code",
   "execution_count": 12,
   "id": "1630b2c1-b3d3-4da7-933f-7c828a355441",
   "metadata": {
    "execution": {
     "iopub.execute_input": "2022-09-20T03:40:29.411643Z",
     "iopub.status.busy": "2022-09-20T03:40:29.411389Z",
     "iopub.status.idle": "2022-09-20T03:40:37.962515Z",
     "shell.execute_reply": "2022-09-20T03:40:37.961571Z",
     "shell.execute_reply.started": "2022-09-20T03:40:29.411629Z"
    },
    "tags": []
   },
   "outputs": [
    {
     "name": "stdout",
     "output_type": "stream",
     "text": [
      ">0.1 0.889 (0.032)\n",
      ">0.2 0.891 (0.036)\n",
      ">0.3 0.887 (0.032)\n",
      ">0.4 0.886 (0.030)\n",
      ">0.5 0.878 (0.033)\n",
      ">0.6 0.874 (0.031)\n",
      ">0.7 0.869 (0.027)\n",
      ">0.8 0.867 (0.027)\n",
      ">0.9 0.856 (0.023)\n",
      ">1.0 0.846 (0.027)\n"
     ]
    }
   ],
   "source": [
    "from numpy import arange, mean, std\n",
    "\n",
    "# define dataset\n",
    "X, y = get_dataset()\n",
    "# get the models to evaluate\n",
    "models = get_models(XGBRFClassifier)\n",
    "# evaluate the models and store results\n",
    "results, names = list(), list()\n",
    "for name, model in models.items():\n",
    "    # evaluate the model and collect the results\n",
    "    scores = evaluate_model(model, X, y)\n",
    "    # store the results\n",
    "    results.append(scores)\n",
    "    names.append(name)\n",
    "    # summarize performance along the way\n",
    "    print(\">%s %.3f (%.3f)\" % (name, mean(scores), std(scores)))"
   ]
  },
  {
   "cell_type": "code",
   "execution_count": 9,
   "id": "81081af6-e30a-4337-bf83-162d2ee2b2a7",
   "metadata": {
    "execution": {
     "iopub.execute_input": "2022-09-20T03:39:32.007860Z",
     "iopub.status.busy": "2022-09-20T03:39:32.007230Z",
     "iopub.status.idle": "2022-09-20T03:39:32.424254Z",
     "shell.execute_reply": "2022-09-20T03:39:32.423408Z",
     "shell.execute_reply.started": "2022-09-20T03:39:32.007828Z"
    },
    "tags": []
   },
   "outputs": [
    {
     "data": {
      "text/plain": [
       "0.8909999999999999"
      ]
     },
     "execution_count": 9,
     "metadata": {},
     "output_type": "execute_result"
    }
   ],
   "source": [
    "cv = RepeatedStratifiedKFold(n_splits=10, n_repeats=3, random_state=1)\n",
    "model = XGBRFClassifier(n_estimators=100, subsample=0.9, colsample_bynode=0.2)\n",
    "score = cross_val_score(model, X, y, scoring=\"accuracy\", cv=cv, n_jobs=-1)\n",
    "mean(score)"
   ]
  },
  {
   "cell_type": "code",
   "execution_count": 13,
   "id": "16bfd7e8-c249-4db7-9aca-d3178b5ad336",
   "metadata": {
    "execution": {
     "iopub.execute_input": "2022-09-20T03:40:52.205168Z",
     "iopub.status.busy": "2022-09-20T03:40:52.204051Z",
     "iopub.status.idle": "2022-09-20T03:40:58.193657Z",
     "shell.execute_reply": "2022-09-20T03:40:58.192774Z",
     "shell.execute_reply.started": "2022-09-20T03:40:52.205134Z"
    }
   },
   "outputs": [
    {
     "name": "stdout",
     "output_type": "stream",
     "text": [
      ">0.1 0.924 (0.028)\n",
      ">0.2 0.919 (0.026)\n",
      ">0.3 0.930 (0.029)\n",
      ">0.4 0.927 (0.024)\n",
      ">0.5 0.927 (0.031)\n",
      ">0.6 0.930 (0.029)\n",
      ">0.7 0.926 (0.029)\n",
      ">0.8 0.928 (0.026)\n",
      ">0.9 0.927 (0.030)\n",
      ">1.0 0.928 (0.025)\n"
     ]
    }
   ],
   "source": [
    "from numpy import arange, mean, std\n",
    "\n",
    "# define dataset\n",
    "X, y = get_dataset()\n",
    "# get the models to evaluate\n",
    "models = get_models(XGBClassifier)\n",
    "# evaluate the models and store results\n",
    "results, names = list(), list()\n",
    "for name, model in models.items():\n",
    "    # evaluate the model and collect the results\n",
    "    scores = evaluate_model(model, X, y)\n",
    "    # store the results\n",
    "    results.append(scores)\n",
    "    names.append(name)\n",
    "    # summarize performance along the way\n",
    "    print(\">%s %.3f (%.3f)\" % (name, mean(scores), std(scores)))"
   ]
  },
  {
   "cell_type": "code",
   "execution_count": 14,
   "id": "b3b0a8f5-a340-4333-ae41-cc69459bb745",
   "metadata": {
    "execution": {
     "iopub.execute_input": "2022-09-20T03:41:40.318460Z",
     "iopub.status.busy": "2022-09-20T03:41:40.317898Z",
     "iopub.status.idle": "2022-09-20T03:41:40.728180Z",
     "shell.execute_reply": "2022-09-20T03:41:40.727431Z",
     "shell.execute_reply.started": "2022-09-20T03:41:40.318429Z"
    },
    "tags": []
   },
   "outputs": [
    {
     "data": {
      "text/plain": [
       "0.9303333333333333"
      ]
     },
     "execution_count": 14,
     "metadata": {},
     "output_type": "execute_result"
    }
   ],
   "source": [
    "from xgboost import XGBClassifier\n",
    "\n",
    "cv = RepeatedStratifiedKFold(n_splits=10, n_repeats=3, random_state=1)\n",
    "model = XGBClassifier(n_estimators=100, subsample=0.9, colsample_bynode=0.3)\n",
    "score = cross_val_score(model, X, y, scoring=\"accuracy\", cv=cv, n_jobs=-1)\n",
    "mean(score)"
   ]
  },
  {
   "cell_type": "code",
   "execution_count": 16,
   "id": "ab945090-a42f-4012-9a07-e2ceef1114e3",
   "metadata": {
    "execution": {
     "iopub.execute_input": "2022-09-20T03:46:15.018948Z",
     "iopub.status.busy": "2022-09-20T03:46:15.017980Z",
     "iopub.status.idle": "2022-09-20T03:46:15.025284Z",
     "shell.execute_reply": "2022-09-20T03:46:15.023971Z",
     "shell.execute_reply.started": "2022-09-20T03:46:15.018904Z"
    },
    "tags": []
   },
   "outputs": [],
   "source": [
    "from sklearn.model_selection import GridSearchCV"
   ]
  },
  {
   "cell_type": "code",
   "execution_count": 31,
   "id": "6ef091c0-63cf-405b-839f-4bc7d0625d9f",
   "metadata": {
    "execution": {
     "iopub.execute_input": "2022-09-20T04:40:36.225965Z",
     "iopub.status.busy": "2022-09-20T04:40:36.225660Z",
     "iopub.status.idle": "2022-09-20T04:40:36.231135Z",
     "shell.execute_reply": "2022-09-20T04:40:36.230159Z",
     "shell.execute_reply.started": "2022-09-20T04:40:36.225949Z"
    },
    "tags": []
   },
   "outputs": [],
   "source": [
    "parametros = {\"n_estimators\": [10, 50, 100, 150, 200, 300, 400], \n",
    "              \"subsample\": [0.9, 0.8, 0.7],\n",
    "              'colsample_bynode': arange(0.1, 1.1, 0.1)\n",
    "             }"
   ]
  },
  {
   "cell_type": "code",
   "execution_count": 21,
   "id": "c8e61672-de33-449b-8ca7-3fe7c7ddbc00",
   "metadata": {
    "execution": {
     "iopub.execute_input": "2022-09-20T04:20:17.235352Z",
     "iopub.status.busy": "2022-09-20T04:20:17.234868Z",
     "iopub.status.idle": "2022-09-20T04:33:04.874673Z",
     "shell.execute_reply": "2022-09-20T04:33:04.873780Z",
     "shell.execute_reply.started": "2022-09-20T04:20:17.235326Z"
    },
    "tags": []
   },
   "outputs": [
    {
     "data": {
      "text/html": [
       "<style>#sk-container-id-2 {color: black;background-color: white;}#sk-container-id-2 pre{padding: 0;}#sk-container-id-2 div.sk-toggleable {background-color: white;}#sk-container-id-2 label.sk-toggleable__label {cursor: pointer;display: block;width: 100%;margin-bottom: 0;padding: 0.3em;box-sizing: border-box;text-align: center;}#sk-container-id-2 label.sk-toggleable__label-arrow:before {content: \"▸\";float: left;margin-right: 0.25em;color: #696969;}#sk-container-id-2 label.sk-toggleable__label-arrow:hover:before {color: black;}#sk-container-id-2 div.sk-estimator:hover label.sk-toggleable__label-arrow:before {color: black;}#sk-container-id-2 div.sk-toggleable__content {max-height: 0;max-width: 0;overflow: hidden;text-align: left;background-color: #f0f8ff;}#sk-container-id-2 div.sk-toggleable__content pre {margin: 0.2em;color: black;border-radius: 0.25em;background-color: #f0f8ff;}#sk-container-id-2 input.sk-toggleable__control:checked~div.sk-toggleable__content {max-height: 200px;max-width: 100%;overflow: auto;}#sk-container-id-2 input.sk-toggleable__control:checked~label.sk-toggleable__label-arrow:before {content: \"▾\";}#sk-container-id-2 div.sk-estimator input.sk-toggleable__control:checked~label.sk-toggleable__label {background-color: #d4ebff;}#sk-container-id-2 div.sk-label input.sk-toggleable__control:checked~label.sk-toggleable__label {background-color: #d4ebff;}#sk-container-id-2 input.sk-hidden--visually {border: 0;clip: rect(1px 1px 1px 1px);clip: rect(1px, 1px, 1px, 1px);height: 1px;margin: -1px;overflow: hidden;padding: 0;position: absolute;width: 1px;}#sk-container-id-2 div.sk-estimator {font-family: monospace;background-color: #f0f8ff;border: 1px dotted black;border-radius: 0.25em;box-sizing: border-box;margin-bottom: 0.5em;}#sk-container-id-2 div.sk-estimator:hover {background-color: #d4ebff;}#sk-container-id-2 div.sk-parallel-item::after {content: \"\";width: 100%;border-bottom: 1px solid gray;flex-grow: 1;}#sk-container-id-2 div.sk-label:hover label.sk-toggleable__label {background-color: #d4ebff;}#sk-container-id-2 div.sk-serial::before {content: \"\";position: absolute;border-left: 1px solid gray;box-sizing: border-box;top: 0;bottom: 0;left: 50%;z-index: 0;}#sk-container-id-2 div.sk-serial {display: flex;flex-direction: column;align-items: center;background-color: white;padding-right: 0.2em;padding-left: 0.2em;position: relative;}#sk-container-id-2 div.sk-item {position: relative;z-index: 1;}#sk-container-id-2 div.sk-parallel {display: flex;align-items: stretch;justify-content: center;background-color: white;position: relative;}#sk-container-id-2 div.sk-item::before, #sk-container-id-2 div.sk-parallel-item::before {content: \"\";position: absolute;border-left: 1px solid gray;box-sizing: border-box;top: 0;bottom: 0;left: 50%;z-index: -1;}#sk-container-id-2 div.sk-parallel-item {display: flex;flex-direction: column;z-index: 1;position: relative;background-color: white;}#sk-container-id-2 div.sk-parallel-item:first-child::after {align-self: flex-end;width: 50%;}#sk-container-id-2 div.sk-parallel-item:last-child::after {align-self: flex-start;width: 50%;}#sk-container-id-2 div.sk-parallel-item:only-child::after {width: 0;}#sk-container-id-2 div.sk-dashed-wrapped {border: 1px dashed gray;margin: 0 0.4em 0.5em 0.4em;box-sizing: border-box;padding-bottom: 0.4em;background-color: white;}#sk-container-id-2 div.sk-label label {font-family: monospace;font-weight: bold;display: inline-block;line-height: 1.2em;}#sk-container-id-2 div.sk-label-container {text-align: center;}#sk-container-id-2 div.sk-container {/* jupyter's `normalize.less` sets `[hidden] { display: none; }` but bootstrap.min.css set `[hidden] { display: none !important; }` so we also need the `!important` here to be able to override the default hidden behavior on the sphinx rendered scikit-learn.org. See: https://github.com/scikit-learn/scikit-learn/issues/21755 */display: inline-block !important;position: relative;}#sk-container-id-2 div.sk-text-repr-fallback {display: none;}</style><div id=\"sk-container-id-2\" class=\"sk-top-container\"><div class=\"sk-text-repr-fallback\"><pre>GridSearchCV(cv=RepeatedStratifiedKFold(n_repeats=3, n_splits=10, random_state=1),\n",
       "             estimator=XGBClassifier(base_score=None, booster=None,\n",
       "                                     callbacks=None, colsample_bylevel=None,\n",
       "                                     colsample_bynode=None,\n",
       "                                     colsample_bytree=None,\n",
       "                                     early_stopping_rounds=None,\n",
       "                                     enable_categorical=False, eval_metric=None,\n",
       "                                     gamma=None, gpu_id=None, grow_policy=None,\n",
       "                                     importance_type=None,\n",
       "                                     inter...\n",
       "                                     max_leaves=None, min_child_weight=None,\n",
       "                                     missing=nan, monotone_constraints=None,\n",
       "                                     n_estimators=100, n_jobs=None,\n",
       "                                     num_parallel_tree=None, predictor=None,\n",
       "                                     random_state=None, reg_alpha=None,\n",
       "                                     reg_lambda=None, ...),\n",
       "             param_grid={&#x27;colsample_bynode&#x27;: array([0.1, 0.2, 0.3, 0.4, 0.5, 0.6, 0.7, 0.8, 0.9, 1. ]),\n",
       "                         &#x27;n_estimators&#x27;: [10, 50, 100, 150, 200, 300, 400],\n",
       "                         &#x27;subsample&#x27;: [0.9, 0.8, 0.7]},\n",
       "             scoring=&#x27;accuracy&#x27;)</pre><b>In a Jupyter environment, please rerun this cell to show the HTML representation or trust the notebook. <br />On GitHub, the HTML representation is unable to render, please try loading this page with nbviewer.org.</b></div><div class=\"sk-container\" hidden><div class=\"sk-item sk-dashed-wrapped\"><div class=\"sk-label-container\"><div class=\"sk-label sk-toggleable\"><input class=\"sk-toggleable__control sk-hidden--visually\" id=\"sk-estimator-id-4\" type=\"checkbox\" ><label for=\"sk-estimator-id-4\" class=\"sk-toggleable__label sk-toggleable__label-arrow\">GridSearchCV</label><div class=\"sk-toggleable__content\"><pre>GridSearchCV(cv=RepeatedStratifiedKFold(n_repeats=3, n_splits=10, random_state=1),\n",
       "             estimator=XGBClassifier(base_score=None, booster=None,\n",
       "                                     callbacks=None, colsample_bylevel=None,\n",
       "                                     colsample_bynode=None,\n",
       "                                     colsample_bytree=None,\n",
       "                                     early_stopping_rounds=None,\n",
       "                                     enable_categorical=False, eval_metric=None,\n",
       "                                     gamma=None, gpu_id=None, grow_policy=None,\n",
       "                                     importance_type=None,\n",
       "                                     inter...\n",
       "                                     max_leaves=None, min_child_weight=None,\n",
       "                                     missing=nan, monotone_constraints=None,\n",
       "                                     n_estimators=100, n_jobs=None,\n",
       "                                     num_parallel_tree=None, predictor=None,\n",
       "                                     random_state=None, reg_alpha=None,\n",
       "                                     reg_lambda=None, ...),\n",
       "             param_grid={&#x27;colsample_bynode&#x27;: array([0.1, 0.2, 0.3, 0.4, 0.5, 0.6, 0.7, 0.8, 0.9, 1. ]),\n",
       "                         &#x27;n_estimators&#x27;: [10, 50, 100, 150, 200, 300, 400],\n",
       "                         &#x27;subsample&#x27;: [0.9, 0.8, 0.7]},\n",
       "             scoring=&#x27;accuracy&#x27;)</pre></div></div></div><div class=\"sk-parallel\"><div class=\"sk-parallel-item\"><div class=\"sk-item\"><div class=\"sk-label-container\"><div class=\"sk-label sk-toggleable\"><input class=\"sk-toggleable__control sk-hidden--visually\" id=\"sk-estimator-id-5\" type=\"checkbox\" ><label for=\"sk-estimator-id-5\" class=\"sk-toggleable__label sk-toggleable__label-arrow\">estimator: XGBClassifier</label><div class=\"sk-toggleable__content\"><pre>XGBClassifier(base_score=None, booster=None, callbacks=None,\n",
       "              colsample_bylevel=None, colsample_bynode=None,\n",
       "              colsample_bytree=None, early_stopping_rounds=None,\n",
       "              enable_categorical=False, eval_metric=None, gamma=None,\n",
       "              gpu_id=None, grow_policy=None, importance_type=None,\n",
       "              interaction_constraints=None, learning_rate=None, max_bin=None,\n",
       "              max_cat_to_onehot=None, max_delta_step=None, max_depth=None,\n",
       "              max_leaves=None, min_child_weight=None, missing=nan,\n",
       "              monotone_constraints=None, n_estimators=100, n_jobs=None,\n",
       "              num_parallel_tree=None, predictor=None, random_state=None,\n",
       "              reg_alpha=None, reg_lambda=None, ...)</pre></div></div></div><div class=\"sk-serial\"><div class=\"sk-item\"><div class=\"sk-estimator sk-toggleable\"><input class=\"sk-toggleable__control sk-hidden--visually\" id=\"sk-estimator-id-6\" type=\"checkbox\" ><label for=\"sk-estimator-id-6\" class=\"sk-toggleable__label sk-toggleable__label-arrow\">XGBClassifier</label><div class=\"sk-toggleable__content\"><pre>XGBClassifier(base_score=None, booster=None, callbacks=None,\n",
       "              colsample_bylevel=None, colsample_bynode=None,\n",
       "              colsample_bytree=None, early_stopping_rounds=None,\n",
       "              enable_categorical=False, eval_metric=None, gamma=None,\n",
       "              gpu_id=None, grow_policy=None, importance_type=None,\n",
       "              interaction_constraints=None, learning_rate=None, max_bin=None,\n",
       "              max_cat_to_onehot=None, max_delta_step=None, max_depth=None,\n",
       "              max_leaves=None, min_child_weight=None, missing=nan,\n",
       "              monotone_constraints=None, n_estimators=100, n_jobs=None,\n",
       "              num_parallel_tree=None, predictor=None, random_state=None,\n",
       "              reg_alpha=None, reg_lambda=None, ...)</pre></div></div></div></div></div></div></div></div></div></div>"
      ],
      "text/plain": [
       "GridSearchCV(cv=RepeatedStratifiedKFold(n_repeats=3, n_splits=10, random_state=1),\n",
       "             estimator=XGBClassifier(base_score=None, booster=None,\n",
       "                                     callbacks=None, colsample_bylevel=None,\n",
       "                                     colsample_bynode=None,\n",
       "                                     colsample_bytree=None,\n",
       "                                     early_stopping_rounds=None,\n",
       "                                     enable_categorical=False, eval_metric=None,\n",
       "                                     gamma=None, gpu_id=None, grow_policy=None,\n",
       "                                     importance_type=None,\n",
       "                                     inter...\n",
       "                                     max_leaves=None, min_child_weight=None,\n",
       "                                     missing=nan, monotone_constraints=None,\n",
       "                                     n_estimators=100, n_jobs=None,\n",
       "                                     num_parallel_tree=None, predictor=None,\n",
       "                                     random_state=None, reg_alpha=None,\n",
       "                                     reg_lambda=None, ...),\n",
       "             param_grid={'colsample_bynode': array([0.1, 0.2, 0.3, 0.4, 0.5, 0.6, 0.7, 0.8, 0.9, 1. ]),\n",
       "                         'n_estimators': [10, 50, 100, 150, 200, 300, 400],\n",
       "                         'subsample': [0.9, 0.8, 0.7]},\n",
       "             scoring='accuracy')"
      ]
     },
     "execution_count": 21,
     "metadata": {},
     "output_type": "execute_result"
    }
   ],
   "source": [
    "modelo_gs = GridSearchCV(XGBClassifier(), param_grid=parametros,\n",
    "                         cv = cv, scoring='accuracy')\n",
    "modelo_gs.fit(X, y)"
   ]
  },
  {
   "cell_type": "code",
   "execution_count": 33,
   "id": "495a7fa5-4cb0-4a6a-8576-d6201a8fe9ee",
   "metadata": {
    "execution": {
     "iopub.execute_input": "2022-09-20T04:43:12.126038Z",
     "iopub.status.busy": "2022-09-20T04:43:12.125601Z",
     "iopub.status.idle": "2022-09-20T04:45:26.947885Z",
     "shell.execute_reply": "2022-09-20T04:45:26.947042Z",
     "shell.execute_reply.started": "2022-09-20T04:43:12.125986Z"
    },
    "tags": []
   },
   "outputs": [
    {
     "name": "stdout",
     "output_type": "stream",
     "text": [
      "Fitting 30 folds for each of 210 candidates, totalling 6300 fits\n"
     ]
    },
    {
     "data": {
      "text/html": [
       "<style>#sk-container-id-9 {color: black;background-color: white;}#sk-container-id-9 pre{padding: 0;}#sk-container-id-9 div.sk-toggleable {background-color: white;}#sk-container-id-9 label.sk-toggleable__label {cursor: pointer;display: block;width: 100%;margin-bottom: 0;padding: 0.3em;box-sizing: border-box;text-align: center;}#sk-container-id-9 label.sk-toggleable__label-arrow:before {content: \"▸\";float: left;margin-right: 0.25em;color: #696969;}#sk-container-id-9 label.sk-toggleable__label-arrow:hover:before {color: black;}#sk-container-id-9 div.sk-estimator:hover label.sk-toggleable__label-arrow:before {color: black;}#sk-container-id-9 div.sk-toggleable__content {max-height: 0;max-width: 0;overflow: hidden;text-align: left;background-color: #f0f8ff;}#sk-container-id-9 div.sk-toggleable__content pre {margin: 0.2em;color: black;border-radius: 0.25em;background-color: #f0f8ff;}#sk-container-id-9 input.sk-toggleable__control:checked~div.sk-toggleable__content {max-height: 200px;max-width: 100%;overflow: auto;}#sk-container-id-9 input.sk-toggleable__control:checked~label.sk-toggleable__label-arrow:before {content: \"▾\";}#sk-container-id-9 div.sk-estimator input.sk-toggleable__control:checked~label.sk-toggleable__label {background-color: #d4ebff;}#sk-container-id-9 div.sk-label input.sk-toggleable__control:checked~label.sk-toggleable__label {background-color: #d4ebff;}#sk-container-id-9 input.sk-hidden--visually {border: 0;clip: rect(1px 1px 1px 1px);clip: rect(1px, 1px, 1px, 1px);height: 1px;margin: -1px;overflow: hidden;padding: 0;position: absolute;width: 1px;}#sk-container-id-9 div.sk-estimator {font-family: monospace;background-color: #f0f8ff;border: 1px dotted black;border-radius: 0.25em;box-sizing: border-box;margin-bottom: 0.5em;}#sk-container-id-9 div.sk-estimator:hover {background-color: #d4ebff;}#sk-container-id-9 div.sk-parallel-item::after {content: \"\";width: 100%;border-bottom: 1px solid gray;flex-grow: 1;}#sk-container-id-9 div.sk-label:hover label.sk-toggleable__label {background-color: #d4ebff;}#sk-container-id-9 div.sk-serial::before {content: \"\";position: absolute;border-left: 1px solid gray;box-sizing: border-box;top: 0;bottom: 0;left: 50%;z-index: 0;}#sk-container-id-9 div.sk-serial {display: flex;flex-direction: column;align-items: center;background-color: white;padding-right: 0.2em;padding-left: 0.2em;position: relative;}#sk-container-id-9 div.sk-item {position: relative;z-index: 1;}#sk-container-id-9 div.sk-parallel {display: flex;align-items: stretch;justify-content: center;background-color: white;position: relative;}#sk-container-id-9 div.sk-item::before, #sk-container-id-9 div.sk-parallel-item::before {content: \"\";position: absolute;border-left: 1px solid gray;box-sizing: border-box;top: 0;bottom: 0;left: 50%;z-index: -1;}#sk-container-id-9 div.sk-parallel-item {display: flex;flex-direction: column;z-index: 1;position: relative;background-color: white;}#sk-container-id-9 div.sk-parallel-item:first-child::after {align-self: flex-end;width: 50%;}#sk-container-id-9 div.sk-parallel-item:last-child::after {align-self: flex-start;width: 50%;}#sk-container-id-9 div.sk-parallel-item:only-child::after {width: 0;}#sk-container-id-9 div.sk-dashed-wrapped {border: 1px dashed gray;margin: 0 0.4em 0.5em 0.4em;box-sizing: border-box;padding-bottom: 0.4em;background-color: white;}#sk-container-id-9 div.sk-label label {font-family: monospace;font-weight: bold;display: inline-block;line-height: 1.2em;}#sk-container-id-9 div.sk-label-container {text-align: center;}#sk-container-id-9 div.sk-container {/* jupyter's `normalize.less` sets `[hidden] { display: none; }` but bootstrap.min.css set `[hidden] { display: none !important; }` so we also need the `!important` here to be able to override the default hidden behavior on the sphinx rendered scikit-learn.org. See: https://github.com/scikit-learn/scikit-learn/issues/21755 */display: inline-block !important;position: relative;}#sk-container-id-9 div.sk-text-repr-fallback {display: none;}</style><div id=\"sk-container-id-9\" class=\"sk-top-container\"><div class=\"sk-text-repr-fallback\"><pre>GridSearchCV(cv=RepeatedStratifiedKFold(n_repeats=3, n_splits=10, random_state=1),\n",
       "             estimator=XGBClassifier(base_score=None, booster=None,\n",
       "                                     callbacks=None, colsample_bylevel=None,\n",
       "                                     colsample_bynode=None,\n",
       "                                     colsample_bytree=None,\n",
       "                                     early_stopping_rounds=None,\n",
       "                                     enable_categorical=False, eval_metric=None,\n",
       "                                     gamma=None, gpu_id=None, grow_policy=None,\n",
       "                                     importance_type=None,\n",
       "                                     inter...\n",
       "                                     max_leaves=None, min_child_weight=None,\n",
       "                                     missing=nan, monotone_constraints=None,\n",
       "                                     n_estimators=100, n_jobs=None,\n",
       "                                     num_parallel_tree=None, predictor=None,\n",
       "                                     random_state=None, reg_alpha=None,\n",
       "                                     reg_lambda=None, ...),\n",
       "             n_jobs=-1,\n",
       "             param_grid={&#x27;colsample_bynode&#x27;: array([0.1, 0.2, 0.3, 0.4, 0.5, 0.6, 0.7, 0.8, 0.9, 1. ]),\n",
       "                         &#x27;n_estimators&#x27;: [10, 50, 100, 150, 200, 300, 400],\n",
       "                         &#x27;subsample&#x27;: [0.9, 0.8, 0.7]},\n",
       "             scoring=&#x27;accuracy&#x27;, verbose=1)</pre><b>In a Jupyter environment, please rerun this cell to show the HTML representation or trust the notebook. <br />On GitHub, the HTML representation is unable to render, please try loading this page with nbviewer.org.</b></div><div class=\"sk-container\" hidden><div class=\"sk-item sk-dashed-wrapped\"><div class=\"sk-label-container\"><div class=\"sk-label sk-toggleable\"><input class=\"sk-toggleable__control sk-hidden--visually\" id=\"sk-estimator-id-25\" type=\"checkbox\" ><label for=\"sk-estimator-id-25\" class=\"sk-toggleable__label sk-toggleable__label-arrow\">GridSearchCV</label><div class=\"sk-toggleable__content\"><pre>GridSearchCV(cv=RepeatedStratifiedKFold(n_repeats=3, n_splits=10, random_state=1),\n",
       "             estimator=XGBClassifier(base_score=None, booster=None,\n",
       "                                     callbacks=None, colsample_bylevel=None,\n",
       "                                     colsample_bynode=None,\n",
       "                                     colsample_bytree=None,\n",
       "                                     early_stopping_rounds=None,\n",
       "                                     enable_categorical=False, eval_metric=None,\n",
       "                                     gamma=None, gpu_id=None, grow_policy=None,\n",
       "                                     importance_type=None,\n",
       "                                     inter...\n",
       "                                     max_leaves=None, min_child_weight=None,\n",
       "                                     missing=nan, monotone_constraints=None,\n",
       "                                     n_estimators=100, n_jobs=None,\n",
       "                                     num_parallel_tree=None, predictor=None,\n",
       "                                     random_state=None, reg_alpha=None,\n",
       "                                     reg_lambda=None, ...),\n",
       "             n_jobs=-1,\n",
       "             param_grid={&#x27;colsample_bynode&#x27;: array([0.1, 0.2, 0.3, 0.4, 0.5, 0.6, 0.7, 0.8, 0.9, 1. ]),\n",
       "                         &#x27;n_estimators&#x27;: [10, 50, 100, 150, 200, 300, 400],\n",
       "                         &#x27;subsample&#x27;: [0.9, 0.8, 0.7]},\n",
       "             scoring=&#x27;accuracy&#x27;, verbose=1)</pre></div></div></div><div class=\"sk-parallel\"><div class=\"sk-parallel-item\"><div class=\"sk-item\"><div class=\"sk-label-container\"><div class=\"sk-label sk-toggleable\"><input class=\"sk-toggleable__control sk-hidden--visually\" id=\"sk-estimator-id-26\" type=\"checkbox\" ><label for=\"sk-estimator-id-26\" class=\"sk-toggleable__label sk-toggleable__label-arrow\">estimator: XGBClassifier</label><div class=\"sk-toggleable__content\"><pre>XGBClassifier(base_score=None, booster=None, callbacks=None,\n",
       "              colsample_bylevel=None, colsample_bynode=None,\n",
       "              colsample_bytree=None, early_stopping_rounds=None,\n",
       "              enable_categorical=False, eval_metric=None, gamma=None,\n",
       "              gpu_id=None, grow_policy=None, importance_type=None,\n",
       "              interaction_constraints=None, learning_rate=None, max_bin=None,\n",
       "              max_cat_to_onehot=None, max_delta_step=None, max_depth=None,\n",
       "              max_leaves=None, min_child_weight=None, missing=nan,\n",
       "              monotone_constraints=None, n_estimators=100, n_jobs=None,\n",
       "              num_parallel_tree=None, predictor=None, random_state=None,\n",
       "              reg_alpha=None, reg_lambda=None, ...)</pre></div></div></div><div class=\"sk-serial\"><div class=\"sk-item\"><div class=\"sk-estimator sk-toggleable\"><input class=\"sk-toggleable__control sk-hidden--visually\" id=\"sk-estimator-id-27\" type=\"checkbox\" ><label for=\"sk-estimator-id-27\" class=\"sk-toggleable__label sk-toggleable__label-arrow\">XGBClassifier</label><div class=\"sk-toggleable__content\"><pre>XGBClassifier(base_score=None, booster=None, callbacks=None,\n",
       "              colsample_bylevel=None, colsample_bynode=None,\n",
       "              colsample_bytree=None, early_stopping_rounds=None,\n",
       "              enable_categorical=False, eval_metric=None, gamma=None,\n",
       "              gpu_id=None, grow_policy=None, importance_type=None,\n",
       "              interaction_constraints=None, learning_rate=None, max_bin=None,\n",
       "              max_cat_to_onehot=None, max_delta_step=None, max_depth=None,\n",
       "              max_leaves=None, min_child_weight=None, missing=nan,\n",
       "              monotone_constraints=None, n_estimators=100, n_jobs=None,\n",
       "              num_parallel_tree=None, predictor=None, random_state=None,\n",
       "              reg_alpha=None, reg_lambda=None, ...)</pre></div></div></div></div></div></div></div></div></div></div>"
      ],
      "text/plain": [
       "GridSearchCV(cv=RepeatedStratifiedKFold(n_repeats=3, n_splits=10, random_state=1),\n",
       "             estimator=XGBClassifier(base_score=None, booster=None,\n",
       "                                     callbacks=None, colsample_bylevel=None,\n",
       "                                     colsample_bynode=None,\n",
       "                                     colsample_bytree=None,\n",
       "                                     early_stopping_rounds=None,\n",
       "                                     enable_categorical=False, eval_metric=None,\n",
       "                                     gamma=None, gpu_id=None, grow_policy=None,\n",
       "                                     importance_type=None,\n",
       "                                     inter...\n",
       "                                     max_leaves=None, min_child_weight=None,\n",
       "                                     missing=nan, monotone_constraints=None,\n",
       "                                     n_estimators=100, n_jobs=None,\n",
       "                                     num_parallel_tree=None, predictor=None,\n",
       "                                     random_state=None, reg_alpha=None,\n",
       "                                     reg_lambda=None, ...),\n",
       "             n_jobs=-1,\n",
       "             param_grid={'colsample_bynode': array([0.1, 0.2, 0.3, 0.4, 0.5, 0.6, 0.7, 0.8, 0.9, 1. ]),\n",
       "                         'n_estimators': [10, 50, 100, 150, 200, 300, 400],\n",
       "                         'subsample': [0.9, 0.8, 0.7]},\n",
       "             scoring='accuracy', verbose=1)"
      ]
     },
     "execution_count": 33,
     "metadata": {},
     "output_type": "execute_result"
    }
   ],
   "source": [
    "modelo_gs = GridSearchCV(XGBClassifier(), param_grid=parametros,\n",
    "                         cv = cv, scoring='accuracy', n_jobs=-1, verbose=1)\n",
    "modelo_gs.fit(X, y)"
   ]
  },
  {
   "cell_type": "code",
   "execution_count": 34,
   "id": "d37d4f13-1f6e-409b-99f2-dc38604fd03b",
   "metadata": {
    "execution": {
     "iopub.execute_input": "2022-09-20T04:45:26.949629Z",
     "iopub.status.busy": "2022-09-20T04:45:26.949130Z",
     "iopub.status.idle": "2022-09-20T04:45:26.953867Z",
     "shell.execute_reply": "2022-09-20T04:45:26.952955Z",
     "shell.execute_reply.started": "2022-09-20T04:45:26.949609Z"
    },
    "tags": []
   },
   "outputs": [
    {
     "name": "stdout",
     "output_type": "stream",
     "text": [
      "{'colsample_bynode': 0.2, 'n_estimators': 150, 'subsample': 0.8} \n",
      "accuracy: 0.93\n"
     ]
    }
   ],
   "source": [
    "print(modelo_gs.best_params_, \"\\naccuracy: {}\".format(round(modelo_gs.best_score_,2)))"
   ]
  },
  {
   "cell_type": "code",
   "execution_count": 22,
   "id": "1070f759-ddef-4b56-8dbc-cf92e3b2d188",
   "metadata": {
    "execution": {
     "iopub.execute_input": "2022-09-20T04:33:04.876812Z",
     "iopub.status.busy": "2022-09-20T04:33:04.876154Z",
     "iopub.status.idle": "2022-09-20T04:33:04.881352Z",
     "shell.execute_reply": "2022-09-20T04:33:04.880624Z",
     "shell.execute_reply.started": "2022-09-20T04:33:04.876795Z"
    },
    "tags": []
   },
   "outputs": [
    {
     "name": "stdout",
     "output_type": "stream",
     "text": [
      "{'colsample_bynode': 0.2, 'n_estimators': 150, 'subsample': 0.8} \n",
      "accuracy: 0.93\n"
     ]
    }
   ],
   "source": [
    "print(modelo_gs.best_params_, \"\\naccuracy: {}\".format(round(modelo_gs.best_score_,2)))"
   ]
  },
  {
   "cell_type": "code",
   "execution_count": 23,
   "id": "67766f39-c1df-4a65-868a-a2b086ae567c",
   "metadata": {
    "execution": {
     "iopub.execute_input": "2022-09-20T04:34:24.996593Z",
     "iopub.status.busy": "2022-09-20T04:34:24.996057Z",
     "iopub.status.idle": "2022-09-20T04:34:26.766069Z",
     "shell.execute_reply": "2022-09-20T04:34:26.765019Z",
     "shell.execute_reply.started": "2022-09-20T04:34:24.996562Z"
    },
    "tags": []
   },
   "outputs": [
    {
     "data": {
      "text/plain": [
       "0.934"
      ]
     },
     "execution_count": 23,
     "metadata": {},
     "output_type": "execute_result"
    }
   ],
   "source": [
    "from xgboost import XGBClassifier\n",
    "\n",
    "cv = RepeatedStratifiedKFold(n_splits=10, n_repeats=3, random_state=1)\n",
    "model = XGBClassifier(n_estimators=150, subsample=0.8, colsample_bynode=0.2)\n",
    "score = cross_val_score(model, X, y, scoring=\"accuracy\", cv=cv, n_jobs=-1)\n",
    "mean(score)"
   ]
  },
  {
   "cell_type": "code",
   "execution_count": null,
   "id": "10f5ba93-b013-40f2-92f8-501ba6fa3c96",
   "metadata": {},
   "outputs": [],
   "source": []
  },
  {
   "cell_type": "code",
   "execution_count": null,
   "id": "956f0a1e-cebd-469b-91ea-de074c03b05f",
   "metadata": {},
   "outputs": [],
   "source": []
  },
  {
   "cell_type": "code",
   "execution_count": null,
   "id": "b456ee14-2f84-4328-af8b-9a8605822828",
   "metadata": {},
   "outputs": [],
   "source": []
  },
  {
   "cell_type": "code",
   "execution_count": null,
   "id": "eec567dc-cb9f-4ff4-b621-af8aa6061f34",
   "metadata": {},
   "outputs": [],
   "source": []
  }
 ],
 "metadata": {
  "kernelspec": {
   "display_name": "py3106",
   "language": "python",
   "name": "py310"
  },
  "language_info": {
   "codemirror_mode": {
    "name": "ipython",
    "version": 3
   },
   "file_extension": ".py",
   "mimetype": "text/x-python",
   "name": "python",
   "nbconvert_exporter": "python",
   "pygments_lexer": "ipython3",
   "version": "3.10.6"
  }
 },
 "nbformat": 4,
 "nbformat_minor": 5
}
