{
 "cells": [
  {
   "cell_type": "code",
   "execution_count": 11,
   "id": "4f0da6f0-e7f3-47d9-a147-39c0d49fbd2f",
   "metadata": {
    "execution": {
     "iopub.execute_input": "2022-09-07T03:15:15.125571Z",
     "iopub.status.busy": "2022-09-07T03:15:15.124478Z",
     "iopub.status.idle": "2022-09-07T03:15:15.128985Z",
     "shell.execute_reply": "2022-09-07T03:15:15.128171Z",
     "shell.execute_reply.started": "2022-09-07T03:15:15.125554Z"
    },
    "tags": []
   },
   "outputs": [],
   "source": [
    "from sklearn.datasets import make_classification\n",
    "from sklearn.model_selection import RepeatedStratifiedKFold, cross_val_score\n",
    "from xgboost import XGBRFClassifier"
   ]
  },
  {
   "cell_type": "code",
   "execution_count": 8,
   "id": "c4b72c94-cfba-4446-b193-addac56fc748",
   "metadata": {
    "execution": {
     "iopub.execute_input": "2022-09-07T03:11:27.471950Z",
     "iopub.status.busy": "2022-09-07T03:11:27.471300Z",
     "iopub.status.idle": "2022-09-07T03:11:27.476035Z",
     "shell.execute_reply": "2022-09-07T03:11:27.474996Z",
     "shell.execute_reply.started": "2022-09-07T03:11:27.471935Z"
    },
    "tags": []
   },
   "outputs": [],
   "source": [
    "# get the dataset\n",
    "def get_dataset():\n",
    "    X, y = make_classification(\n",
    "        n_samples=1000, n_features=20, n_informative=15, n_redundant=5, random_state=7\n",
    "    )\n",
    "    return X, y"
   ]
  },
  {
   "cell_type": "code",
   "execution_count": 9,
   "id": "03ef28c7-83d7-4d72-b736-48cd014507aa",
   "metadata": {
    "execution": {
     "iopub.execute_input": "2022-09-07T03:11:27.776901Z",
     "iopub.status.busy": "2022-09-07T03:11:27.776647Z",
     "iopub.status.idle": "2022-09-07T03:11:27.780958Z",
     "shell.execute_reply": "2022-09-07T03:11:27.780174Z",
     "shell.execute_reply.started": "2022-09-07T03:11:27.776886Z"
    },
    "tags": []
   },
   "outputs": [],
   "source": [
    "# get a list of models to evaluate\n",
    "def get_models():\n",
    "    models = dict()\n",
    "    for v in arange(0.1, 1.1, 0.1):\n",
    "        key = \"%.1f\" % v\n",
    "        models[key] = XGBRFClassifier(\n",
    "            n_estimators=100, subsample=0.9, colsample_bynode=v\n",
    "        )\n",
    "    return models"
   ]
  },
  {
   "cell_type": "code",
   "execution_count": 12,
   "id": "a5806530-f1e1-4605-acc5-18338a0129ab",
   "metadata": {
    "execution": {
     "iopub.execute_input": "2022-09-07T03:15:19.028430Z",
     "iopub.status.busy": "2022-09-07T03:15:19.028021Z",
     "iopub.status.idle": "2022-09-07T03:15:19.032478Z",
     "shell.execute_reply": "2022-09-07T03:15:19.031452Z",
     "shell.execute_reply.started": "2022-09-07T03:15:19.028415Z"
    },
    "tags": []
   },
   "outputs": [],
   "source": [
    "# evaluate a give model using cross-validation\n",
    "def evaluate_model(model, X, y):\n",
    "    # define the model evaluation procedure\n",
    "    cv = RepeatedStratifiedKFold(n_splits=10, n_repeats=3, random_state=1)\n",
    "    # evaluate the model\n",
    "    scores = cross_val_score(model, X, y, scoring=\"accuracy\", cv=cv, n_jobs=-1)\n",
    "    return scores"
   ]
  },
  {
   "cell_type": "code",
   "execution_count": 17,
   "id": "9cda0e1d-c932-4d4e-a340-586ba8fbee43",
   "metadata": {
    "execution": {
     "iopub.execute_input": "2022-09-07T03:18:51.222498Z",
     "iopub.status.busy": "2022-09-07T03:18:51.222256Z",
     "iopub.status.idle": "2022-09-07T03:18:51.227992Z",
     "shell.execute_reply": "2022-09-07T03:18:51.227167Z",
     "shell.execute_reply.started": "2022-09-07T03:18:51.222482Z"
    },
    "tags": []
   },
   "outputs": [
    {
     "data": {
      "text/plain": [
       "array([0.1, 0.2, 0.3, 0.4, 0.5, 0.6, 0.7, 0.8, 0.9, 1. ])"
      ]
     },
     "execution_count": 17,
     "metadata": {},
     "output_type": "execute_result"
    }
   ],
   "source": [
    "arange(0.1, 1.1, 0.1)"
   ]
  },
  {
   "cell_type": "code",
   "execution_count": 15,
   "id": "1630b2c1-b3d3-4da7-933f-7c828a355441",
   "metadata": {
    "execution": {
     "iopub.execute_input": "2022-09-07T03:16:34.903658Z",
     "iopub.status.busy": "2022-09-07T03:16:34.903237Z",
     "iopub.status.idle": "2022-09-07T03:16:42.888530Z",
     "shell.execute_reply": "2022-09-07T03:16:42.887484Z",
     "shell.execute_reply.started": "2022-09-07T03:16:34.903642Z"
    },
    "tags": []
   },
   "outputs": [
    {
     "name": "stdout",
     "output_type": "stream",
     "text": [
      ">0.1 0.889 (0.032)\n",
      ">0.2 0.891 (0.036)\n",
      ">0.3 0.887 (0.032)\n",
      ">0.4 0.886 (0.030)\n",
      ">0.5 0.878 (0.033)\n",
      ">0.6 0.874 (0.031)\n",
      ">0.7 0.869 (0.027)\n",
      ">0.8 0.867 (0.027)\n",
      ">0.9 0.856 (0.023)\n",
      ">1.0 0.846 (0.027)\n"
     ]
    }
   ],
   "source": [
    "from numpy import arange, mean, std\n",
    "\n",
    "# define dataset\n",
    "X, y = get_dataset()\n",
    "# get the models to evaluate\n",
    "models = get_models()\n",
    "# evaluate the models and store results\n",
    "results, names = list(), list()\n",
    "for name, model in models.items():\n",
    "    # evaluate the model and collect the results\n",
    "    scores = evaluate_model(model, X, y)\n",
    "    # store the results\n",
    "    results.append(scores)\n",
    "    names.append(name)\n",
    "    # summarize performance along the way\n",
    "    print(\">%s %.3f (%.3f)\" % (name, mean(scores), std(scores)))"
   ]
  },
  {
   "cell_type": "code",
   "execution_count": 22,
   "id": "81081af6-e30a-4337-bf83-162d2ee2b2a7",
   "metadata": {
    "execution": {
     "iopub.execute_input": "2022-09-07T03:29:03.318678Z",
     "iopub.status.busy": "2022-09-07T03:29:03.317674Z",
     "iopub.status.idle": "2022-09-07T03:29:04.308991Z",
     "shell.execute_reply": "2022-09-07T03:29:04.308164Z",
     "shell.execute_reply.started": "2022-09-07T03:29:03.318647Z"
    },
    "tags": []
   },
   "outputs": [
    {
     "data": {
      "text/plain": [
       "0.8736666666666666"
      ]
     },
     "execution_count": 22,
     "metadata": {},
     "output_type": "execute_result"
    }
   ],
   "source": [
    "cv = RepeatedStratifiedKFold(n_splits=10, n_repeats=3, random_state=1)\n",
    "model = XGBRFClassifier()\n",
    "score = cross_val_score(model, X, y, scoring=\"accuracy\", cv=cv, n_jobs=-1)\n",
    "mean(score)"
   ]
  },
  {
   "cell_type": "code",
   "execution_count": 23,
   "id": "b3b0a8f5-a340-4333-ae41-cc69459bb745",
   "metadata": {
    "execution": {
     "iopub.execute_input": "2022-09-07T03:29:30.679143Z",
     "iopub.status.busy": "2022-09-07T03:29:30.678702Z",
     "iopub.status.idle": "2022-09-07T03:29:31.478951Z",
     "shell.execute_reply": "2022-09-07T03:29:31.477821Z",
     "shell.execute_reply.started": "2022-09-07T03:29:30.679123Z"
    },
    "tags": []
   },
   "outputs": [
    {
     "data": {
      "text/plain": [
       "0.9246666666666666"
      ]
     },
     "execution_count": 23,
     "metadata": {},
     "output_type": "execute_result"
    }
   ],
   "source": [
    "from xgboost import XGBClassifier\n",
    "\n",
    "cv = RepeatedStratifiedKFold(n_splits=10, n_repeats=3, random_state=1)\n",
    "model = XGBClassifier()\n",
    "score = cross_val_score(model, X, y, scoring=\"accuracy\", cv=cv, n_jobs=-1)\n",
    "mean(score)"
   ]
  },
  {
   "cell_type": "code",
   "execution_count": null,
   "id": "1070f759-ddef-4b56-8dbc-cf92e3b2d188",
   "metadata": {},
   "outputs": [],
   "source": []
  },
  {
   "cell_type": "code",
   "execution_count": null,
   "id": "10f5ba93-b013-40f2-92f8-501ba6fa3c96",
   "metadata": {},
   "outputs": [],
   "source": []
  }
 ],
 "metadata": {
  "kernelspec": {
   "display_name": "py3106",
   "language": "python",
   "name": "py310"
  },
  "language_info": {
   "codemirror_mode": {
    "name": "ipython",
    "version": 3
   },
   "file_extension": ".py",
   "mimetype": "text/x-python",
   "name": "python",
   "nbconvert_exporter": "python",
   "pygments_lexer": "ipython3",
   "version": "3.10.6"
  }
 },
 "nbformat": 4,
 "nbformat_minor": 5
}
