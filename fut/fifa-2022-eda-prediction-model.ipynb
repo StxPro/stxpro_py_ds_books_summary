{
 "cells": [
  {
   "cell_type": "markdown",
   "metadata": {},
   "source": [
    "# FIFA 2022\n",
    "   Project by : P M Ranasinghe"
   ]
  },
  {
   "cell_type": "markdown",
   "metadata": {},
   "source": [
    "### Analyzing the Available Data"
   ]
  },
  {
   "cell_type": "code",
   "execution_count": 1,
   "metadata": {
    "execution": {
     "iopub.execute_input": "2022-11-16T06:33:30.565473Z",
     "iopub.status.busy": "2022-11-16T06:33:30.565018Z",
     "iopub.status.idle": "2022-11-16T06:33:32.360580Z",
     "shell.execute_reply": "2022-11-16T06:33:32.359558Z",
     "shell.execute_reply.started": "2022-11-16T06:33:30.565392Z"
    },
    "tags": []
   },
   "outputs": [],
   "source": [
    "#Importing required libraries\n",
    "\n",
    "import pandas as pd\n",
    "import numpy as np\n",
    "import seaborn as sns\n",
    "from matplotlib import pyplot as plt\n",
    "import random\n",
    "from IPython.display import Image\n",
    "random_num=122"
   ]
  },
  {
   "cell_type": "code",
   "execution_count": 2,
   "metadata": {
    "execution": {
     "iopub.execute_input": "2022-11-16T06:33:32.365440Z",
     "iopub.status.busy": "2022-11-16T06:33:32.365224Z",
     "iopub.status.idle": "2022-11-16T06:33:32.429155Z",
     "shell.execute_reply": "2022-11-16T06:33:32.428275Z",
     "shell.execute_reply.started": "2022-11-16T06:33:32.365423Z"
    },
    "tags": []
   },
   "outputs": [
    {
     "data": {
      "text/html": [
       "<div>\n",
       "<style scoped>\n",
       "    .dataframe tbody tr th:only-of-type {\n",
       "        vertical-align: middle;\n",
       "    }\n",
       "\n",
       "    .dataframe tbody tr th {\n",
       "        vertical-align: top;\n",
       "    }\n",
       "\n",
       "    .dataframe thead th {\n",
       "        text-align: right;\n",
       "    }\n",
       "</style>\n",
       "<table border=\"1\" class=\"dataframe\">\n",
       "  <thead>\n",
       "    <tr style=\"text-align: right;\">\n",
       "      <th></th>\n",
       "      <th>date</th>\n",
       "      <th>home_team</th>\n",
       "      <th>away_team</th>\n",
       "      <th>home_score</th>\n",
       "      <th>away_score</th>\n",
       "      <th>tournament</th>\n",
       "      <th>city</th>\n",
       "      <th>country</th>\n",
       "      <th>neutral</th>\n",
       "    </tr>\n",
       "  </thead>\n",
       "  <tbody>\n",
       "    <tr>\n",
       "      <th>0</th>\n",
       "      <td>1872-11-30</td>\n",
       "      <td>Scotland</td>\n",
       "      <td>England</td>\n",
       "      <td>0.0</td>\n",
       "      <td>0.0</td>\n",
       "      <td>Friendly</td>\n",
       "      <td>Glasgow</td>\n",
       "      <td>Scotland</td>\n",
       "      <td>False</td>\n",
       "    </tr>\n",
       "    <tr>\n",
       "      <th>1</th>\n",
       "      <td>1873-03-08</td>\n",
       "      <td>England</td>\n",
       "      <td>Scotland</td>\n",
       "      <td>4.0</td>\n",
       "      <td>2.0</td>\n",
       "      <td>Friendly</td>\n",
       "      <td>London</td>\n",
       "      <td>England</td>\n",
       "      <td>False</td>\n",
       "    </tr>\n",
       "    <tr>\n",
       "      <th>2</th>\n",
       "      <td>1874-03-07</td>\n",
       "      <td>Scotland</td>\n",
       "      <td>England</td>\n",
       "      <td>2.0</td>\n",
       "      <td>1.0</td>\n",
       "      <td>Friendly</td>\n",
       "      <td>Glasgow</td>\n",
       "      <td>Scotland</td>\n",
       "      <td>False</td>\n",
       "    </tr>\n",
       "    <tr>\n",
       "      <th>3</th>\n",
       "      <td>1875-03-06</td>\n",
       "      <td>England</td>\n",
       "      <td>Scotland</td>\n",
       "      <td>2.0</td>\n",
       "      <td>2.0</td>\n",
       "      <td>Friendly</td>\n",
       "      <td>London</td>\n",
       "      <td>England</td>\n",
       "      <td>False</td>\n",
       "    </tr>\n",
       "    <tr>\n",
       "      <th>4</th>\n",
       "      <td>1876-03-04</td>\n",
       "      <td>Scotland</td>\n",
       "      <td>England</td>\n",
       "      <td>3.0</td>\n",
       "      <td>0.0</td>\n",
       "      <td>Friendly</td>\n",
       "      <td>Glasgow</td>\n",
       "      <td>Scotland</td>\n",
       "      <td>False</td>\n",
       "    </tr>\n",
       "    <tr>\n",
       "      <th>5</th>\n",
       "      <td>1876-03-25</td>\n",
       "      <td>Scotland</td>\n",
       "      <td>Wales</td>\n",
       "      <td>4.0</td>\n",
       "      <td>0.0</td>\n",
       "      <td>Friendly</td>\n",
       "      <td>Glasgow</td>\n",
       "      <td>Scotland</td>\n",
       "      <td>False</td>\n",
       "    </tr>\n",
       "    <tr>\n",
       "      <th>6</th>\n",
       "      <td>1877-03-03</td>\n",
       "      <td>England</td>\n",
       "      <td>Scotland</td>\n",
       "      <td>1.0</td>\n",
       "      <td>3.0</td>\n",
       "      <td>Friendly</td>\n",
       "      <td>London</td>\n",
       "      <td>England</td>\n",
       "      <td>False</td>\n",
       "    </tr>\n",
       "    <tr>\n",
       "      <th>7</th>\n",
       "      <td>1877-03-05</td>\n",
       "      <td>Wales</td>\n",
       "      <td>Scotland</td>\n",
       "      <td>0.0</td>\n",
       "      <td>2.0</td>\n",
       "      <td>Friendly</td>\n",
       "      <td>Wrexham</td>\n",
       "      <td>Wales</td>\n",
       "      <td>False</td>\n",
       "    </tr>\n",
       "    <tr>\n",
       "      <th>8</th>\n",
       "      <td>1878-03-02</td>\n",
       "      <td>Scotland</td>\n",
       "      <td>England</td>\n",
       "      <td>7.0</td>\n",
       "      <td>2.0</td>\n",
       "      <td>Friendly</td>\n",
       "      <td>Glasgow</td>\n",
       "      <td>Scotland</td>\n",
       "      <td>False</td>\n",
       "    </tr>\n",
       "    <tr>\n",
       "      <th>9</th>\n",
       "      <td>1878-03-23</td>\n",
       "      <td>Scotland</td>\n",
       "      <td>Wales</td>\n",
       "      <td>9.0</td>\n",
       "      <td>0.0</td>\n",
       "      <td>Friendly</td>\n",
       "      <td>Glasgow</td>\n",
       "      <td>Scotland</td>\n",
       "      <td>False</td>\n",
       "    </tr>\n",
       "  </tbody>\n",
       "</table>\n",
       "</div>"
      ],
      "text/plain": [
       "         date home_team away_team  home_score  away_score tournament     city  \\\n",
       "0  1872-11-30  Scotland   England         0.0         0.0   Friendly  Glasgow   \n",
       "1  1873-03-08   England  Scotland         4.0         2.0   Friendly   London   \n",
       "2  1874-03-07  Scotland   England         2.0         1.0   Friendly  Glasgow   \n",
       "3  1875-03-06   England  Scotland         2.0         2.0   Friendly   London   \n",
       "4  1876-03-04  Scotland   England         3.0         0.0   Friendly  Glasgow   \n",
       "5  1876-03-25  Scotland     Wales         4.0         0.0   Friendly  Glasgow   \n",
       "6  1877-03-03   England  Scotland         1.0         3.0   Friendly   London   \n",
       "7  1877-03-05     Wales  Scotland         0.0         2.0   Friendly  Wrexham   \n",
       "8  1878-03-02  Scotland   England         7.0         2.0   Friendly  Glasgow   \n",
       "9  1878-03-23  Scotland     Wales         9.0         0.0   Friendly  Glasgow   \n",
       "\n",
       "    country  neutral  \n",
       "0  Scotland    False  \n",
       "1   England    False  \n",
       "2  Scotland    False  \n",
       "3   England    False  \n",
       "4  Scotland    False  \n",
       "5  Scotland    False  \n",
       "6   England    False  \n",
       "7     Wales    False  \n",
       "8  Scotland    False  \n",
       "9  Scotland    False  "
      ]
     },
     "execution_count": 2,
     "metadata": {},
     "output_type": "execute_result"
    }
   ],
   "source": [
    "#Reading the dataset\n",
    "\n",
    "df=pd.read_csv(\"results.csv\")\n",
    "df.head(10)"
   ]
  },
  {
   "cell_type": "code",
   "execution_count": 3,
   "metadata": {
    "execution": {
     "iopub.execute_input": "2022-11-16T06:33:34.246558Z",
     "iopub.status.busy": "2022-11-16T06:33:34.246326Z",
     "iopub.status.idle": "2022-11-16T06:33:34.271693Z",
     "shell.execute_reply": "2022-11-16T06:33:34.270593Z",
     "shell.execute_reply.started": "2022-11-16T06:33:34.246542Z"
    },
    "tags": []
   },
   "outputs": [
    {
     "data": {
      "text/html": [
       "<div>\n",
       "<style scoped>\n",
       "    .dataframe tbody tr th:only-of-type {\n",
       "        vertical-align: middle;\n",
       "    }\n",
       "\n",
       "    .dataframe tbody tr th {\n",
       "        vertical-align: top;\n",
       "    }\n",
       "\n",
       "    .dataframe thead th {\n",
       "        text-align: right;\n",
       "    }\n",
       "</style>\n",
       "<table border=\"1\" class=\"dataframe\">\n",
       "  <thead>\n",
       "    <tr style=\"text-align: right;\">\n",
       "      <th></th>\n",
       "      <th>home_score</th>\n",
       "      <th>away_score</th>\n",
       "    </tr>\n",
       "  </thead>\n",
       "  <tbody>\n",
       "    <tr>\n",
       "      <th>count</th>\n",
       "      <td>44059.000000</td>\n",
       "      <td>44059.000000</td>\n",
       "    </tr>\n",
       "    <tr>\n",
       "      <th>mean</th>\n",
       "      <td>1.740507</td>\n",
       "      <td>1.178306</td>\n",
       "    </tr>\n",
       "    <tr>\n",
       "      <th>std</th>\n",
       "      <td>1.747525</td>\n",
       "      <td>1.394815</td>\n",
       "    </tr>\n",
       "    <tr>\n",
       "      <th>min</th>\n",
       "      <td>0.000000</td>\n",
       "      <td>0.000000</td>\n",
       "    </tr>\n",
       "    <tr>\n",
       "      <th>25%</th>\n",
       "      <td>1.000000</td>\n",
       "      <td>0.000000</td>\n",
       "    </tr>\n",
       "    <tr>\n",
       "      <th>50%</th>\n",
       "      <td>1.000000</td>\n",
       "      <td>1.000000</td>\n",
       "    </tr>\n",
       "    <tr>\n",
       "      <th>75%</th>\n",
       "      <td>2.000000</td>\n",
       "      <td>2.000000</td>\n",
       "    </tr>\n",
       "    <tr>\n",
       "      <th>max</th>\n",
       "      <td>31.000000</td>\n",
       "      <td>21.000000</td>\n",
       "    </tr>\n",
       "  </tbody>\n",
       "</table>\n",
       "</div>"
      ],
      "text/plain": [
       "         home_score    away_score\n",
       "count  44059.000000  44059.000000\n",
       "mean       1.740507      1.178306\n",
       "std        1.747525      1.394815\n",
       "min        0.000000      0.000000\n",
       "25%        1.000000      0.000000\n",
       "50%        1.000000      1.000000\n",
       "75%        2.000000      2.000000\n",
       "max       31.000000     21.000000"
      ]
     },
     "execution_count": 3,
     "metadata": {},
     "output_type": "execute_result"
    }
   ],
   "source": [
    "df.describe()"
   ]
  },
  {
   "cell_type": "code",
   "execution_count": 4,
   "metadata": {
    "execution": {
     "iopub.execute_input": "2022-11-16T06:33:35.174637Z",
     "iopub.status.busy": "2022-11-16T06:33:35.173976Z",
     "iopub.status.idle": "2022-11-16T06:33:35.200923Z",
     "shell.execute_reply": "2022-11-16T06:33:35.200018Z",
     "shell.execute_reply.started": "2022-11-16T06:33:35.174617Z"
    },
    "tags": []
   },
   "outputs": [
    {
     "data": {
      "text/plain": [
       "date          0\n",
       "home_team     0\n",
       "away_team     0\n",
       "home_score    1\n",
       "away_score    1\n",
       "tournament    0\n",
       "city          0\n",
       "country       0\n",
       "neutral       0\n",
       "dtype: int64"
      ]
     },
     "execution_count": 4,
     "metadata": {},
     "output_type": "execute_result"
    }
   ],
   "source": [
    "#Preprocessing\n",
    "#Finding outmissing values\n",
    "\n",
    "df.isnull().sum()\n",
    "#No any missing values\n",
    "#We are good to go"
   ]
  },
  {
   "cell_type": "code",
   "execution_count": 5,
   "metadata": {
    "execution": {
     "iopub.execute_input": "2022-11-16T06:33:36.279402Z",
     "iopub.status.busy": "2022-11-16T06:33:36.279158Z",
     "iopub.status.idle": "2022-11-16T06:33:36.314812Z",
     "shell.execute_reply": "2022-11-16T06:33:36.314036Z",
     "shell.execute_reply.started": "2022-11-16T06:33:36.279386Z"
    },
    "tags": []
   },
   "outputs": [],
   "source": [
    "df.dropna(inplace=True)"
   ]
  },
  {
   "cell_type": "code",
   "execution_count": 6,
   "metadata": {
    "execution": {
     "iopub.execute_input": "2022-11-16T06:33:36.316191Z",
     "iopub.status.busy": "2022-11-16T06:33:36.316010Z",
     "iopub.status.idle": "2022-11-16T06:33:36.348012Z",
     "shell.execute_reply": "2022-11-16T06:33:36.347228Z",
     "shell.execute_reply.started": "2022-11-16T06:33:36.316175Z"
    },
    "tags": []
   },
   "outputs": [
    {
     "data": {
      "text/plain": [
       "date          0\n",
       "home_team     0\n",
       "away_team     0\n",
       "home_score    0\n",
       "away_score    0\n",
       "tournament    0\n",
       "city          0\n",
       "country       0\n",
       "neutral       0\n",
       "dtype: int64"
      ]
     },
     "execution_count": 6,
     "metadata": {},
     "output_type": "execute_result"
    }
   ],
   "source": [
    "df.isnull().sum()"
   ]
  },
  {
   "cell_type": "code",
   "execution_count": 7,
   "metadata": {
    "execution": {
     "iopub.execute_input": "2022-11-16T06:33:37.020636Z",
     "iopub.status.busy": "2022-11-16T06:33:37.019866Z",
     "iopub.status.idle": "2022-11-16T06:33:37.198504Z",
     "shell.execute_reply": "2022-11-16T06:33:37.197581Z",
     "shell.execute_reply.started": "2022-11-16T06:33:37.020602Z"
    },
    "tags": []
   },
   "outputs": [
    {
     "data": {
      "text/plain": [
       "([<matplotlib.axis.XTick at 0x7fc96528f280>,\n",
       "  <matplotlib.axis.XTick at 0x7fc96528f250>],\n",
       " [Text(1, 0, 'Home Score'), Text(2, 0, 'Away Score')])"
      ]
     },
     "execution_count": 7,
     "metadata": {},
     "output_type": "execute_result"
    },
    {
     "data": {
      "image/png": "[encoded data removed]",
      "text/plain": [
       "<Figure size 1000x500 with 1 Axes>"
      ]
     },
     "metadata": {},
     "output_type": "display_data"
    }
   ],
   "source": [
    "#finding outliers in the numerical data columns\n",
    "\n",
    "fig = plt.figure(figsize =(10, 5))\n",
    "plt.boxplot([df[\"home_score\"],df[\"away_score\"]])\n",
    "plt.xticks([1,2], [\"Home Score\", \"Away Score\"])"
   ]
  },
  {
   "cell_type": "code",
   "execution_count": 8,
   "metadata": {
    "execution": {
     "iopub.execute_input": "2022-11-16T06:33:37.878463Z",
     "iopub.status.busy": "2022-11-16T06:33:37.877838Z",
     "iopub.status.idle": "2022-11-16T06:33:37.892369Z",
     "shell.execute_reply": "2022-11-16T06:33:37.891506Z",
     "shell.execute_reply.started": "2022-11-16T06:33:37.878444Z"
    },
    "tags": []
   },
   "outputs": [
    {
     "data": {
      "text/html": [
       "<div>\n",
       "<style scoped>\n",
       "    .dataframe tbody tr th:only-of-type {\n",
       "        vertical-align: middle;\n",
       "    }\n",
       "\n",
       "    .dataframe tbody tr th {\n",
       "        vertical-align: top;\n",
       "    }\n",
       "\n",
       "    .dataframe thead th {\n",
       "        text-align: right;\n",
       "    }\n",
       "</style>\n",
       "<table border=\"1\" class=\"dataframe\">\n",
       "  <thead>\n",
       "    <tr style=\"text-align: right;\">\n",
       "      <th></th>\n",
       "      <th>date</th>\n",
       "      <th>home_team</th>\n",
       "      <th>away_team</th>\n",
       "      <th>home_score</th>\n",
       "      <th>away_score</th>\n",
       "      <th>tournament</th>\n",
       "      <th>city</th>\n",
       "      <th>country</th>\n",
       "      <th>neutral</th>\n",
       "    </tr>\n",
       "  </thead>\n",
       "  <tbody>\n",
       "    <tr>\n",
       "      <th>0</th>\n",
       "      <td>1872-11-30</td>\n",
       "      <td>Scotland</td>\n",
       "      <td>England</td>\n",
       "      <td>0.0</td>\n",
       "      <td>0.0</td>\n",
       "      <td>Friendly</td>\n",
       "      <td>Glasgow</td>\n",
       "      <td>Scotland</td>\n",
       "      <td>False</td>\n",
       "    </tr>\n",
       "    <tr>\n",
       "      <th>1</th>\n",
       "      <td>1873-03-08</td>\n",
       "      <td>England</td>\n",
       "      <td>Scotland</td>\n",
       "      <td>4.0</td>\n",
       "      <td>2.0</td>\n",
       "      <td>Friendly</td>\n",
       "      <td>London</td>\n",
       "      <td>England</td>\n",
       "      <td>False</td>\n",
       "    </tr>\n",
       "    <tr>\n",
       "      <th>2</th>\n",
       "      <td>1874-03-07</td>\n",
       "      <td>Scotland</td>\n",
       "      <td>England</td>\n",
       "      <td>2.0</td>\n",
       "      <td>1.0</td>\n",
       "      <td>Friendly</td>\n",
       "      <td>Glasgow</td>\n",
       "      <td>Scotland</td>\n",
       "      <td>False</td>\n",
       "    </tr>\n",
       "    <tr>\n",
       "      <th>3</th>\n",
       "      <td>1875-03-06</td>\n",
       "      <td>England</td>\n",
       "      <td>Scotland</td>\n",
       "      <td>2.0</td>\n",
       "      <td>2.0</td>\n",
       "      <td>Friendly</td>\n",
       "      <td>London</td>\n",
       "      <td>England</td>\n",
       "      <td>False</td>\n",
       "    </tr>\n",
       "    <tr>\n",
       "      <th>4</th>\n",
       "      <td>1876-03-04</td>\n",
       "      <td>Scotland</td>\n",
       "      <td>England</td>\n",
       "      <td>3.0</td>\n",
       "      <td>0.0</td>\n",
       "      <td>Friendly</td>\n",
       "      <td>Glasgow</td>\n",
       "      <td>Scotland</td>\n",
       "      <td>False</td>\n",
       "    </tr>\n",
       "  </tbody>\n",
       "</table>\n",
       "</div>"
      ],
      "text/plain": [
       "         date home_team away_team  home_score  away_score tournament     city  \\\n",
       "0  1872-11-30  Scotland   England         0.0         0.0   Friendly  Glasgow   \n",
       "1  1873-03-08   England  Scotland         4.0         2.0   Friendly   London   \n",
       "2  1874-03-07  Scotland   England         2.0         1.0   Friendly  Glasgow   \n",
       "3  1875-03-06   England  Scotland         2.0         2.0   Friendly   London   \n",
       "4  1876-03-04  Scotland   England         3.0         0.0   Friendly  Glasgow   \n",
       "\n",
       "    country  neutral  \n",
       "0  Scotland    False  \n",
       "1   England    False  \n",
       "2  Scotland    False  \n",
       "3   England    False  \n",
       "4  Scotland    False  "
      ]
     },
     "execution_count": 8,
     "metadata": {},
     "output_type": "execute_result"
    }
   ],
   "source": [
    "#Boxplot says there are many outliers\n",
    "#Let's remove those outlier,It will make our Machine Learning model more accurate\n",
    "#Asume maximum goals that one team can score is 15\n",
    "\n",
    "higher_home=15\n",
    "higher_away=15\n",
    "df=df[(df[\"home_score\"]<higher_home) & (df[\"away_score\"]<higher_away)]\n",
    "df.head(5)\n",
    "#Dataset after removing outliers"
   ]
  },
  {
   "cell_type": "code",
   "execution_count": 9,
   "metadata": {
    "execution": {
     "iopub.execute_input": "2022-11-16T06:33:40.496050Z",
     "iopub.status.busy": "2022-11-16T06:33:40.494989Z",
     "iopub.status.idle": "2022-11-16T06:33:40.510297Z",
     "shell.execute_reply": "2022-11-16T06:33:40.509491Z",
     "shell.execute_reply.started": "2022-11-16T06:33:40.496007Z"
    },
    "tags": []
   },
   "outputs": [
    {
     "data": {
      "text/html": [
       "<div>\n",
       "<style scoped>\n",
       "    .dataframe tbody tr th:only-of-type {\n",
       "        vertical-align: middle;\n",
       "    }\n",
       "\n",
       "    .dataframe tbody tr th {\n",
       "        vertical-align: top;\n",
       "    }\n",
       "\n",
       "    .dataframe thead th {\n",
       "        text-align: right;\n",
       "    }\n",
       "</style>\n",
       "<table border=\"1\" class=\"dataframe\">\n",
       "  <thead>\n",
       "    <tr style=\"text-align: right;\">\n",
       "      <th></th>\n",
       "      <th>date</th>\n",
       "      <th>home_team</th>\n",
       "      <th>away_team</th>\n",
       "      <th>home_score</th>\n",
       "      <th>away_score</th>\n",
       "      <th>tournament</th>\n",
       "      <th>city</th>\n",
       "      <th>country</th>\n",
       "      <th>neutral</th>\n",
       "      <th>Win_Statues</th>\n",
       "    </tr>\n",
       "  </thead>\n",
       "  <tbody>\n",
       "    <tr>\n",
       "      <th>0</th>\n",
       "      <td>1872-11-30</td>\n",
       "      <td>Scotland</td>\n",
       "      <td>England</td>\n",
       "      <td>0.0</td>\n",
       "      <td>0.0</td>\n",
       "      <td>Friendly</td>\n",
       "      <td>Glasgow</td>\n",
       "      <td>Scotland</td>\n",
       "      <td>False</td>\n",
       "      <td>Draw</td>\n",
       "    </tr>\n",
       "    <tr>\n",
       "      <th>1</th>\n",
       "      <td>1873-03-08</td>\n",
       "      <td>England</td>\n",
       "      <td>Scotland</td>\n",
       "      <td>4.0</td>\n",
       "      <td>2.0</td>\n",
       "      <td>Friendly</td>\n",
       "      <td>London</td>\n",
       "      <td>England</td>\n",
       "      <td>False</td>\n",
       "      <td>Win</td>\n",
       "    </tr>\n",
       "    <tr>\n",
       "      <th>2</th>\n",
       "      <td>1874-03-07</td>\n",
       "      <td>Scotland</td>\n",
       "      <td>England</td>\n",
       "      <td>2.0</td>\n",
       "      <td>1.0</td>\n",
       "      <td>Friendly</td>\n",
       "      <td>Glasgow</td>\n",
       "      <td>Scotland</td>\n",
       "      <td>False</td>\n",
       "      <td>Win</td>\n",
       "    </tr>\n",
       "    <tr>\n",
       "      <th>3</th>\n",
       "      <td>1875-03-06</td>\n",
       "      <td>England</td>\n",
       "      <td>Scotland</td>\n",
       "      <td>2.0</td>\n",
       "      <td>2.0</td>\n",
       "      <td>Friendly</td>\n",
       "      <td>London</td>\n",
       "      <td>England</td>\n",
       "      <td>False</td>\n",
       "      <td>Draw</td>\n",
       "    </tr>\n",
       "    <tr>\n",
       "      <th>4</th>\n",
       "      <td>1876-03-04</td>\n",
       "      <td>Scotland</td>\n",
       "      <td>England</td>\n",
       "      <td>3.0</td>\n",
       "      <td>0.0</td>\n",
       "      <td>Friendly</td>\n",
       "      <td>Glasgow</td>\n",
       "      <td>Scotland</td>\n",
       "      <td>False</td>\n",
       "      <td>Win</td>\n",
       "    </tr>\n",
       "  </tbody>\n",
       "</table>\n",
       "</div>"
      ],
      "text/plain": [
       "         date home_team away_team  home_score  away_score tournament     city  \\\n",
       "0  1872-11-30  Scotland   England         0.0         0.0   Friendly  Glasgow   \n",
       "1  1873-03-08   England  Scotland         4.0         2.0   Friendly   London   \n",
       "2  1874-03-07  Scotland   England         2.0         1.0   Friendly  Glasgow   \n",
       "3  1875-03-06   England  Scotland         2.0         2.0   Friendly   London   \n",
       "4  1876-03-04  Scotland   England         3.0         0.0   Friendly  Glasgow   \n",
       "\n",
       "    country  neutral Win_Statues  \n",
       "0  Scotland    False        Draw  \n",
       "1   England    False         Win  \n",
       "2  Scotland    False         Win  \n",
       "3   England    False        Draw  \n",
       "4  Scotland    False         Win  "
      ]
     },
     "execution_count": 9,
     "metadata": {},
     "output_type": "execute_result"
    }
   ],
   "source": [
    "#Making a new colum named \"Win_Statues\" to store the result(Win,Lost,Draw) of the home team\n",
    "\n",
    "conditions  = [df[\"home_score\"] ==df[\"away_score\"], df[\"home_score\"] > df[\"away_score\"] , df[\"home_score\"] < df[\"away_score\"]]\n",
    "choices     = [ \"Draw\", 'Win', 'Lost' ]\n",
    "df[\"Win_Statues\"] = np.select(conditions, choices)\n",
    "df.head(5)"
   ]
  },
  {
   "cell_type": "code",
   "execution_count": 10,
   "metadata": {
    "execution": {
     "iopub.execute_input": "2022-11-16T06:33:41.192372Z",
     "iopub.status.busy": "2022-11-16T06:33:41.191790Z",
     "iopub.status.idle": "2022-11-16T06:33:41.201344Z",
     "shell.execute_reply": "2022-11-16T06:33:41.200315Z",
     "shell.execute_reply.started": "2022-11-16T06:33:41.192354Z"
    },
    "tags": []
   },
   "outputs": [
    {
     "name": "stdout",
     "output_type": "stream",
     "text": [
      "There are 309 Countries in the home_team Column\n",
      "\n",
      "Countries-['Scotland' 'England' 'Wales' 'Northern Ireland' 'United States' 'Uruguay'\n",
      " 'Austria' 'Hungary' 'Argentina' 'Belgium' 'France' 'Netherlands'\n",
      " 'Czechoslovakia' 'Switzerland' 'Sweden' 'Germany' 'Italy' 'Chile'\n",
      " 'Norway' 'Finland' 'Luxembourg' 'Russia' 'Denmark' 'Catalonia'\n",
      " 'Basque Country' 'Brazil' 'Paraguay' 'Japan' 'Canada' 'Estonia'\n",
      " 'Costa Rica' 'Guatemala' 'Spain' 'Brittany' 'Poland' 'Yugoslavia'\n",
      " 'New Zealand' 'Romania' 'Latvia' 'Galicia' 'Portugal' 'Andalusia'\n",
      " 'China PR' 'Australia' 'Lithuania' 'Turkey' 'Central Spain' 'Mexico'\n",
      " 'Aruba' 'Egypt' 'Haiti' 'Philippines' 'Bulgaria' 'Jamaica' 'Kenya'\n",
      " 'Bolivia' 'Peru' 'Honduras' 'Guyana' 'Uganda' 'Belarus' 'El Salvador'\n",
      " 'Barbados' 'Republic of Ireland' 'Trinidad and Tobago' 'Greece' 'Curaçao'\n",
      " 'Dominica' 'Silesia' 'Guadeloupe' 'Israel' 'Suriname' 'French Guiana'\n",
      " 'Cuba' 'Colombia' 'Ecuador' 'Saint Kitts and Nevis' 'Panama' 'Slovakia'\n",
      " 'Manchukuo' 'Croatia' 'Nicaragua' 'Afghanistan' 'India' 'Martinique'\n",
      " 'Zimbabwe' 'Iceland' 'Albania' 'Venezuela' 'Madagascar' 'Zambia'\n",
      " 'Mauritius' 'Tanzania' 'Iran' 'Djibouti' 'DR Congo' 'Vietnam' 'Macau'\n",
      " 'Ethiopia' 'Puerto Rico' 'Réunion' 'Sierra Leone' 'Zanzibar'\n",
      " 'South Korea' 'Ghana' 'South Africa' 'New Caledonia' 'Fiji' 'Nigeria'\n",
      " 'Myanmar' 'Sri Lanka' 'Tahiti' 'Gambia' 'Hong Kong' 'Singapore'\n",
      " 'Malaysia' 'Indonesia' 'Guinea-Bissau' 'German DR' 'Vanuatu' 'Kernow'\n",
      " 'Saarland' 'Cambodia' 'Lebanon' 'Pakistan' 'Vietnam Republic'\n",
      " 'North Korea' 'Togo' 'Sudan' 'Malta' 'Syria' 'Tunisia' 'Malawi' 'Morocco'\n",
      " 'Benin' 'Cameroon' 'Central African Republic' 'Gabon' 'Ivory Coast'\n",
      " 'Congo' 'Mali' 'North Vietnam' 'Mongolia' 'Taiwan' 'Cyprus' 'Iraq'\n",
      " 'Saint Lucia' 'Grenada' 'Thailand' 'Senegal' 'Libya' 'Guinea' 'Algeria'\n",
      " 'Kuwait' 'Jordan' 'Solomon Islands' 'Liberia' 'Laos'\n",
      " 'Saint Vincent and the Grenadines' 'Bermuda' 'Niger' 'Montenegro'\n",
      " 'Palestine' 'Bahrain' 'Papua New Guinea' 'Burkina Faso' 'Mauritania'\n",
      " 'Saudi Arabia' 'Eswatini' 'Western Australia' 'Somalia' 'Lesotho' 'Qatar'\n",
      " 'Antigua and Barbuda' 'Faroe Islands' 'Bangladesh' 'Yemen' 'Oman'\n",
      " 'Yemen DPR' 'Burundi' 'Mozambique' 'Guam' 'Chad' 'Angola'\n",
      " 'Dominican Republic' 'Seychelles' 'Rwanda' 'São Tomé and Príncipe'\n",
      " 'Botswana' 'Northern Cyprus' 'Cape Verde' 'Kyrgyzstan' 'Georgia'\n",
      " 'Azerbaijan' 'Kiribati' 'Tonga' 'Wallis Islands and Futuna'\n",
      " 'United Arab Emirates' 'Brunei' 'Equatorial Guinea' 'Liechtenstein'\n",
      " 'Nepal' 'Greenland' 'Niue' 'Samoa' 'American Samoa' 'Belize' 'Anguilla'\n",
      " 'Cayman Islands' 'Palau' 'Sint Maarten' 'Namibia' 'Åland Islands'\n",
      " 'Ynys Môn' 'Saint Martin' 'San Marino' 'Slovenia' 'Jersey' 'Shetland'\n",
      " 'Isle of Wight' 'Moldova' 'Ukraine' 'Kazakhstan' 'Tajikistan'\n",
      " 'Uzbekistan' 'Turkmenistan' 'Armenia' 'Czech Republic' 'Guernsey'\n",
      " 'Gibraltar' 'Isle of Man' 'North Macedonia' 'Montserrat' 'Serbia'\n",
      " 'Cook Islands' 'Canary Islands' 'Bosnia and Herzegovina' 'Maldives'\n",
      " 'Andorra' 'British Virgin Islands' 'Frøya' 'Hitra'\n",
      " 'United States Virgin Islands' 'Corsica' 'Eritrea' 'Bahamas' 'Gotland'\n",
      " 'Saare County' 'Rhodes' 'Micronesia' 'Bhutan' 'Orkney' 'Monaco' 'Tuvalu'\n",
      " 'Alderney' 'Mayotte' 'Turks and Caicos Islands' 'Timor-Leste'\n",
      " 'Western Isles' 'Falkland Islands' 'Kosovo' 'Republic of St. Pauli'\n",
      " 'Găgăuzia' 'Tibet' 'Occitania' 'Sápmi' 'Northern Mariana Islands'\n",
      " 'Menorca' 'Comoros' 'Provence' 'Arameans Suryoye' 'Padania'\n",
      " 'Iraqi Kurdistan' 'Gozo' 'Bonaire' 'Western Sahara' 'Raetia'\n",
      " 'Tamil Eelam' 'South Sudan' 'Abkhazia' 'Artsakh' 'Madrid' 'Vatican City'\n",
      " 'Ellan Vannin' 'South Ossetia' 'Darfur' 'County of Nice' 'Székely Land'\n",
      " 'Romani people' 'Felvidék' 'Chagos Islands' 'United Koreans in Japan'\n",
      " 'Somaliland' 'Western Armenia' 'Barawa' 'Kárpátalja' 'Yorkshire' 'Panjab'\n",
      " 'Matabeleland' 'Cascadia' 'Kabylia' 'Parishes of Jersey' 'Chameria'\n",
      " 'Saint Helena' 'Yoruba Nation' 'Biafra' 'Mapuche' 'Aymara'\n",
      " 'Brunei Darussalam']\n"
     ]
    }
   ],
   "source": [
    "#See what are the Countries in the dataset\n",
    "\n",
    "countries=df.home_team.unique()\n",
    "print(f\"There are {len(countries)} Countries in the home_team Column\\n\")\n",
    "print(f\"Countries-{countries}\")"
   ]
  },
  {
   "cell_type": "markdown",
   "metadata": {},
   "source": [
    "**Type of the Matches**"
   ]
  },
  {
   "cell_type": "code",
   "execution_count": 11,
   "metadata": {
    "execution": {
     "iopub.execute_input": "2022-11-16T06:33:45.393632Z",
     "iopub.status.busy": "2022-11-16T06:33:45.392101Z",
     "iopub.status.idle": "2022-11-16T06:33:45.535437Z",
     "shell.execute_reply": "2022-11-16T06:33:45.534102Z",
     "shell.execute_reply.started": "2022-11-16T06:33:45.393552Z"
    },
    "tags": []
   },
   "outputs": [
    {
     "data": {
      "image/png": "[encoded data removed]",
      "text/plain": [
       "<Figure size 1400x600 with 1 Axes>"
      ]
     },
     "metadata": {},
     "output_type": "display_data"
    }
   ],
   "source": [
    "rank_bound = 10\n",
    "ax = df.tournament.value_counts()[:rank_bound].sort_values()\n",
    "value = ax.values\n",
    "label = ax.index\n",
    "\n",
    "plt.figure(figsize=(14,6))\n",
    "plt.barh(y=label, width=value, edgecolor=\"k\")\n",
    "for i in range(rank_bound):\n",
    "    plt.text(x=50,y=i-0.1,s=value[i],color=\"w\",fontsize=12)\n",
    "plt.show()"
   ]
  },
  {
   "cell_type": "markdown",
   "metadata": {},
   "source": [
    "**Teams played most Matches**"
   ]
  },
  {
   "cell_type": "code",
   "execution_count": 12,
   "metadata": {
    "execution": {
     "iopub.execute_input": "2022-11-16T06:33:46.493038Z",
     "iopub.status.busy": "2022-11-16T06:33:46.492752Z",
     "iopub.status.idle": "2022-11-16T06:33:46.654208Z",
     "shell.execute_reply": "2022-11-16T06:33:46.653309Z",
     "shell.execute_reply.started": "2022-11-16T06:33:46.493021Z"
    },
    "tags": []
   },
   "outputs": [
    {
     "data": {
      "image/png": "[encoded data removed]",
      "text/plain": [
       "<Figure size 1400x600 with 1 Axes>"
      ]
     },
     "metadata": {},
     "output_type": "display_data"
    }
   ],
   "source": [
    "rank_bound = 10\n",
    "ax = df.country.value_counts()[:rank_bound].sort_values()\n",
    "value = ax.values\n",
    "label = ax.index\n",
    "\n",
    "plt.figure(figsize=(14,6))\n",
    "plt.barh(y=label, width=value, edgecolor=\"k\")\n",
    "for i in range(rank_bound):\n",
    "    plt.text(x=10,y=i-0.1,s=value[i],color=\"w\",fontsize=12)\n",
    "plt.show()"
   ]
  },
  {
   "cell_type": "markdown",
   "metadata": {},
   "source": [
    "**Number of Matches played in equal intervals**"
   ]
  },
  {
   "cell_type": "code",
   "execution_count": 13,
   "metadata": {
    "execution": {
     "iopub.execute_input": "2022-11-16T06:33:48.017358Z",
     "iopub.status.busy": "2022-11-16T06:33:48.016841Z",
     "iopub.status.idle": "2022-11-16T06:33:48.225773Z",
     "shell.execute_reply": "2022-11-16T06:33:48.224749Z",
     "shell.execute_reply.started": "2022-11-16T06:33:48.017339Z"
    },
    "tags": []
   },
   "outputs": [
    {
     "data": {
      "image/png": "[encoded data removed]",
      "text/plain": [
       "<Figure size 1400x600 with 1 Axes>"
      ]
     },
     "metadata": {},
     "output_type": "display_data"
    }
   ],
   "source": [
    "years = []\n",
    "for date in df.date:\n",
    "    years.append(int(str(date)[0:4]))\n",
    "plt.figure(figsize=(14,6))\n",
    "plt.hist(years, density=True, bins=12, edgecolor=\"k\")\n",
    "plt.title(\"Histogram of Years\")\n",
    "plt.ylabel(\"Frequency\")\n",
    "plt.xlabel(\"Year\")\n",
    "plt.show()\n",
    "\n",
    "#Most matches are played after 1960"
   ]
  },
  {
   "cell_type": "markdown",
   "metadata": {},
   "source": [
    "### (1) Finding out the impact hosting a major tournament helps a country's chances in winning matches?"
   ]
  },
  {
   "cell_type": "code",
   "execution_count": 14,
   "metadata": {
    "execution": {
     "iopub.execute_input": "2022-11-16T06:33:50.795345Z",
     "iopub.status.busy": "2022-11-16T06:33:50.794372Z",
     "iopub.status.idle": "2022-11-16T06:33:50.820004Z",
     "shell.execute_reply": "2022-11-16T06:33:50.818026Z",
     "shell.execute_reply.started": "2022-11-16T06:33:50.795321Z"
    },
    "tags": []
   },
   "outputs": [
    {
     "data": {
      "text/html": [
       "<div>\n",
       "<style scoped>\n",
       "    .dataframe tbody tr th:only-of-type {\n",
       "        vertical-align: middle;\n",
       "    }\n",
       "\n",
       "    .dataframe tbody tr th {\n",
       "        vertical-align: top;\n",
       "    }\n",
       "\n",
       "    .dataframe thead th {\n",
       "        text-align: right;\n",
       "    }\n",
       "</style>\n",
       "<table border=\"1\" class=\"dataframe\">\n",
       "  <thead>\n",
       "    <tr style=\"text-align: right;\">\n",
       "      <th></th>\n",
       "      <th>date</th>\n",
       "      <th>home_team</th>\n",
       "      <th>away_team</th>\n",
       "      <th>home_score</th>\n",
       "      <th>away_score</th>\n",
       "      <th>tournament</th>\n",
       "      <th>city</th>\n",
       "      <th>country</th>\n",
       "      <th>neutral</th>\n",
       "      <th>Win_Statues</th>\n",
       "    </tr>\n",
       "  </thead>\n",
       "  <tbody>\n",
       "    <tr>\n",
       "      <th>29</th>\n",
       "      <td>1884-01-26</td>\n",
       "      <td>Northern Ireland</td>\n",
       "      <td>Scotland</td>\n",
       "      <td>0.0</td>\n",
       "      <td>5.0</td>\n",
       "      <td>British Championship</td>\n",
       "      <td>Belfast</td>\n",
       "      <td>Ireland</td>\n",
       "      <td>False</td>\n",
       "      <td>Lost</td>\n",
       "    </tr>\n",
       "    <tr>\n",
       "      <th>30</th>\n",
       "      <td>1884-02-09</td>\n",
       "      <td>Wales</td>\n",
       "      <td>Northern Ireland</td>\n",
       "      <td>6.0</td>\n",
       "      <td>0.0</td>\n",
       "      <td>British Championship</td>\n",
       "      <td>Wrexham</td>\n",
       "      <td>Wales</td>\n",
       "      <td>False</td>\n",
       "      <td>Win</td>\n",
       "    </tr>\n",
       "    <tr>\n",
       "      <th>31</th>\n",
       "      <td>1884-02-23</td>\n",
       "      <td>Northern Ireland</td>\n",
       "      <td>England</td>\n",
       "      <td>1.0</td>\n",
       "      <td>8.0</td>\n",
       "      <td>British Championship</td>\n",
       "      <td>Belfast</td>\n",
       "      <td>Ireland</td>\n",
       "      <td>False</td>\n",
       "      <td>Lost</td>\n",
       "    </tr>\n",
       "    <tr>\n",
       "      <th>32</th>\n",
       "      <td>1884-03-15</td>\n",
       "      <td>Scotland</td>\n",
       "      <td>England</td>\n",
       "      <td>1.0</td>\n",
       "      <td>0.0</td>\n",
       "      <td>British Championship</td>\n",
       "      <td>Glasgow</td>\n",
       "      <td>Scotland</td>\n",
       "      <td>False</td>\n",
       "      <td>Win</td>\n",
       "    </tr>\n",
       "    <tr>\n",
       "      <th>33</th>\n",
       "      <td>1884-03-17</td>\n",
       "      <td>Wales</td>\n",
       "      <td>England</td>\n",
       "      <td>0.0</td>\n",
       "      <td>4.0</td>\n",
       "      <td>British Championship</td>\n",
       "      <td>Wrexham</td>\n",
       "      <td>Wales</td>\n",
       "      <td>False</td>\n",
       "      <td>Lost</td>\n",
       "    </tr>\n",
       "  </tbody>\n",
       "</table>\n",
       "</div>"
      ],
      "text/plain": [
       "          date         home_team         away_team  home_score  away_score  \\\n",
       "29  1884-01-26  Northern Ireland          Scotland         0.0         5.0   \n",
       "30  1884-02-09             Wales  Northern Ireland         6.0         0.0   \n",
       "31  1884-02-23  Northern Ireland           England         1.0         8.0   \n",
       "32  1884-03-15          Scotland           England         1.0         0.0   \n",
       "33  1884-03-17             Wales           England         0.0         4.0   \n",
       "\n",
       "              tournament     city   country  neutral Win_Statues  \n",
       "29  British Championship  Belfast   Ireland    False        Lost  \n",
       "30  British Championship  Wrexham     Wales    False         Win  \n",
       "31  British Championship  Belfast   Ireland    False        Lost  \n",
       "32  British Championship  Glasgow  Scotland    False         Win  \n",
       "33  British Championship  Wrexham     Wales    False        Lost  "
      ]
     },
     "execution_count": 14,
     "metadata": {},
     "output_type": "execute_result"
    }
   ],
   "source": [
    "#Now take the rpws that home_team==Country \n",
    "#Nad romove the data of friendly matches\n",
    "\n",
    "data_home=df.loc[df[\"home_team\"]==df[\"country\"] ]\n",
    "data_home=df.loc[df[\"tournament\"] != \"Friendly\"]\n",
    "data_home.head(5)"
   ]
  },
  {
   "cell_type": "markdown",
   "metadata": {},
   "source": [
    "**Home Team Winning Statistcs**"
   ]
  },
  {
   "cell_type": "code",
   "execution_count": 15,
   "metadata": {
    "execution": {
     "iopub.execute_input": "2022-11-16T06:34:00.143934Z",
     "iopub.status.busy": "2022-11-16T06:34:00.142707Z",
     "iopub.status.idle": "2022-11-16T06:34:00.149509Z",
     "shell.execute_reply": "2022-11-16T06:34:00.147557Z",
     "shell.execute_reply.started": "2022-11-16T06:34:00.143904Z"
    },
    "tags": []
   },
   "outputs": [],
   "source": [
    "# pip install jinja2 --upgrade"
   ]
  },
  {
   "cell_type": "code",
   "execution_count": 16,
   "metadata": {
    "execution": {
     "iopub.execute_input": "2022-11-16T06:34:01.182500Z",
     "iopub.status.busy": "2022-11-16T06:34:01.181214Z",
     "iopub.status.idle": "2022-11-16T06:34:01.318003Z",
     "shell.execute_reply": "2022-11-16T06:34:01.316788Z",
     "shell.execute_reply.started": "2022-11-16T06:34:01.182432Z"
    },
    "tags": []
   },
   "outputs": [
    {
     "data": {
      "text/html": [
       "<style type=\"text/css\">\n",
       "#T_c6b33_row0_col0, #T_c6b33_row0_col1, #T_c6b33_row0_col2, #T_c6b33_row0_col3 {\n",
       "  width: 10em;\n",
       "  background: linear-gradient(90deg, brown 100.0%, transparent 100.0%);\n",
       "}\n",
       "#T_c6b33_row1_col0 {\n",
       "  width: 10em;\n",
       "  background: linear-gradient(90deg, brown 28.4%, transparent 28.4%);\n",
       "}\n",
       "#T_c6b33_row1_col1 {\n",
       "  width: 10em;\n",
       "  background: linear-gradient(90deg, brown 28.2%, transparent 28.2%);\n",
       "}\n",
       "#T_c6b33_row1_col2 {\n",
       "  width: 10em;\n",
       "  background: linear-gradient(90deg, brown 30.1%, transparent 30.1%);\n",
       "}\n",
       "#T_c6b33_row1_col3 {\n",
       "  width: 10em;\n",
       "  background: linear-gradient(90deg, brown 29.2%, transparent 29.2%);\n",
       "}\n",
       "#T_c6b33_row2_col0 {\n",
       "  width: 10em;\n",
       "  background: linear-gradient(90deg, brown 8.8%, transparent 8.8%);\n",
       "}\n",
       "#T_c6b33_row2_col1 {\n",
       "  width: 10em;\n",
       "  background: linear-gradient(90deg, brown 10.8%, transparent 10.8%);\n",
       "}\n",
       "#T_c6b33_row2_col2 {\n",
       "  width: 10em;\n",
       "  background: linear-gradient(90deg, brown 9.6%, transparent 9.6%);\n",
       "}\n",
       "#T_c6b33_row2_col3 {\n",
       "  width: 10em;\n",
       "  background: linear-gradient(90deg, brown 9.8%, transparent 9.8%);\n",
       "}\n",
       "#T_c6b33_row3_col0, #T_c6b33_row3_col2 {\n",
       "  width: 10em;\n",
       "  background: linear-gradient(90deg, brown 8.2%, transparent 8.2%);\n",
       "}\n",
       "#T_c6b33_row3_col1 {\n",
       "  width: 10em;\n",
       "  background: linear-gradient(90deg, brown 5.0%, transparent 5.0%);\n",
       "}\n",
       "#T_c6b33_row3_col3 {\n",
       "  width: 10em;\n",
       "  background: linear-gradient(90deg, brown 7.3%, transparent 7.3%);\n",
       "}\n",
       "#T_c6b33_row4_col0, #T_c6b33_row4_col3, #T_c6b33_row6_col2 {\n",
       "  width: 10em;\n",
       "  background: linear-gradient(90deg, brown 3.4%, transparent 3.4%);\n",
       "}\n",
       "#T_c6b33_row4_col1 {\n",
       "  width: 10em;\n",
       "  background: linear-gradient(90deg, brown 3.8%, transparent 3.8%);\n",
       "}\n",
       "#T_c6b33_row4_col2, #T_c6b33_row5_col0 {\n",
       "  width: 10em;\n",
       "  background: linear-gradient(90deg, brown 3.1%, transparent 3.1%);\n",
       "}\n",
       "#T_c6b33_row5_col1 {\n",
       "  width: 10em;\n",
       "  background: linear-gradient(90deg, brown 3.0%, transparent 3.0%);\n",
       "}\n",
       "#T_c6b33_row5_col2 {\n",
       "  width: 10em;\n",
       "  background: linear-gradient(90deg, brown 3.3%, transparent 3.3%);\n",
       "}\n",
       "#T_c6b33_row5_col3 {\n",
       "  width: 10em;\n",
       "  background: linear-gradient(90deg, brown 3.2%, transparent 3.2%);\n",
       "}\n",
       "#T_c6b33_row6_col0, #T_c6b33_row8_col2, #T_c6b33_row9_col1 {\n",
       "  width: 10em;\n",
       "  background: linear-gradient(90deg, brown 2.2%, transparent 2.2%);\n",
       "}\n",
       "#T_c6b33_row6_col1, #T_c6b33_row7_col2, #T_c6b33_row8_col0 {\n",
       "  width: 10em;\n",
       "  background: linear-gradient(90deg, brown 2.5%, transparent 2.5%);\n",
       "}\n",
       "#T_c6b33_row6_col3 {\n",
       "  width: 10em;\n",
       "  background: linear-gradient(90deg, brown 2.9%, transparent 2.9%);\n",
       "}\n",
       "#T_c6b33_row7_col0 {\n",
       "  width: 10em;\n",
       "  background: linear-gradient(90deg, brown 3.6%, transparent 3.6%);\n",
       "}\n",
       "#T_c6b33_row7_col1 {\n",
       "  width: 10em;\n",
       "  background: linear-gradient(90deg, brown 2.6%, transparent 2.6%);\n",
       "}\n",
       "#T_c6b33_row7_col3 {\n",
       "  width: 10em;\n",
       "  background: linear-gradient(90deg, brown 2.8%, transparent 2.8%);\n",
       "}\n",
       "#T_c6b33_row8_col1 {\n",
       "  width: 10em;\n",
       "  background: linear-gradient(90deg, brown 2.4%, transparent 2.4%);\n",
       "}\n",
       "#T_c6b33_row8_col3, #T_c6b33_row9_col2, #T_c6b33_row9_col3 {\n",
       "  width: 10em;\n",
       "  background: linear-gradient(90deg, brown 2.3%, transparent 2.3%);\n",
       "}\n",
       "#T_c6b33_row9_col0 {\n",
       "  width: 10em;\n",
       "  background: linear-gradient(90deg, brown 2.1%, transparent 2.1%);\n",
       "}\n",
       "</style>\n",
       "<table id=\"T_c6b33\">\n",
       "  <thead>\n",
       "    <tr>\n",
       "      <th class=\"index_name level0\" >Win_Statues</th>\n",
       "      <th id=\"T_c6b33_level0_col0\" class=\"col_heading level0 col0\" >Draw</th>\n",
       "      <th id=\"T_c6b33_level0_col1\" class=\"col_heading level0 col1\" >Lost</th>\n",
       "      <th id=\"T_c6b33_level0_col2\" class=\"col_heading level0 col2\" >Win</th>\n",
       "      <th id=\"T_c6b33_level0_col3\" class=\"col_heading level0 col3\" >All</th>\n",
       "    </tr>\n",
       "    <tr>\n",
       "      <th class=\"index_name level0\" >tournament</th>\n",
       "      <th class=\"blank col0\" >&nbsp;</th>\n",
       "      <th class=\"blank col1\" >&nbsp;</th>\n",
       "      <th class=\"blank col2\" >&nbsp;</th>\n",
       "      <th class=\"blank col3\" >&nbsp;</th>\n",
       "    </tr>\n",
       "  </thead>\n",
       "  <tbody>\n",
       "    <tr>\n",
       "      <th id=\"T_c6b33_level0_row0\" class=\"row_heading level0 row0\" >All</th>\n",
       "      <td id=\"T_c6b33_row0_col0\" class=\"data row0 col0\" >5788</td>\n",
       "      <td id=\"T_c6b33_row0_col1\" class=\"data row0 col1\" >7575</td>\n",
       "      <td id=\"T_c6b33_row0_col2\" class=\"data row0 col2\" >13225</td>\n",
       "      <td id=\"T_c6b33_row0_col3\" class=\"data row0 col3\" >26588</td>\n",
       "    </tr>\n",
       "    <tr>\n",
       "      <th id=\"T_c6b33_level0_row1\" class=\"row_heading level0 row1\" >FIFA World Cup qualification</th>\n",
       "      <td id=\"T_c6b33_row1_col0\" class=\"data row1 col0\" >1644</td>\n",
       "      <td id=\"T_c6b33_row1_col1\" class=\"data row1 col1\" >2137</td>\n",
       "      <td id=\"T_c6b33_row1_col2\" class=\"data row1 col2\" >3987</td>\n",
       "      <td id=\"T_c6b33_row1_col3\" class=\"data row1 col3\" >7768</td>\n",
       "    </tr>\n",
       "    <tr>\n",
       "      <th id=\"T_c6b33_level0_row2\" class=\"row_heading level0 row2\" >UEFA Euro qualification</th>\n",
       "      <td id=\"T_c6b33_row2_col0\" class=\"data row2 col0\" >510</td>\n",
       "      <td id=\"T_c6b33_row2_col1\" class=\"data row2 col1\" >818</td>\n",
       "      <td id=\"T_c6b33_row2_col2\" class=\"data row2 col2\" >1265</td>\n",
       "      <td id=\"T_c6b33_row2_col3\" class=\"data row2 col3\" >2593</td>\n",
       "    </tr>\n",
       "    <tr>\n",
       "      <th id=\"T_c6b33_level0_row3\" class=\"row_heading level0 row3\" >African Cup of Nations qualification</th>\n",
       "      <td id=\"T_c6b33_row3_col0\" class=\"data row3 col0\" >472</td>\n",
       "      <td id=\"T_c6b33_row3_col1\" class=\"data row3 col1\" >379</td>\n",
       "      <td id=\"T_c6b33_row3_col2\" class=\"data row3 col2\" >1081</td>\n",
       "      <td id=\"T_c6b33_row3_col3\" class=\"data row3 col3\" >1932</td>\n",
       "    </tr>\n",
       "    <tr>\n",
       "      <th id=\"T_c6b33_level0_row4\" class=\"row_heading level0 row4\" >FIFA World Cup</th>\n",
       "      <td id=\"T_c6b33_row4_col0\" class=\"data row4 col0\" >199</td>\n",
       "      <td id=\"T_c6b33_row4_col1\" class=\"data row4 col1\" >290</td>\n",
       "      <td id=\"T_c6b33_row4_col2\" class=\"data row4 col2\" >411</td>\n",
       "      <td id=\"T_c6b33_row4_col3\" class=\"data row4 col3\" >900</td>\n",
       "    </tr>\n",
       "    <tr>\n",
       "      <th id=\"T_c6b33_level0_row5\" class=\"row_heading level0 row5\" >Copa América</th>\n",
       "      <td id=\"T_c6b33_row5_col0\" class=\"data row5 col0\" >181</td>\n",
       "      <td id=\"T_c6b33_row5_col1\" class=\"data row5 col1\" >230</td>\n",
       "      <td id=\"T_c6b33_row5_col2\" class=\"data row5 col2\" >430</td>\n",
       "      <td id=\"T_c6b33_row5_col3\" class=\"data row5 col3\" >841</td>\n",
       "    </tr>\n",
       "    <tr>\n",
       "      <th id=\"T_c6b33_level0_row6\" class=\"row_heading level0 row6\" >AFC Asian Cup qualification</th>\n",
       "      <td id=\"T_c6b33_row6_col0\" class=\"data row6 col0\" >126</td>\n",
       "      <td id=\"T_c6b33_row6_col1\" class=\"data row6 col1\" >188</td>\n",
       "      <td id=\"T_c6b33_row6_col2\" class=\"data row6 col2\" >447</td>\n",
       "      <td id=\"T_c6b33_row6_col3\" class=\"data row6 col3\" >761</td>\n",
       "    </tr>\n",
       "    <tr>\n",
       "      <th id=\"T_c6b33_level0_row7\" class=\"row_heading level0 row7\" >African Cup of Nations</th>\n",
       "      <td id=\"T_c6b33_row7_col0\" class=\"data row7 col0\" >209</td>\n",
       "      <td id=\"T_c6b33_row7_col1\" class=\"data row7 col1\" >200</td>\n",
       "      <td id=\"T_c6b33_row7_col2\" class=\"data row7 col2\" >333</td>\n",
       "      <td id=\"T_c6b33_row7_col3\" class=\"data row7 col3\" >742</td>\n",
       "    </tr>\n",
       "    <tr>\n",
       "      <th id=\"T_c6b33_level0_row8\" class=\"row_heading level0 row8\" >CECAFA Cup</th>\n",
       "      <td id=\"T_c6b33_row8_col0\" class=\"data row8 col0\" >147</td>\n",
       "      <td id=\"T_c6b33_row8_col1\" class=\"data row8 col1\" >185</td>\n",
       "      <td id=\"T_c6b33_row8_col2\" class=\"data row8 col2\" >288</td>\n",
       "      <td id=\"T_c6b33_row8_col3\" class=\"data row8 col3\" >620</td>\n",
       "    </tr>\n",
       "    <tr>\n",
       "      <th id=\"T_c6b33_level0_row9\" class=\"row_heading level0 row9\" >CFU Caribbean Cup qualification</th>\n",
       "      <td id=\"T_c6b33_row9_col0\" class=\"data row9 col0\" >124</td>\n",
       "      <td id=\"T_c6b33_row9_col1\" class=\"data row9 col1\" >170</td>\n",
       "      <td id=\"T_c6b33_row9_col2\" class=\"data row9 col2\" >310</td>\n",
       "      <td id=\"T_c6b33_row9_col3\" class=\"data row9 col3\" >604</td>\n",
       "    </tr>\n",
       "  </tbody>\n",
       "</table>\n"
      ],
      "text/plain": [
       "<pandas.io.formats.style.Styler at 0x7fc964d7da90>"
      ]
     },
     "execution_count": 16,
     "metadata": {},
     "output_type": "execute_result"
    }
   ],
   "source": [
    "#How home team performs in tournament matches\n",
    "\n",
    "tournament_df=pd.crosstab(data_home[\"tournament\"], data_home[\"Win_Statues\"],margins=True)\n",
    "tournament_df=tournament_df.sort_values(\"All\",ascending=False).head(10)\n",
    "tournament_df.style.bar(color=\"brown\",subset=[\"Draw\",\"Lost\",\"Win\",\"All\"])"
   ]
  },
  {
   "cell_type": "code",
   "execution_count": 17,
   "metadata": {
    "execution": {
     "iopub.execute_input": "2022-11-16T06:34:02.133192Z",
     "iopub.status.busy": "2022-11-16T06:34:02.132151Z",
     "iopub.status.idle": "2022-11-16T06:34:02.288436Z",
     "shell.execute_reply": "2022-11-16T06:34:02.287400Z",
     "shell.execute_reply.started": "2022-11-16T06:34:02.133155Z"
    },
    "tags": []
   },
   "outputs": [
    {
     "data": {
      "text/plain": [
       "Text(0.5, 1.0, 'Home Team Winning Status')"
      ]
     },
     "execution_count": 17,
     "metadata": {},
     "output_type": "execute_result"
    },
    {
     "data": {
      "image/png": "[encoded data removed]",
      "text/plain": [
       "<Figure size 500x500 with 1 Axes>"
      ]
     },
     "metadata": {},
     "output_type": "display_data"
    }
   ],
   "source": [
    "#Home team results\n",
    "sns.displot(data_home, x=\"Win_Statues\")\n",
    "plt.title(\"Home Team Winning Status\")"
   ]
  },
  {
   "cell_type": "code",
   "execution_count": 18,
   "metadata": {
    "execution": {
     "iopub.execute_input": "2022-11-16T06:34:04.648083Z",
     "iopub.status.busy": "2022-11-16T06:34:04.647068Z",
     "iopub.status.idle": "2022-11-16T06:34:04.655880Z",
     "shell.execute_reply": "2022-11-16T06:34:04.654822Z",
     "shell.execute_reply.started": "2022-11-16T06:34:04.648038Z"
    },
    "tags": []
   },
   "outputs": [
    {
     "data": {
      "text/plain": [
       "Win     13225\n",
       "Lost     7575\n",
       "Draw     5788\n",
       "Name: Win_Statues, dtype: int64"
      ]
     },
     "execution_count": 18,
     "metadata": {},
     "output_type": "execute_result"
    }
   ],
   "source": [
    "data_home['Win_Statues'].value_counts()"
   ]
  },
  {
   "cell_type": "code",
   "execution_count": 19,
   "metadata": {
    "execution": {
     "iopub.execute_input": "2022-11-16T06:34:05.652725Z",
     "iopub.status.busy": "2022-11-16T06:34:05.651968Z",
     "iopub.status.idle": "2022-11-16T06:34:05.726072Z",
     "shell.execute_reply": "2022-11-16T06:34:05.725124Z",
     "shell.execute_reply.started": "2022-11-16T06:34:05.652706Z"
    },
    "tags": []
   },
   "outputs": [
    {
     "data": {
      "text/html": [
       "<style type=\"text/css\">\n",
       "#T_2a7c6_row0_col4 {\n",
       "  width: 10em;\n",
       "  background: linear-gradient(90deg, orange 100.0%, transparent 100.0%);\n",
       "}\n",
       "#T_2a7c6_row1_col4 {\n",
       "  width: 10em;\n",
       "  background: linear-gradient(90deg, orange 94.9%, transparent 94.9%);\n",
       "}\n",
       "#T_2a7c6_row2_col4 {\n",
       "  width: 10em;\n",
       "  background: linear-gradient(90deg, orange 92.2%, transparent 92.2%);\n",
       "}\n",
       "#T_2a7c6_row3_col4 {\n",
       "  width: 10em;\n",
       "  background: linear-gradient(90deg, orange 90.0%, transparent 90.0%);\n",
       "}\n",
       "#T_2a7c6_row4_col4 {\n",
       "  width: 10em;\n",
       "  background: linear-gradient(90deg, orange 89.5%, transparent 89.5%);\n",
       "}\n",
       "#T_2a7c6_row5_col4 {\n",
       "  width: 10em;\n",
       "  background: linear-gradient(90deg, orange 89.1%, transparent 89.1%);\n",
       "}\n",
       "#T_2a7c6_row6_col4 {\n",
       "  width: 10em;\n",
       "  background: linear-gradient(90deg, orange 88.6%, transparent 88.6%);\n",
       "}\n",
       "#T_2a7c6_row7_col4 {\n",
       "  width: 10em;\n",
       "  background: linear-gradient(90deg, orange 87.2%, transparent 87.2%);\n",
       "}\n",
       "#T_2a7c6_row8_col4 {\n",
       "  width: 10em;\n",
       "  background: linear-gradient(90deg, orange 87.0%, transparent 87.0%);\n",
       "}\n",
       "#T_2a7c6_row9_col4 {\n",
       "  width: 10em;\n",
       "  background: linear-gradient(90deg, orange 86.9%, transparent 86.9%);\n",
       "}\n",
       "#T_2a7c6_row10_col4 {\n",
       "  width: 10em;\n",
       "  background: linear-gradient(90deg, orange 86.8%, transparent 86.8%);\n",
       "}\n",
       "#T_2a7c6_row11_col4 {\n",
       "  width: 10em;\n",
       "  background: linear-gradient(90deg, orange 86.6%, transparent 86.6%);\n",
       "}\n",
       "#T_2a7c6_row12_col4 {\n",
       "  width: 10em;\n",
       "  background: linear-gradient(90deg, orange 85.4%, transparent 85.4%);\n",
       "}\n",
       "#T_2a7c6_row13_col4 {\n",
       "  width: 10em;\n",
       "  background: linear-gradient(90deg, orange 84.7%, transparent 84.7%);\n",
       "}\n",
       "#T_2a7c6_row14_col4 {\n",
       "  width: 10em;\n",
       "  background: linear-gradient(90deg, orange 84.2%, transparent 84.2%);\n",
       "}\n",
       "#T_2a7c6_row15_col4 {\n",
       "  width: 10em;\n",
       "  background: linear-gradient(90deg, orange 83.7%, transparent 83.7%);\n",
       "}\n",
       "#T_2a7c6_row16_col4 {\n",
       "  width: 10em;\n",
       "  background: linear-gradient(90deg, orange 83.0%, transparent 83.0%);\n",
       "}\n",
       "#T_2a7c6_row17_col4, #T_2a7c6_row18_col4 {\n",
       "  width: 10em;\n",
       "  background: linear-gradient(90deg, orange 81.6%, transparent 81.6%);\n",
       "}\n",
       "#T_2a7c6_row19_col4 {\n",
       "  width: 10em;\n",
       "  background: linear-gradient(90deg, orange 80.9%, transparent 80.9%);\n",
       "}\n",
       "</style>\n",
       "<table id=\"T_2a7c6\">\n",
       "  <thead>\n",
       "    <tr>\n",
       "      <th class=\"index_name level0\" >Win_Statues</th>\n",
       "      <th id=\"T_2a7c6_level0_col0\" class=\"col_heading level0 col0\" >Draw</th>\n",
       "      <th id=\"T_2a7c6_level0_col1\" class=\"col_heading level0 col1\" >Lost</th>\n",
       "      <th id=\"T_2a7c6_level0_col2\" class=\"col_heading level0 col2\" >Win</th>\n",
       "      <th id=\"T_2a7c6_level0_col3\" class=\"col_heading level0 col3\" >Total</th>\n",
       "      <th id=\"T_2a7c6_level0_col4\" class=\"col_heading level0 col4\" >team_win_probability</th>\n",
       "    </tr>\n",
       "    <tr>\n",
       "      <th class=\"index_name level0\" >home_team</th>\n",
       "      <th class=\"blank col0\" >&nbsp;</th>\n",
       "      <th class=\"blank col1\" >&nbsp;</th>\n",
       "      <th class=\"blank col2\" >&nbsp;</th>\n",
       "      <th class=\"blank col3\" >&nbsp;</th>\n",
       "      <th class=\"blank col4\" >&nbsp;</th>\n",
       "    </tr>\n",
       "  </thead>\n",
       "  <tbody>\n",
       "    <tr>\n",
       "      <th id=\"T_2a7c6_level0_row0\" class=\"row_heading level0 row0\" >Brazil</th>\n",
       "      <td id=\"T_2a7c6_row0_col0\" class=\"data row0 col0\" >110</td>\n",
       "      <td id=\"T_2a7c6_row0_col1\" class=\"data row0 col1\" >58</td>\n",
       "      <td id=\"T_2a7c6_row0_col2\" class=\"data row0 col2\" >423</td>\n",
       "      <td id=\"T_2a7c6_row0_col3\" class=\"data row0 col3\" >591</td>\n",
       "      <td id=\"T_2a7c6_row0_col4\" class=\"data row0 col4\" >0.715736</td>\n",
       "    </tr>\n",
       "    <tr>\n",
       "      <th id=\"T_2a7c6_level0_row1\" class=\"row_heading level0 row1\" >Spain</th>\n",
       "      <td id=\"T_2a7c6_row1_col0\" class=\"data row1 col0\" >70</td>\n",
       "      <td id=\"T_2a7c6_row1_col1\" class=\"data row1 col1\" >51</td>\n",
       "      <td id=\"T_2a7c6_row1_col2\" class=\"data row1 col2\" >256</td>\n",
       "      <td id=\"T_2a7c6_row1_col3\" class=\"data row1 col3\" >377</td>\n",
       "      <td id=\"T_2a7c6_row1_col4\" class=\"data row1 col4\" >0.679045</td>\n",
       "    </tr>\n",
       "    <tr>\n",
       "      <th id=\"T_2a7c6_level0_row2\" class=\"row_heading level0 row2\" >Argentina</th>\n",
       "      <td id=\"T_2a7c6_row2_col0\" class=\"data row2 col0\" >124</td>\n",
       "      <td id=\"T_2a7c6_row2_col1\" class=\"data row2 col1\" >68</td>\n",
       "      <td id=\"T_2a7c6_row2_col2\" class=\"data row2 col2\" >373</td>\n",
       "      <td id=\"T_2a7c6_row2_col3\" class=\"data row2 col3\" >565</td>\n",
       "      <td id=\"T_2a7c6_row2_col4\" class=\"data row2 col4\" >0.660177</td>\n",
       "    </tr>\n",
       "    <tr>\n",
       "      <th id=\"T_2a7c6_level0_row3\" class=\"row_heading level0 row3\" >Egypt</th>\n",
       "      <td id=\"T_2a7c6_row3_col0\" class=\"data row3 col0\" >69</td>\n",
       "      <td id=\"T_2a7c6_row3_col1\" class=\"data row3 col1\" >74</td>\n",
       "      <td id=\"T_2a7c6_row3_col2\" class=\"data row3 col2\" >259</td>\n",
       "      <td id=\"T_2a7c6_row3_col3\" class=\"data row3 col3\" >402</td>\n",
       "      <td id=\"T_2a7c6_row3_col4\" class=\"data row3 col4\" >0.644279</td>\n",
       "    </tr>\n",
       "    <tr>\n",
       "      <th id=\"T_2a7c6_level0_row4\" class=\"row_heading level0 row4\" >Ivory Coast</th>\n",
       "      <td id=\"T_2a7c6_row4_col0\" class=\"data row4 col0\" >67</td>\n",
       "      <td id=\"T_2a7c6_row4_col1\" class=\"data row4 col1\" >35</td>\n",
       "      <td id=\"T_2a7c6_row4_col2\" class=\"data row4 col2\" >182</td>\n",
       "      <td id=\"T_2a7c6_row4_col3\" class=\"data row4 col3\" >284</td>\n",
       "      <td id=\"T_2a7c6_row4_col4\" class=\"data row4 col4\" >0.640845</td>\n",
       "    </tr>\n",
       "    <tr>\n",
       "      <th id=\"T_2a7c6_level0_row5\" class=\"row_heading level0 row5\" >Nigeria</th>\n",
       "      <td id=\"T_2a7c6_row5_col0\" class=\"data row5 col0\" >69</td>\n",
       "      <td id=\"T_2a7c6_row5_col1\" class=\"data row5 col1\" >36</td>\n",
       "      <td id=\"T_2a7c6_row5_col2\" class=\"data row5 col2\" >185</td>\n",
       "      <td id=\"T_2a7c6_row5_col3\" class=\"data row5 col3\" >290</td>\n",
       "      <td id=\"T_2a7c6_row5_col4\" class=\"data row5 col4\" >0.637931</td>\n",
       "    </tr>\n",
       "    <tr>\n",
       "      <th id=\"T_2a7c6_level0_row6\" class=\"row_heading level0 row6\" >Iran</th>\n",
       "      <td id=\"T_2a7c6_row6_col0\" class=\"data row6 col0\" >63</td>\n",
       "      <td id=\"T_2a7c6_row6_col1\" class=\"data row6 col1\" >43</td>\n",
       "      <td id=\"T_2a7c6_row6_col2\" class=\"data row6 col2\" >184</td>\n",
       "      <td id=\"T_2a7c6_row6_col3\" class=\"data row6 col3\" >290</td>\n",
       "      <td id=\"T_2a7c6_row6_col4\" class=\"data row6 col4\" >0.634483</td>\n",
       "    </tr>\n",
       "    <tr>\n",
       "      <th id=\"T_2a7c6_level0_row7\" class=\"row_heading level0 row7\" >Italy</th>\n",
       "      <td id=\"T_2a7c6_row7_col0\" class=\"data row7 col0\" >123</td>\n",
       "      <td id=\"T_2a7c6_row7_col1\" class=\"data row7 col1\" >52</td>\n",
       "      <td id=\"T_2a7c6_row7_col2\" class=\"data row7 col2\" >291</td>\n",
       "      <td id=\"T_2a7c6_row7_col3\" class=\"data row7 col3\" >466</td>\n",
       "      <td id=\"T_2a7c6_row7_col4\" class=\"data row7 col4\" >0.624464</td>\n",
       "    </tr>\n",
       "    <tr>\n",
       "      <th id=\"T_2a7c6_level0_row8\" class=\"row_heading level0 row8\" >Germany</th>\n",
       "      <td id=\"T_2a7c6_row8_col0\" class=\"data row8 col0\" >112</td>\n",
       "      <td id=\"T_2a7c6_row8_col1\" class=\"data row8 col1\" >86</td>\n",
       "      <td id=\"T_2a7c6_row8_col2\" class=\"data row8 col2\" >327</td>\n",
       "      <td id=\"T_2a7c6_row8_col3\" class=\"data row8 col3\" >525</td>\n",
       "      <td id=\"T_2a7c6_row8_col4\" class=\"data row8 col4\" >0.622857</td>\n",
       "    </tr>\n",
       "    <tr>\n",
       "      <th id=\"T_2a7c6_level0_row9\" class=\"row_heading level0 row9\" >England</th>\n",
       "      <td id=\"T_2a7c6_row9_col0\" class=\"data row9 col0\" >114</td>\n",
       "      <td id=\"T_2a7c6_row9_col1\" class=\"data row9 col1\" >83</td>\n",
       "      <td id=\"T_2a7c6_row9_col2\" class=\"data row9 col2\" >324</td>\n",
       "      <td id=\"T_2a7c6_row9_col3\" class=\"data row9 col3\" >521</td>\n",
       "      <td id=\"T_2a7c6_row9_col4\" class=\"data row9 col4\" >0.621881</td>\n",
       "    </tr>\n",
       "    <tr>\n",
       "      <th id=\"T_2a7c6_level0_row10\" class=\"row_heading level0 row10\" >Morocco</th>\n",
       "      <td id=\"T_2a7c6_row10_col0\" class=\"data row10 col0\" >70</td>\n",
       "      <td id=\"T_2a7c6_row10_col1\" class=\"data row10 col1\" >47</td>\n",
       "      <td id=\"T_2a7c6_row10_col2\" class=\"data row10 col2\" >192</td>\n",
       "      <td id=\"T_2a7c6_row10_col3\" class=\"data row10 col3\" >309</td>\n",
       "      <td id=\"T_2a7c6_row10_col4\" class=\"data row10 col4\" >0.621359</td>\n",
       "    </tr>\n",
       "    <tr>\n",
       "      <th id=\"T_2a7c6_level0_row11\" class=\"row_heading level0 row11\" >Ghana</th>\n",
       "      <td id=\"T_2a7c6_row11_col0\" class=\"data row11 col0\" >74</td>\n",
       "      <td id=\"T_2a7c6_row11_col1\" class=\"data row11 col1\" >40</td>\n",
       "      <td id=\"T_2a7c6_row11_col2\" class=\"data row11 col2\" >186</td>\n",
       "      <td id=\"T_2a7c6_row11_col3\" class=\"data row11 col3\" >300</td>\n",
       "      <td id=\"T_2a7c6_row11_col4\" class=\"data row11 col4\" >0.620000</td>\n",
       "    </tr>\n",
       "    <tr>\n",
       "      <th id=\"T_2a7c6_level0_row12\" class=\"row_heading level0 row12\" >Russia</th>\n",
       "      <td id=\"T_2a7c6_row12_col0\" class=\"data row12 col0\" >71</td>\n",
       "      <td id=\"T_2a7c6_row12_col1\" class=\"data row12 col1\" >50</td>\n",
       "      <td id=\"T_2a7c6_row12_col2\" class=\"data row12 col2\" >190</td>\n",
       "      <td id=\"T_2a7c6_row12_col3\" class=\"data row12 col3\" >311</td>\n",
       "      <td id=\"T_2a7c6_row12_col4\" class=\"data row12 col4\" >0.610932</td>\n",
       "    </tr>\n",
       "    <tr>\n",
       "      <th id=\"T_2a7c6_level0_row13\" class=\"row_heading level0 row13\" >Czechoslovakia</th>\n",
       "      <td id=\"T_2a7c6_row13_col0\" class=\"data row13 col0\" >51</td>\n",
       "      <td id=\"T_2a7c6_row13_col1\" class=\"data row13 col1\" >40</td>\n",
       "      <td id=\"T_2a7c6_row13_col2\" class=\"data row13 col2\" >140</td>\n",
       "      <td id=\"T_2a7c6_row13_col3\" class=\"data row13 col3\" >231</td>\n",
       "      <td id=\"T_2a7c6_row13_col4\" class=\"data row13 col4\" >0.606061</td>\n",
       "    </tr>\n",
       "    <tr>\n",
       "      <th id=\"T_2a7c6_level0_row14\" class=\"row_heading level0 row14\" >Senegal</th>\n",
       "      <td id=\"T_2a7c6_row14_col0\" class=\"data row14 col0\" >62</td>\n",
       "      <td id=\"T_2a7c6_row14_col1\" class=\"data row14 col1\" >37</td>\n",
       "      <td id=\"T_2a7c6_row14_col2\" class=\"data row14 col2\" >150</td>\n",
       "      <td id=\"T_2a7c6_row14_col3\" class=\"data row14 col3\" >249</td>\n",
       "      <td id=\"T_2a7c6_row14_col4\" class=\"data row14 col4\" >0.602410</td>\n",
       "    </tr>\n",
       "    <tr>\n",
       "      <th id=\"T_2a7c6_level0_row15\" class=\"row_heading level0 row15\" >Costa Rica</th>\n",
       "      <td id=\"T_2a7c6_row15_col0\" class=\"data row15 col0\" >78</td>\n",
       "      <td id=\"T_2a7c6_row15_col1\" class=\"data row15 col1\" >52</td>\n",
       "      <td id=\"T_2a7c6_row15_col2\" class=\"data row15 col2\" >194</td>\n",
       "      <td id=\"T_2a7c6_row15_col3\" class=\"data row15 col3\" >324</td>\n",
       "      <td id=\"T_2a7c6_row15_col4\" class=\"data row15 col4\" >0.598765</td>\n",
       "    </tr>\n",
       "    <tr>\n",
       "      <th id=\"T_2a7c6_level0_row16\" class=\"row_heading level0 row16\" >South Korea</th>\n",
       "      <td id=\"T_2a7c6_row16_col0\" class=\"data row16 col0\" >118</td>\n",
       "      <td id=\"T_2a7c6_row16_col1\" class=\"data row16 col1\" >83</td>\n",
       "      <td id=\"T_2a7c6_row16_col2\" class=\"data row16 col2\" >294</td>\n",
       "      <td id=\"T_2a7c6_row16_col3\" class=\"data row16 col3\" >495</td>\n",
       "      <td id=\"T_2a7c6_row16_col4\" class=\"data row16 col4\" >0.593939</td>\n",
       "    </tr>\n",
       "    <tr>\n",
       "      <th id=\"T_2a7c6_level0_row17\" class=\"row_heading level0 row17\" >Mexico</th>\n",
       "      <td id=\"T_2a7c6_row17_col0\" class=\"data row17 col0\" >124</td>\n",
       "      <td id=\"T_2a7c6_row17_col1\" class=\"data row17 col1\" >103</td>\n",
       "      <td id=\"T_2a7c6_row17_col2\" class=\"data row17 col2\" >319</td>\n",
       "      <td id=\"T_2a7c6_row17_col3\" class=\"data row17 col3\" >546</td>\n",
       "      <td id=\"T_2a7c6_row17_col4\" class=\"data row17 col4\" >0.584249</td>\n",
       "    </tr>\n",
       "    <tr>\n",
       "      <th id=\"T_2a7c6_level0_row18\" class=\"row_heading level0 row18\" >Sweden</th>\n",
       "      <td id=\"T_2a7c6_row18_col0\" class=\"data row18 col0\" >106</td>\n",
       "      <td id=\"T_2a7c6_row18_col1\" class=\"data row18 col1\" >104</td>\n",
       "      <td id=\"T_2a7c6_row18_col2\" class=\"data row18 col2\" >295</td>\n",
       "      <td id=\"T_2a7c6_row18_col3\" class=\"data row18 col3\" >505</td>\n",
       "      <td id=\"T_2a7c6_row18_col4\" class=\"data row18 col4\" >0.584158</td>\n",
       "    </tr>\n",
       "    <tr>\n",
       "      <th id=\"T_2a7c6_level0_row19\" class=\"row_heading level0 row19\" >France</th>\n",
       "      <td id=\"T_2a7c6_row19_col0\" class=\"data row19 col0\" >102</td>\n",
       "      <td id=\"T_2a7c6_row19_col1\" class=\"data row19 col1\" >109</td>\n",
       "      <td id=\"T_2a7c6_row19_col2\" class=\"data row19 col2\" >290</td>\n",
       "      <td id=\"T_2a7c6_row19_col3\" class=\"data row19 col3\" >501</td>\n",
       "      <td id=\"T_2a7c6_row19_col4\" class=\"data row19 col4\" >0.578842</td>\n",
       "    </tr>\n",
       "  </tbody>\n",
       "</table>\n"
      ],
      "text/plain": [
       "<pandas.io.formats.style.Styler at 0x7fc9618b70a0>"
      ]
     },
     "execution_count": 19,
     "metadata": {},
     "output_type": "execute_result"
    }
   ],
   "source": [
    "#How each team perform while playing a tournament in home grounds\n",
    "\n",
    "teams_win_statues=pd.crosstab(df[\"home_team\"], df[\"Win_Statues\"],margins=True, margins_name=\"Total\")\n",
    "teams_win_statues[\"team_win_probability\"]=teams_win_statues[\"Win\"]/(teams_win_statues[\"Total\"])\n",
    "#Lets take teams which plays atleast 200 games\n",
    "teams_win_statues_100=teams_win_statues.loc[teams_win_statues[\"Total\"]>200]\n",
    "teams_win_statues_100=teams_win_statues_100.sort_values(\"team_win_probability\",ascending=False)\n",
    "teams_win_statues_100.head(20).style.bar(color=\"orange\",subset=\"team_win_probability\")\n",
    "\n",
    "#We can see teams has more than 50% wining probability while playing in the home grounds "
   ]
  },
  {
   "cell_type": "markdown",
   "metadata": {},
   "source": [
    "**Away team winning statistics**"
   ]
  },
  {
   "cell_type": "code",
   "execution_count": 20,
   "metadata": {
    "execution": {
     "iopub.execute_input": "2022-11-16T06:34:07.959898Z",
     "iopub.status.busy": "2022-11-16T06:34:07.959601Z",
     "iopub.status.idle": "2022-11-16T06:34:08.031782Z",
     "shell.execute_reply": "2022-11-16T06:34:08.030933Z",
     "shell.execute_reply.started": "2022-11-16T06:34:07.959879Z"
    },
    "tags": []
   },
   "outputs": [
    {
     "data": {
      "text/html": [
       "<div>\n",
       "<style scoped>\n",
       "    .dataframe tbody tr th:only-of-type {\n",
       "        vertical-align: middle;\n",
       "    }\n",
       "\n",
       "    .dataframe tbody tr th {\n",
       "        vertical-align: top;\n",
       "    }\n",
       "\n",
       "    .dataframe thead th {\n",
       "        text-align: right;\n",
       "    }\n",
       "</style>\n",
       "<table border=\"1\" class=\"dataframe\">\n",
       "  <thead>\n",
       "    <tr style=\"text-align: right;\">\n",
       "      <th>Win_Statues</th>\n",
       "      <th>Draw</th>\n",
       "      <th>Win</th>\n",
       "      <th>Win</th>\n",
       "      <th>Total</th>\n",
       "      <th>team_win_probability</th>\n",
       "    </tr>\n",
       "    <tr>\n",
       "      <th>away_team</th>\n",
       "      <th></th>\n",
       "      <th></th>\n",
       "      <th></th>\n",
       "      <th></th>\n",
       "      <th></th>\n",
       "    </tr>\n",
       "  </thead>\n",
       "  <tbody>\n",
       "    <tr>\n",
       "      <th>Brazil</th>\n",
       "      <td>95</td>\n",
       "      <td>228</td>\n",
       "      <td>102</td>\n",
       "      <td>425</td>\n",
       "      <td>0.536471</td>\n",
       "    </tr>\n",
       "    <tr>\n",
       "      <th>Germany</th>\n",
       "      <td>93</td>\n",
       "      <td>245</td>\n",
       "      <td>119</td>\n",
       "      <td>457</td>\n",
       "      <td>0.536105</td>\n",
       "    </tr>\n",
       "    <tr>\n",
       "      <th>England</th>\n",
       "      <td>136</td>\n",
       "      <td>270</td>\n",
       "      <td>117</td>\n",
       "      <td>523</td>\n",
       "      <td>0.516252</td>\n",
       "    </tr>\n",
       "    <tr>\n",
       "      <th>Spain</th>\n",
       "      <td>100</td>\n",
       "      <td>168</td>\n",
       "      <td>83</td>\n",
       "      <td>351</td>\n",
       "      <td>0.478632</td>\n",
       "    </tr>\n",
       "    <tr>\n",
       "      <th>Iran</th>\n",
       "      <td>67</td>\n",
       "      <td>102</td>\n",
       "      <td>57</td>\n",
       "      <td>226</td>\n",
       "      <td>0.451327</td>\n",
       "    </tr>\n",
       "    <tr>\n",
       "      <th>South Korea</th>\n",
       "      <td>114</td>\n",
       "      <td>181</td>\n",
       "      <td>109</td>\n",
       "      <td>404</td>\n",
       "      <td>0.448020</td>\n",
       "    </tr>\n",
       "    <tr>\n",
       "      <th>Netherlands</th>\n",
       "      <td>83</td>\n",
       "      <td>167</td>\n",
       "      <td>129</td>\n",
       "      <td>379</td>\n",
       "      <td>0.440633</td>\n",
       "    </tr>\n",
       "    <tr>\n",
       "      <th>Russia</th>\n",
       "      <td>116</td>\n",
       "      <td>176</td>\n",
       "      <td>113</td>\n",
       "      <td>405</td>\n",
       "      <td>0.434568</td>\n",
       "    </tr>\n",
       "    <tr>\n",
       "      <th>Japan</th>\n",
       "      <td>57</td>\n",
       "      <td>116</td>\n",
       "      <td>103</td>\n",
       "      <td>276</td>\n",
       "      <td>0.420290</td>\n",
       "    </tr>\n",
       "    <tr>\n",
       "      <th>Australia</th>\n",
       "      <td>58</td>\n",
       "      <td>97</td>\n",
       "      <td>78</td>\n",
       "      <td>233</td>\n",
       "      <td>0.416309</td>\n",
       "    </tr>\n",
       "    <tr>\n",
       "      <th>Italy</th>\n",
       "      <td>112</td>\n",
       "      <td>153</td>\n",
       "      <td>105</td>\n",
       "      <td>370</td>\n",
       "      <td>0.413514</td>\n",
       "    </tr>\n",
       "    <tr>\n",
       "      <th>Sweden</th>\n",
       "      <td>121</td>\n",
       "      <td>221</td>\n",
       "      <td>204</td>\n",
       "      <td>546</td>\n",
       "      <td>0.404762</td>\n",
       "    </tr>\n",
       "    <tr>\n",
       "      <th>Yugoslavia</th>\n",
       "      <td>61</td>\n",
       "      <td>115</td>\n",
       "      <td>115</td>\n",
       "      <td>291</td>\n",
       "      <td>0.395189</td>\n",
       "    </tr>\n",
       "    <tr>\n",
       "      <th>France</th>\n",
       "      <td>85</td>\n",
       "      <td>146</td>\n",
       "      <td>140</td>\n",
       "      <td>371</td>\n",
       "      <td>0.393531</td>\n",
       "    </tr>\n",
       "    <tr>\n",
       "      <th>Mexico</th>\n",
       "      <td>89</td>\n",
       "      <td>147</td>\n",
       "      <td>139</td>\n",
       "      <td>375</td>\n",
       "      <td>0.392000</td>\n",
       "    </tr>\n",
       "    <tr>\n",
       "      <th>Argentina</th>\n",
       "      <td>127</td>\n",
       "      <td>173</td>\n",
       "      <td>145</td>\n",
       "      <td>445</td>\n",
       "      <td>0.388764</td>\n",
       "    </tr>\n",
       "    <tr>\n",
       "      <th>Scotland</th>\n",
       "      <td>92</td>\n",
       "      <td>162</td>\n",
       "      <td>163</td>\n",
       "      <td>417</td>\n",
       "      <td>0.388489</td>\n",
       "    </tr>\n",
       "    <tr>\n",
       "      <th>Portugal</th>\n",
       "      <td>66</td>\n",
       "      <td>118</td>\n",
       "      <td>120</td>\n",
       "      <td>304</td>\n",
       "      <td>0.388158</td>\n",
       "    </tr>\n",
       "    <tr>\n",
       "      <th>Zambia</th>\n",
       "      <td>108</td>\n",
       "      <td>170</td>\n",
       "      <td>166</td>\n",
       "      <td>444</td>\n",
       "      <td>0.382883</td>\n",
       "    </tr>\n",
       "    <tr>\n",
       "      <th>Hungary</th>\n",
       "      <td>106</td>\n",
       "      <td>187</td>\n",
       "      <td>197</td>\n",
       "      <td>490</td>\n",
       "      <td>0.381633</td>\n",
       "    </tr>\n",
       "  </tbody>\n",
       "</table>\n",
       "</div>"
      ],
      "text/plain": [
       "Win_Statues  Draw  Win  Win  Total  team_win_probability\n",
       "away_team                                               \n",
       "Brazil         95  228  102    425              0.536471\n",
       "Germany        93  245  119    457              0.536105\n",
       "England       136  270  117    523              0.516252\n",
       "Spain         100  168   83    351              0.478632\n",
       "Iran           67  102   57    226              0.451327\n",
       "South Korea   114  181  109    404              0.448020\n",
       "Netherlands    83  167  129    379              0.440633\n",
       "Russia        116  176  113    405              0.434568\n",
       "Japan          57  116  103    276              0.420290\n",
       "Australia      58   97   78    233              0.416309\n",
       "Italy         112  153  105    370              0.413514\n",
       "Sweden        121  221  204    546              0.404762\n",
       "Yugoslavia     61  115  115    291              0.395189\n",
       "France         85  146  140    371              0.393531\n",
       "Mexico         89  147  139    375              0.392000\n",
       "Argentina     127  173  145    445              0.388764\n",
       "Scotland       92  162  163    417              0.388489\n",
       "Portugal       66  118  120    304              0.388158\n",
       "Zambia        108  170  166    444              0.382883\n",
       "Hungary       106  187  197    490              0.381633"
      ]
     },
     "execution_count": 20,
     "metadata": {},
     "output_type": "execute_result"
    }
   ],
   "source": [
    "#Teams playing in away conditions\n",
    "\n",
    "teams_away_statues=pd.crosstab(df[\"away_team\"], df[\"Win_Statues\"],margins=True, margins_name=\"Total\")\n",
    "teams_away_statues[\"team_win_probability\"]=teams_away_statues[\"Lost\"]/(teams_away_statues[\"Total\"])\n",
    "#Lets take teams which plays atleast 200 games\n",
    "teams_away_statues_100=teams_away_statues.loc[teams_away_statues[\"Total\"]>200]\n",
    "teams_away_statues_100=teams_away_statues_100.sort_values(\"team_win_probability\",ascending=False)\n",
    "teams_away_statues_100.rename(columns={'Lost': 'Win'}, index={'Win': 'Lost'}, inplace=True)\n",
    "teams_away_statues_100.head(20)\n",
    "\n",
    "#The probability to wining a tournament in away conditions is very low comapred to the winning probalities in home conditions"
   ]
  },
  {
   "cell_type": "code",
   "execution_count": 21,
   "metadata": {
    "execution": {
     "iopub.execute_input": "2022-11-16T06:34:08.955649Z",
     "iopub.status.busy": "2022-11-16T06:34:08.955254Z",
     "iopub.status.idle": "2022-11-16T06:34:09.529320Z",
     "shell.execute_reply": "2022-11-16T06:34:09.528215Z",
     "shell.execute_reply.started": "2022-11-16T06:34:08.955631Z"
    },
    "tags": []
   },
   "outputs": [
    {
     "data": {
      "image/png": "[encoded data removed]",
      "text/plain": [
       "<Figure size 1400x600 with 1 Axes>"
      ]
     },
     "metadata": {},
     "output_type": "display_data"
    }
   ],
   "source": [
    "#Making a plot to identify wining possibilities in both home and away conditions\n",
    "\n",
    "win_prob={teams_win_statues_100.iloc[i,:].name:[teams_win_statues_100.iloc[i,4]] for i in range(teams_win_statues_100.shape[0])}\n",
    "for i in range(teams_away_statues_100.shape[0]):\n",
    "    try:\n",
    "        win_prob[teams_away_statues_100.iloc[i,:].name].append(teams_away_statues_100.iloc[i,4]) \n",
    "    except:\n",
    "        pass\n",
    "country_names=win_prob.keys()\n",
    "lst_home=[i[0] for i in win_prob.values()]\n",
    "\n",
    "lst_away=[]\n",
    "for i in win_prob.values():\n",
    "    if len(i)==2:\n",
    "        lst_away.append(i[1])\n",
    "    else:\n",
    "        lst_away.append(0)\n",
    "\n",
    "plt.figure(figsize=(14,6))\n",
    "plt.plot(country_names,lst_home, label = \"Home Win Probability\")\n",
    "plt.plot(country_names, lst_away, label = \"Away Win Probability\")\n",
    "plt.xticks(rotation = 90)\n",
    "plt.title(\"Winning Probability of each team (Home and Away)\")\n",
    "plt.legend()\n",
    "plt.show()"
   ]
  },
  {
   "cell_type": "markdown",
   "metadata": {},
   "source": [
    "Blue line is alway above the yellow line,showing home winning possibilies are always higher.\n",
    "\n",
    "**Finally by analysing the data, we can identify that the home team has a clear edge while playing a tournament in their home grounds**\n",
    "\n"
   ]
  },
  {
   "cell_type": "markdown",
   "metadata": {},
   "source": [
    "### (2) Finding Most Succesful Team\n",
    "\n",
    "**Finding the team which performs best in home conditions each year interval**"
   ]
  },
  {
   "cell_type": "code",
   "execution_count": 22,
   "metadata": {
    "execution": {
     "iopub.execute_input": "2022-11-16T06:08:30.928283Z",
     "iopub.status.busy": "2022-11-16T06:08:30.927577Z",
     "iopub.status.idle": "2022-11-16T06:08:30.932624Z",
     "shell.execute_reply": "2022-11-16T06:08:30.931312Z",
     "shell.execute_reply.started": "2022-11-16T06:08:30.928266Z"
    },
    "tags": []
   },
   "outputs": [],
   "source": [
    "# pip install tabulate"
   ]
  },
  {
   "cell_type": "code",
   "execution_count": 22,
   "metadata": {
    "execution": {
     "iopub.execute_input": "2022-11-16T06:34:57.875882Z",
     "iopub.status.busy": "2022-11-16T06:34:57.875563Z",
     "iopub.status.idle": "2022-11-16T06:34:57.882145Z",
     "shell.execute_reply": "2022-11-16T06:34:57.881456Z",
     "shell.execute_reply.started": "2022-11-16T06:34:57.875865Z"
    },
    "scrolled": true,
    "tags": []
   },
   "outputs": [
    {
     "data": {
      "text/plain": [
       "2022"
      ]
     },
     "execution_count": 22,
     "metadata": {},
     "output_type": "execute_result"
    }
   ],
   "source": [
    "max(years)"
   ]
  },
  {
   "cell_type": "code",
   "execution_count": 23,
   "metadata": {
    "execution": {
     "iopub.execute_input": "2022-11-16T06:34:58.829965Z",
     "iopub.status.busy": "2022-11-16T06:34:58.829731Z",
     "iopub.status.idle": "2022-11-16T06:34:59.135037Z",
     "shell.execute_reply": "2022-11-16T06:34:59.134057Z",
     "shell.execute_reply.started": "2022-11-16T06:34:58.829948Z"
    },
    "tags": []
   },
   "outputs": [
    {
     "name": "stdout",
     "output_type": "stream",
     "text": [
      "No Enough data to find the best team in the term: 1872-1886 \n",
      "\n",
      "Best 2 team in the term: 1886-1900 \n",
      "| home_team   |   Draw |   Lost |   Win |   Total |   team_win_probability |\n",
      "|:------------|-------:|-------:|------:|--------:|-----------------------:|\n",
      "| England     |      1 |      3 |    18 |      22 |               0.818182 |\n",
      "| Scotland    |      3 |      3 |    16 |      22 |               0.727273 |\n",
      "\n",
      "Best 2 team in the term: 1900-1914 \n",
      "| home_team   |   Draw |   Lost |   Win |   Total |   team_win_probability |\n",
      "|:------------|-------:|-------:|------:|--------:|-----------------------:|\n",
      "| England     |      6 |      1 |    14 |      21 |               0.666667 |\n",
      "| Hungary     |      6 |      3 |    16 |      25 |               0.64     |\n",
      "\n",
      "Best 2 team in the term: 1914-1928 \n",
      "| home_team   |   Draw |   Lost |   Win |   Total |   team_win_probability |\n",
      "|:------------|-------:|-------:|------:|--------:|-----------------------:|\n",
      "| Denmark     |      4 |      3 |    19 |      26 |               0.730769 |\n",
      "| Argentina   |     10 |      9 |    38 |      57 |               0.666667 |\n",
      "\n",
      "Best 2 team in the term: 1928-1942 \n",
      "| home_team   |   Draw |   Lost |   Win |   Total |   team_win_probability |\n",
      "|:------------|-------:|-------:|------:|--------:|-----------------------:|\n",
      "| Argentina   |      3 |      4 |    34 |      41 |               0.829268 |\n",
      "| England     |      1 |      4 |    20 |      25 |               0.8      |\n",
      "\n",
      "Best 2 team in the term: 1942-1956 \n",
      "| home_team   |   Draw |   Lost |   Win |   Total |   team_win_probability |\n",
      "|:------------|-------:|-------:|------:|--------:|-----------------------:|\n",
      "| Costa Rica  |      0 |      2 |    20 |      22 |               0.909091 |\n",
      "| Hungary     |      5 |      2 |    34 |      41 |               0.829268 |\n",
      "\n",
      "Best 2 team in the term: 1956-1970 \n",
      "| home_team   |   Draw |   Lost |   Win |   Total |   team_win_probability |\n",
      "|:------------|-------:|-------:|------:|--------:|-----------------------:|\n",
      "| China PR    |      2 |      3 |    18 |      23 |               0.782609 |\n",
      "| Ghana       |     10 |      0 |    30 |      40 |               0.75     |\n",
      "\n",
      "Best 2 team in the term: 1970-1984 \n",
      "| home_team   |   Draw |   Lost |   Win |   Total |   team_win_probability |\n",
      "|:------------|-------:|-------:|------:|--------:|-----------------------:|\n",
      "| Russia      |      7 |      7 |    39 |      53 |               0.735849 |\n",
      "| Brazil      |     22 |      4 |    68 |      94 |               0.723404 |\n",
      "\n",
      "Best 2 team in the term: 1984-1998 \n",
      "| home_team      |   Draw |   Lost |   Win |   Total |   team_win_probability |\n",
      "|:---------------|-------:|-------:|------:|--------:|-----------------------:|\n",
      "| Czech Republic |      2 |      3 |    20 |      25 |               0.8      |\n",
      "| Nigeria        |      9 |      3 |    40 |      52 |               0.769231 |\n",
      "\n",
      "Best 2 team in the term: 1998-2012 \n",
      "| home_team   |   Draw |   Lost |   Win |   Total |   team_win_probability |\n",
      "|:------------|-------:|-------:|------:|--------:|-----------------------:|\n",
      "| Spain       |     10 |     10 |    77 |      97 |               0.793814 |\n",
      "| Jersey      |      4 |      2 |    19 |      25 |               0.76     |\n",
      "\n",
      "Best 2 team in the term: 2012-2021 \n",
      "| home_team   |   Draw |   Lost |   Win |   Total |   team_win_probability |\n",
      "|:------------|-------:|-------:|------:|--------:|-----------------------:|\n",
      "| Egypt       |      6 |      8 |    47 |      61 |               0.770492 |\n",
      "| Spain       |      8 |      5 |    43 |      56 |               0.767857 |\n"
     ]
    }
   ],
   "source": [
    "#Home Conditions\n",
    "#Convert the data set into 10 terms and findsout who has done best at each term \n",
    "\n",
    "range_years=2021-min(years)\n",
    "no_0f_terms=10\n",
    "term_size=int(range_years/no_0f_terms)\n",
    "for i in range(no_0f_terms+1):\n",
    "    start=years.index(term_size*i+min(years))\n",
    "    end=years.index(min(term_size*(i+1)+min(years),2021))\n",
    "    term=df.iloc[start:end]\n",
    "    best_teams=pd.crosstab(term[\"home_team\"], term[\"Win_Statues\"],margins=True, margins_name=\"Total\")\n",
    "    \n",
    "    ##Lets take teams which plays atleast 20 games\n",
    "    best_teams[\"team_win_probability\"]=best_teams[\"Win\"]/(best_teams[\"Total\"])\n",
    "    best_teams=best_teams.sort_values(\"team_win_probability\",ascending=False)\n",
    "    best_teams=best_teams.loc[best_teams[\"Total\"]>20]\n",
    "    if (best_teams.shape[0]>2):\n",
    "        print(f\"\\nBest 2 team in the term: {term_size*i+min(years)}-{min(term_size*(i+1)+min(years),2021)} \")\n",
    "        print(best_teams.iloc[0:2].to_markdown())\n",
    "    else:\n",
    "        print(f\"No Enough data to find the best team in the term: {term_size*i+min(years)}-{min(term_size*(i+1)+min(years),2021)} \")"
   ]
  },
  {
   "cell_type": "markdown",
   "metadata": {},
   "source": [
    "**Finding the team which performs best in away conditions each year interval**"
   ]
  },
  {
   "cell_type": "code",
   "execution_count": 24,
   "metadata": {
    "execution": {
     "iopub.execute_input": "2022-11-16T06:35:01.501903Z",
     "iopub.status.busy": "2022-11-16T06:35:01.501031Z",
     "iopub.status.idle": "2022-11-16T06:35:01.828443Z",
     "shell.execute_reply": "2022-11-16T06:35:01.827575Z",
     "shell.execute_reply.started": "2022-11-16T06:35:01.501864Z"
    },
    "tags": []
   },
   "outputs": [
    {
     "name": "stdout",
     "output_type": "stream",
     "text": [
      "\n",
      "Best 2 team in the term: 1872-1886 \n",
      "No Enough data to find the best team in the term: 1872-1886 \n",
      "\n",
      "Best 2 team in the term: 1886-1900 \n",
      "| away_team   |   Draw |   Lost |   Win |   Total |   team_win_probability |\n",
      "|:------------|-------:|-------:|------:|--------:|-----------------------:|\n",
      "| Scotland    |      4 |     13 |     4 |      21 |               0.619048 |\n",
      "| Total       |     11 |     30 |    44 |      85 |               0.352941 |\n",
      "\n",
      "Best 2 team in the term: 1900-1914 \n",
      "| away_team   |   Draw |   Lost |   Win |   Total |   team_win_probability |\n",
      "|:------------|-------:|-------:|------:|--------:|-----------------------:|\n",
      "| England     |      6 |     18 |     4 |      28 |               0.642857 |\n",
      "| Total       |     44 |     91 |   122 |     257 |               0.354086 |\n",
      "\n",
      "Best 2 team in the term: 1914-1928 \n",
      "| away_team   |   Draw |   Lost |   Win |   Total |   team_win_probability |\n",
      "|:------------|-------:|-------:|------:|--------:|-----------------------:|\n",
      "| England     |      8 |     13 |     5 |      26 |               0.5      |\n",
      "| Uruguay     |      8 |     20 |    17 |      45 |               0.444444 |\n",
      "\n",
      "Best 2 team in the term: 1928-1942 \n",
      "| away_team   |   Draw |   Lost |   Win |   Total |   team_win_probability |\n",
      "|:------------|-------:|-------:|------:|--------:|-----------------------:|\n",
      "| Italy       |      8 |     20 |     8 |      36 |               0.555556 |\n",
      "| Germany     |      6 |     32 |    20 |      58 |               0.551724 |\n",
      "\n",
      "Best 2 team in the term: 1942-1956 \n",
      "| away_team   |   Draw |   Lost |   Win |   Total |   team_win_probability |\n",
      "|:------------|-------:|-------:|------:|--------:|-----------------------:|\n",
      "| Hungary     |      7 |     31 |     9 |      47 |               0.659574 |\n",
      "| Yugoslavia  |      7 |     24 |     9 |      40 |               0.6      |\n",
      "\n",
      "Best 2 team in the term: 1956-1970 \n",
      "| away_team   |   Draw |   Lost |   Win |   Total |   team_win_probability |\n",
      "|:------------|-------:|-------:|------:|--------:|-----------------------:|\n",
      "| Haiti       |      2 |     14 |     6 |      22 |               0.636364 |\n",
      "| Brazil      |     15 |     46 |    20 |      81 |               0.567901 |\n",
      "\n",
      "Best 2 team in the term: 1970-1984 \n",
      "| away_team   |   Draw |   Lost |   Win |   Total |   team_win_probability |\n",
      "|:------------|-------:|-------:|------:|--------:|-----------------------:|\n",
      "| Tahiti      |      3 |     21 |     5 |      29 |               0.724138 |\n",
      "| Germany     |     15 |     40 |    14 |      69 |               0.57971  |\n",
      "\n",
      "Best 2 team in the term: 1984-1998 \n",
      "| away_team   |   Draw |   Lost |   Win |   Total |   team_win_probability |\n",
      "|:------------|-------:|-------:|------:|--------:|-----------------------:|\n",
      "| Brazil      |     18 |     41 |    17 |      76 |               0.539474 |\n",
      "| Germany     |     22 |     44 |    17 |      83 |               0.53012  |\n",
      "\n",
      "Best 2 team in the term: 1998-2012 \n",
      "| away_team   |   Draw |   Lost |   Win |   Total |   team_win_probability |\n",
      "|:------------|-------:|-------:|------:|--------:|-----------------------:|\n",
      "| Spain       |     20 |     50 |    12 |      82 |               0.609756 |\n",
      "| France      |     22 |     46 |    12 |      80 |               0.575    |\n",
      "\n",
      "Best 2 team in the term: 2012-2021 \n",
      "| away_team   |   Draw |   Lost |   Win |   Total |   team_win_probability |\n",
      "|:------------|-------:|-------:|------:|--------:|-----------------------:|\n",
      "| Brazil      |      7 |     32 |     6 |      45 |               0.711111 |\n",
      "| Belgium     |      4 |     31 |     9 |      44 |               0.704545 |\n"
     ]
    }
   ],
   "source": [
    "#Away Conditions\n",
    "##Convert the data set into 10 terms and findsout who has done best at each term \n",
    "\n",
    "range_years=2021-min(years)\n",
    "no_0f_terms=10\n",
    "term_size=int(range_years/no_0f_terms)\n",
    "for i in range(no_0f_terms+1):\n",
    "    start=years.index(term_size*i+min(years))\n",
    "    end=years.index(min(term_size*(i+1)+min(years),2021))\n",
    "    term=df.iloc[start:end]\n",
    "    best_teams=pd.crosstab(term[\"away_team\"], term[\"Win_Statues\"],margins=True, margins_name=\"Total\")\n",
    "    \n",
    "    ##Lets take teams which plays atleast 200 games\n",
    "    best_teams[\"team_win_probability\"]=best_teams[\"Lost\"]/(best_teams[\"Total\"])\n",
    "    best_teams=best_teams.sort_values(\"team_win_probability\",ascending=False)\n",
    "    best_teams=best_teams.loc[best_teams[\"Total\"]>20]\n",
    "    print(f\"\\nBest 2 team in the term: {term_size*i+min(years)}-{min(term_size*(i+1)+min(years),2021)} \")\n",
    "    if (best_teams.shape[0]>2):\n",
    "        print(best_teams.iloc[0:2].to_markdown())\n",
    "    else:\n",
    "        print(f\"No Enough data to find the best team in the term: {term_size*i+min(years)}-{min(term_size*(i+1)+min(years),2021)} \")"
   ]
  },
  {
   "cell_type": "markdown",
   "metadata": {},
   "source": [
    "### (3) FIFA World Cup -2022- QATAR\n",
    "\n",
    "**Making a ML model**"
   ]
  },
  {
   "cell_type": "code",
   "execution_count": 33,
   "metadata": {
    "execution": {
     "iopub.execute_input": "2022-11-16T06:37:11.617873Z",
     "iopub.status.busy": "2022-11-16T06:37:11.617540Z",
     "iopub.status.idle": "2022-11-16T06:37:11.634731Z",
     "shell.execute_reply": "2022-11-16T06:37:11.634088Z",
     "shell.execute_reply.started": "2022-11-16T06:37:11.617856Z"
    },
    "tags": []
   },
   "outputs": [
    {
     "data": {
      "text/html": [
       "<div>\n",
       "<style scoped>\n",
       "    .dataframe tbody tr th:only-of-type {\n",
       "        vertical-align: middle;\n",
       "    }\n",
       "\n",
       "    .dataframe tbody tr th {\n",
       "        vertical-align: top;\n",
       "    }\n",
       "\n",
       "    .dataframe thead th {\n",
       "        text-align: right;\n",
       "    }\n",
       "</style>\n",
       "<table border=\"1\" class=\"dataframe\">\n",
       "  <thead>\n",
       "    <tr style=\"text-align: right;\">\n",
       "      <th></th>\n",
       "      <th>date</th>\n",
       "      <th>home_team</th>\n",
       "      <th>away_team</th>\n",
       "      <th>home_score</th>\n",
       "      <th>away_score</th>\n",
       "      <th>tournament</th>\n",
       "      <th>city</th>\n",
       "      <th>country</th>\n",
       "      <th>neutral</th>\n",
       "      <th>Win_Statues</th>\n",
       "    </tr>\n",
       "  </thead>\n",
       "  <tbody>\n",
       "    <tr>\n",
       "      <th>29</th>\n",
       "      <td>1884-01-26</td>\n",
       "      <td>Northern Ireland</td>\n",
       "      <td>Scotland</td>\n",
       "      <td>0.0</td>\n",
       "      <td>5.0</td>\n",
       "      <td>British Championship</td>\n",
       "      <td>Belfast</td>\n",
       "      <td>Ireland</td>\n",
       "      <td>False</td>\n",
       "      <td>Lost</td>\n",
       "    </tr>\n",
       "    <tr>\n",
       "      <th>30</th>\n",
       "      <td>1884-02-09</td>\n",
       "      <td>Wales</td>\n",
       "      <td>Northern Ireland</td>\n",
       "      <td>6.0</td>\n",
       "      <td>0.0</td>\n",
       "      <td>British Championship</td>\n",
       "      <td>Wrexham</td>\n",
       "      <td>Wales</td>\n",
       "      <td>False</td>\n",
       "      <td>Win</td>\n",
       "    </tr>\n",
       "    <tr>\n",
       "      <th>31</th>\n",
       "      <td>1884-02-23</td>\n",
       "      <td>Northern Ireland</td>\n",
       "      <td>England</td>\n",
       "      <td>1.0</td>\n",
       "      <td>8.0</td>\n",
       "      <td>British Championship</td>\n",
       "      <td>Belfast</td>\n",
       "      <td>Ireland</td>\n",
       "      <td>False</td>\n",
       "      <td>Lost</td>\n",
       "    </tr>\n",
       "    <tr>\n",
       "      <th>32</th>\n",
       "      <td>1884-03-15</td>\n",
       "      <td>Scotland</td>\n",
       "      <td>England</td>\n",
       "      <td>1.0</td>\n",
       "      <td>0.0</td>\n",
       "      <td>British Championship</td>\n",
       "      <td>Glasgow</td>\n",
       "      <td>Scotland</td>\n",
       "      <td>False</td>\n",
       "      <td>Win</td>\n",
       "    </tr>\n",
       "    <tr>\n",
       "      <th>33</th>\n",
       "      <td>1884-03-17</td>\n",
       "      <td>Wales</td>\n",
       "      <td>England</td>\n",
       "      <td>0.0</td>\n",
       "      <td>4.0</td>\n",
       "      <td>British Championship</td>\n",
       "      <td>Wrexham</td>\n",
       "      <td>Wales</td>\n",
       "      <td>False</td>\n",
       "      <td>Lost</td>\n",
       "    </tr>\n",
       "    <tr>\n",
       "      <th>34</th>\n",
       "      <td>1884-03-29</td>\n",
       "      <td>Scotland</td>\n",
       "      <td>Wales</td>\n",
       "      <td>4.0</td>\n",
       "      <td>1.0</td>\n",
       "      <td>British Championship</td>\n",
       "      <td>Glasgow</td>\n",
       "      <td>Scotland</td>\n",
       "      <td>False</td>\n",
       "      <td>Win</td>\n",
       "    </tr>\n",
       "    <tr>\n",
       "      <th>35</th>\n",
       "      <td>1885-02-28</td>\n",
       "      <td>England</td>\n",
       "      <td>Northern Ireland</td>\n",
       "      <td>4.0</td>\n",
       "      <td>0.0</td>\n",
       "      <td>British Championship</td>\n",
       "      <td>Manchester</td>\n",
       "      <td>England</td>\n",
       "      <td>False</td>\n",
       "      <td>Win</td>\n",
       "    </tr>\n",
       "    <tr>\n",
       "      <th>36</th>\n",
       "      <td>1885-03-14</td>\n",
       "      <td>England</td>\n",
       "      <td>Wales</td>\n",
       "      <td>1.0</td>\n",
       "      <td>1.0</td>\n",
       "      <td>British Championship</td>\n",
       "      <td>Blackburn</td>\n",
       "      <td>England</td>\n",
       "      <td>False</td>\n",
       "      <td>Draw</td>\n",
       "    </tr>\n",
       "  </tbody>\n",
       "</table>\n",
       "</div>"
      ],
      "text/plain": [
       "          date         home_team         away_team  home_score  away_score  \\\n",
       "29  1884-01-26  Northern Ireland          Scotland         0.0         5.0   \n",
       "30  1884-02-09             Wales  Northern Ireland         6.0         0.0   \n",
       "31  1884-02-23  Northern Ireland           England         1.0         8.0   \n",
       "32  1884-03-15          Scotland           England         1.0         0.0   \n",
       "33  1884-03-17             Wales           England         0.0         4.0   \n",
       "34  1884-03-29          Scotland             Wales         4.0         1.0   \n",
       "35  1885-02-28           England  Northern Ireland         4.0         0.0   \n",
       "36  1885-03-14           England             Wales         1.0         1.0   \n",
       "\n",
       "              tournament        city   country  neutral Win_Statues  \n",
       "29  British Championship     Belfast   Ireland    False        Lost  \n",
       "30  British Championship     Wrexham     Wales    False         Win  \n",
       "31  British Championship     Belfast   Ireland    False        Lost  \n",
       "32  British Championship     Glasgow  Scotland    False         Win  \n",
       "33  British Championship     Wrexham     Wales    False        Lost  \n",
       "34  British Championship     Glasgow  Scotland    False         Win  \n",
       "35  British Championship  Manchester   England    False         Win  \n",
       "36  British Championship   Blackburn   England    False        Draw  "
      ]
     },
     "execution_count": 33,
     "metadata": {},
     "output_type": "execute_result"
    }
   ],
   "source": [
    "df_match=df.copy() #making a copy of the main dataframe for future use\n",
    "df_match = df_match[df_match['tournament'] != 'Friendly']\n",
    "df_match.head(8)"
   ]
  },
  {
   "cell_type": "code",
   "execution_count": 34,
   "metadata": {
    "execution": {
     "iopub.execute_input": "2022-11-16T06:37:18.121361Z",
     "iopub.status.busy": "2022-11-16T06:37:18.120539Z",
     "iopub.status.idle": "2022-11-16T06:37:18.228217Z",
     "shell.execute_reply": "2022-11-16T06:37:18.227394Z",
     "shell.execute_reply.started": "2022-11-16T06:37:18.121342Z"
    },
    "tags": []
   },
   "outputs": [
    {
     "data": {
      "text/html": [
       "<div>\n",
       "<style scoped>\n",
       "    .dataframe tbody tr th:only-of-type {\n",
       "        vertical-align: middle;\n",
       "    }\n",
       "\n",
       "    .dataframe tbody tr th {\n",
       "        vertical-align: top;\n",
       "    }\n",
       "\n",
       "    .dataframe thead th {\n",
       "        text-align: right;\n",
       "    }\n",
       "</style>\n",
       "<table border=\"1\" class=\"dataframe\">\n",
       "  <thead>\n",
       "    <tr style=\"text-align: right;\">\n",
       "      <th></th>\n",
       "      <th>year</th>\n",
       "      <th>Country</th>\n",
       "      <th>team_1</th>\n",
       "      <th>team_2</th>\n",
       "      <th>team_1_score</th>\n",
       "      <th>team_2_score</th>\n",
       "    </tr>\n",
       "  </thead>\n",
       "  <tbody>\n",
       "    <tr>\n",
       "      <th>0</th>\n",
       "      <td>1945</td>\n",
       "      <td>Wales</td>\n",
       "      <td>Wales</td>\n",
       "      <td>Northern Ireland</td>\n",
       "      <td>1.0</td>\n",
       "      <td>4.0</td>\n",
       "    </tr>\n",
       "    <tr>\n",
       "      <th>1</th>\n",
       "      <td>1996</td>\n",
       "      <td>Saudi Arabia</td>\n",
       "      <td>Iraq</td>\n",
       "      <td>Lebanon</td>\n",
       "      <td>1.0</td>\n",
       "      <td>0.0</td>\n",
       "    </tr>\n",
       "    <tr>\n",
       "      <th>2</th>\n",
       "      <td>1967</td>\n",
       "      <td>Republic of Ireland</td>\n",
       "      <td>Republic of Ireland</td>\n",
       "      <td>Netherlands</td>\n",
       "      <td>2.0</td>\n",
       "      <td>3.0</td>\n",
       "    </tr>\n",
       "    <tr>\n",
       "      <th>3</th>\n",
       "      <td>1977</td>\n",
       "      <td>Latvia</td>\n",
       "      <td>Estonia</td>\n",
       "      <td>Lithuania</td>\n",
       "      <td>0.0</td>\n",
       "      <td>7.0</td>\n",
       "    </tr>\n",
       "    <tr>\n",
       "      <th>4</th>\n",
       "      <td>2000</td>\n",
       "      <td>Northern Ireland</td>\n",
       "      <td>Northern Ireland</td>\n",
       "      <td>Czech Republic</td>\n",
       "      <td>2.0</td>\n",
       "      <td>0.0</td>\n",
       "    </tr>\n",
       "  </tbody>\n",
       "</table>\n",
       "</div>"
      ],
      "text/plain": [
       "   year              Country               team_1            team_2  \\\n",
       "0  1945                Wales                Wales  Northern Ireland   \n",
       "1  1996         Saudi Arabia                 Iraq           Lebanon   \n",
       "2  1967  Republic of Ireland  Republic of Ireland       Netherlands   \n",
       "3  1977               Latvia              Estonia         Lithuania   \n",
       "4  2000     Northern Ireland     Northern Ireland    Czech Republic   \n",
       "\n",
       "   team_1_score  team_2_score  \n",
       "0           1.0           4.0  \n",
       "1           1.0           0.0  \n",
       "2           2.0           3.0  \n",
       "3           0.0           7.0  \n",
       "4           2.0           0.0  "
      ]
     },
     "execution_count": 34,
     "metadata": {},
     "output_type": "execute_result"
    }
   ],
   "source": [
    "#Making a new dataset with required features to train the machine learning model\n",
    "#Year,Played Country,Team_1,team_2,team_1 score,team_2 score\n",
    "\n",
    "New_Dataset_part_1=pd.DataFrame(list(zip(years,df_match.values[:,7],df_match.values[:,1],df_match.values[:,2],df_match.values[:,3],df_match.values[:,4])),columns=[\"year\",\"Country\",\"team_1\",\"team_2\",\"team_1_score\",\"team_2_score\"])\n",
    "#Making a new dataset by changing the team_1 and team_2 and their respective scores\n",
    "New_Dataset_part_2=pd.DataFrame(list(zip(years,df_match.values[:,7],df_match.values[:,2],df_match.values[:,1],df_match.values[:,4],df_match.values[:,3])),columns=[\"year\",\"Country\",\"team_1\",\"team_2\",\"team_1_score\",\"team_2_score\"])\n",
    "New_Dataset=pd.concat([New_Dataset_part_1,New_Dataset_part_2],axis=0)\n",
    "New_Dataset =New_Dataset.sample(frac=1).reset_index(drop=True) #Shaffling the dataset\n",
    "New_Dataset.head(5)"
   ]
  },
  {
   "cell_type": "code",
   "execution_count": 35,
   "metadata": {
    "execution": {
     "iopub.execute_input": "2022-11-16T06:37:18.961739Z",
     "iopub.status.busy": "2022-11-16T06:37:18.961485Z",
     "iopub.status.idle": "2022-11-16T06:37:18.968022Z",
     "shell.execute_reply": "2022-11-16T06:37:18.967003Z",
     "shell.execute_reply.started": "2022-11-16T06:37:18.961722Z"
    },
    "tags": []
   },
   "outputs": [
    {
     "data": {
      "text/plain": [
       "(53176, 6)"
      ]
     },
     "execution_count": 35,
     "metadata": {},
     "output_type": "execute_result"
    }
   ],
   "source": [
    "New_Dataset.shape"
   ]
  },
  {
   "cell_type": "code",
   "execution_count": 36,
   "metadata": {
    "execution": {
     "iopub.execute_input": "2022-11-16T06:37:23.376687Z",
     "iopub.status.busy": "2022-11-16T06:37:23.376262Z",
     "iopub.status.idle": "2022-11-16T06:37:23.386039Z",
     "shell.execute_reply": "2022-11-16T06:37:23.385210Z",
     "shell.execute_reply.started": "2022-11-16T06:37:23.376668Z"
    },
    "tags": []
   },
   "outputs": [
    {
     "data": {
      "text/plain": [
       "314"
      ]
     },
     "execution_count": 36,
     "metadata": {},
     "output_type": "execute_result"
    }
   ],
   "source": [
    "#Creating a list containg all the names of the countries\n",
    "\n",
    "teams_1=New_Dataset.team_1.unique()\n",
    "contries=New_Dataset.Country.unique()\n",
    "all_countries=np.unique(np.concatenate((teams_1,contries), axis=0))\n",
    "len(all_countries)"
   ]
  },
  {
   "cell_type": "code",
   "execution_count": 37,
   "metadata": {
    "execution": {
     "iopub.execute_input": "2022-11-16T06:37:26.052422Z",
     "iopub.status.busy": "2022-11-16T06:37:26.051496Z",
     "iopub.status.idle": "2022-11-16T06:37:26.231060Z",
     "shell.execute_reply": "2022-11-16T06:37:26.230328Z",
     "shell.execute_reply.started": "2022-11-16T06:37:26.052382Z"
    },
    "tags": []
   },
   "outputs": [
    {
     "name": "stderr",
     "output_type": "stream",
     "text": [
      "/tmp/ipykernel_2041/3716185662.py:3: FutureWarning: The default value of numeric_only in DataFrame.corr is deprecated. In a future version, it will default to False. Select only valid columns or specify the value of numeric_only to silence this warning.\n",
      "  sns.heatmap(New_Dataset.corr())\n",
      "/tmp/ipykernel_2041/3716185662.py:4: FutureWarning: The default value of numeric_only in DataFrame.corr is deprecated. In a future version, it will default to False. Select only valid columns or specify the value of numeric_only to silence this warning.\n",
      "  New_Dataset.corr()\n"
     ]
    },
    {
     "data": {
      "text/html": [
       "<div>\n",
       "<style scoped>\n",
       "    .dataframe tbody tr th:only-of-type {\n",
       "        vertical-align: middle;\n",
       "    }\n",
       "\n",
       "    .dataframe tbody tr th {\n",
       "        vertical-align: top;\n",
       "    }\n",
       "\n",
       "    .dataframe thead th {\n",
       "        text-align: right;\n",
       "    }\n",
       "</style>\n",
       "<table border=\"1\" class=\"dataframe\">\n",
       "  <thead>\n",
       "    <tr style=\"text-align: right;\">\n",
       "      <th></th>\n",
       "      <th>year</th>\n",
       "      <th>team_1_score</th>\n",
       "      <th>team_2_score</th>\n",
       "    </tr>\n",
       "  </thead>\n",
       "  <tbody>\n",
       "    <tr>\n",
       "      <th>year</th>\n",
       "      <td>1.000000</td>\n",
       "      <td>-0.085224</td>\n",
       "      <td>-0.085224</td>\n",
       "    </tr>\n",
       "    <tr>\n",
       "      <th>team_1_score</th>\n",
       "      <td>-0.085224</td>\n",
       "      <td>1.000000</td>\n",
       "      <td>-0.208962</td>\n",
       "    </tr>\n",
       "    <tr>\n",
       "      <th>team_2_score</th>\n",
       "      <td>-0.085224</td>\n",
       "      <td>-0.208962</td>\n",
       "      <td>1.000000</td>\n",
       "    </tr>\n",
       "  </tbody>\n",
       "</table>\n",
       "</div>"
      ],
      "text/plain": [
       "                  year  team_1_score  team_2_score\n",
       "year          1.000000     -0.085224     -0.085224\n",
       "team_1_score -0.085224      1.000000     -0.208962\n",
       "team_2_score -0.085224     -0.208962      1.000000"
      ]
     },
     "execution_count": 37,
     "metadata": {},
     "output_type": "execute_result"
    },
    {
     "data": {
      "image/png": "[encoded data removed]",
      "text/plain": [
       "<Figure size 640x480 with 2 Axes>"
      ]
     },
     "metadata": {},
     "output_type": "display_data"
    }
   ],
   "source": [
    "#Making a heatmap to see the correlation of each columns \n",
    "\n",
    "sns.heatmap(New_Dataset.corr())\n",
    "New_Dataset.corr()"
   ]
  },
  {
   "cell_type": "code",
   "execution_count": 38,
   "metadata": {
    "execution": {
     "iopub.execute_input": "2022-11-16T06:37:34.642833Z",
     "iopub.status.busy": "2022-11-16T06:37:34.642439Z",
     "iopub.status.idle": "2022-11-16T06:37:34.673103Z",
     "shell.execute_reply": "2022-11-16T06:37:34.672244Z",
     "shell.execute_reply.started": "2022-11-16T06:37:34.642816Z"
    },
    "tags": []
   },
   "outputs": [],
   "source": [
    "#Defining the features and labels(Targets)\n",
    "\n",
    "Y= New_Dataset.iloc[:,4:6] #Training targets (team_1_score and team_2_score)\n",
    "categorized_data=New_Dataset.iloc[:,0:4].copy() #Traing features\n",
    "\n",
    "from sklearn import preprocessing\n",
    "label_encoder = preprocessing.LabelEncoder()\n",
    "\n",
    "#Labeling the data using LabelEncorder in Sklearn-(Giving a unique number to each string(country))\n",
    "\n",
    "label_encoder.fit(all_countries)\n",
    "#list(label_encoder.classes_)\n",
    "categorized_data['team_1']=label_encoder.transform(categorized_data['team_1'])\n",
    "categorized_data['team_2']=label_encoder.transform(categorized_data['team_2'])\n",
    "categorized_data['Country']=label_encoder.transform(categorized_data['Country'])\n",
    "\n",
    "#Converting these feature columns to categrize form to make the training processs more smoother\n",
    "categorized_data['team_1']=categorized_data['team_1'].astype(\"category\")\n",
    "categorized_data['team_2']=categorized_data['team_2'].astype(\"category\")\n",
    "categorized_data['Country']=categorized_data['team_2'].astype(\"category\")\n"
   ]
  },
  {
   "cell_type": "code",
   "execution_count": 39,
   "metadata": {
    "execution": {
     "iopub.execute_input": "2022-11-16T06:37:36.535591Z",
     "iopub.status.busy": "2022-11-16T06:37:36.535348Z",
     "iopub.status.idle": "2022-11-16T06:37:36.545125Z",
     "shell.execute_reply": "2022-11-16T06:37:36.544385Z",
     "shell.execute_reply.started": "2022-11-16T06:37:36.535574Z"
    },
    "tags": []
   },
   "outputs": [
    {
     "data": {
      "text/html": [
       "<div>\n",
       "<style scoped>\n",
       "    .dataframe tbody tr th:only-of-type {\n",
       "        vertical-align: middle;\n",
       "    }\n",
       "\n",
       "    .dataframe tbody tr th {\n",
       "        vertical-align: top;\n",
       "    }\n",
       "\n",
       "    .dataframe thead th {\n",
       "        text-align: right;\n",
       "    }\n",
       "</style>\n",
       "<table border=\"1\" class=\"dataframe\">\n",
       "  <thead>\n",
       "    <tr style=\"text-align: right;\">\n",
       "      <th></th>\n",
       "      <th>year</th>\n",
       "      <th>Country</th>\n",
       "      <th>team_1</th>\n",
       "      <th>team_2</th>\n",
       "    </tr>\n",
       "  </thead>\n",
       "  <tbody>\n",
       "    <tr>\n",
       "      <th>0</th>\n",
       "      <td>1945</td>\n",
       "      <td>194</td>\n",
       "      <td>295</td>\n",
       "      <td>194</td>\n",
       "    </tr>\n",
       "    <tr>\n",
       "      <th>1</th>\n",
       "      <td>1996</td>\n",
       "      <td>147</td>\n",
       "      <td>123</td>\n",
       "      <td>147</td>\n",
       "    </tr>\n",
       "    <tr>\n",
       "      <th>2</th>\n",
       "      <td>1967</td>\n",
       "      <td>182</td>\n",
       "      <td>216</td>\n",
       "      <td>182</td>\n",
       "    </tr>\n",
       "    <tr>\n",
       "      <th>3</th>\n",
       "      <td>1977</td>\n",
       "      <td>152</td>\n",
       "      <td>82</td>\n",
       "      <td>152</td>\n",
       "    </tr>\n",
       "    <tr>\n",
       "      <th>4</th>\n",
       "      <td>2000</td>\n",
       "      <td>65</td>\n",
       "      <td>194</td>\n",
       "      <td>65</td>\n",
       "    </tr>\n",
       "  </tbody>\n",
       "</table>\n",
       "</div>"
      ],
      "text/plain": [
       "   year Country team_1 team_2\n",
       "0  1945     194    295    194\n",
       "1  1996     147    123    147\n",
       "2  1967     182    216    182\n",
       "3  1977     152     82    152\n",
       "4  2000      65    194     65"
      ]
     },
     "execution_count": 39,
     "metadata": {},
     "output_type": "execute_result"
    }
   ],
   "source": [
    "#Input Fatures to the model (x)\n",
    "\n",
    "categorized_data.head(5)"
   ]
  },
  {
   "cell_type": "code",
   "execution_count": 40,
   "metadata": {
    "execution": {
     "iopub.execute_input": "2022-11-16T06:37:40.845007Z",
     "iopub.status.busy": "2022-11-16T06:37:40.844512Z",
     "iopub.status.idle": "2022-11-16T06:37:40.852394Z",
     "shell.execute_reply": "2022-11-16T06:37:40.851368Z",
     "shell.execute_reply.started": "2022-11-16T06:37:40.844988Z"
    },
    "tags": []
   },
   "outputs": [
    {
     "data": {
      "text/html": [
       "<div>\n",
       "<style scoped>\n",
       "    .dataframe tbody tr th:only-of-type {\n",
       "        vertical-align: middle;\n",
       "    }\n",
       "\n",
       "    .dataframe tbody tr th {\n",
       "        vertical-align: top;\n",
       "    }\n",
       "\n",
       "    .dataframe thead th {\n",
       "        text-align: right;\n",
       "    }\n",
       "</style>\n",
       "<table border=\"1\" class=\"dataframe\">\n",
       "  <thead>\n",
       "    <tr style=\"text-align: right;\">\n",
       "      <th></th>\n",
       "      <th>team_1_score</th>\n",
       "      <th>team_2_score</th>\n",
       "    </tr>\n",
       "  </thead>\n",
       "  <tbody>\n",
       "    <tr>\n",
       "      <th>0</th>\n",
       "      <td>1.0</td>\n",
       "      <td>4.0</td>\n",
       "    </tr>\n",
       "    <tr>\n",
       "      <th>1</th>\n",
       "      <td>1.0</td>\n",
       "      <td>0.0</td>\n",
       "    </tr>\n",
       "    <tr>\n",
       "      <th>2</th>\n",
       "      <td>2.0</td>\n",
       "      <td>3.0</td>\n",
       "    </tr>\n",
       "    <tr>\n",
       "      <th>3</th>\n",
       "      <td>0.0</td>\n",
       "      <td>7.0</td>\n",
       "    </tr>\n",
       "    <tr>\n",
       "      <th>4</th>\n",
       "      <td>2.0</td>\n",
       "      <td>0.0</td>\n",
       "    </tr>\n",
       "  </tbody>\n",
       "</table>\n",
       "</div>"
      ],
      "text/plain": [
       "   team_1_score  team_2_score\n",
       "0           1.0           4.0\n",
       "1           1.0           0.0\n",
       "2           2.0           3.0\n",
       "3           0.0           7.0\n",
       "4           2.0           0.0"
      ]
     },
     "execution_count": 40,
     "metadata": {},
     "output_type": "execute_result"
    }
   ],
   "source": [
    "#Targets to the model (Y)\n",
    "\n",
    "Y.head(5)"
   ]
  },
  {
   "cell_type": "code",
   "execution_count": 41,
   "metadata": {
    "execution": {
     "iopub.execute_input": "2022-11-16T06:37:44.490204Z",
     "iopub.status.busy": "2022-11-16T06:37:44.489514Z",
     "iopub.status.idle": "2022-11-16T06:37:44.505628Z",
     "shell.execute_reply": "2022-11-16T06:37:44.504856Z",
     "shell.execute_reply.started": "2022-11-16T06:37:44.490186Z"
    },
    "tags": []
   },
   "outputs": [
    {
     "name": "stdout",
     "output_type": "stream",
     "text": [
      "<class 'pandas.core.frame.DataFrame'>\n",
      "RangeIndex: 53176 entries, 0 to 53175\n",
      "Data columns (total 4 columns):\n",
      " #   Column   Non-Null Count  Dtype   \n",
      "---  ------   --------------  -----   \n",
      " 0   year     53176 non-null  int64   \n",
      " 1   Country  53176 non-null  category\n",
      " 2   team_1   53176 non-null  category\n",
      " 3   team_2   53176 non-null  category\n",
      "dtypes: category(3), int64(1)\n",
      "memory usage: 758.4 KB\n",
      "None\n",
      "<class 'pandas.core.frame.DataFrame'>\n",
      "RangeIndex: 53176 entries, 0 to 53175\n",
      "Data columns (total 2 columns):\n",
      " #   Column        Non-Null Count  Dtype  \n",
      "---  ------        --------------  -----  \n",
      " 0   team_1_score  53176 non-null  float64\n",
      " 1   team_2_score  53176 non-null  float64\n",
      "dtypes: float64(2)\n",
      "memory usage: 831.0 KB\n",
      "None\n"
     ]
    }
   ],
   "source": [
    "#Info about the X and Y dataframes\n",
    "\n",
    "print(categorized_data.info())\n",
    "print(Y.info())"
   ]
  },
  {
   "cell_type": "code",
   "execution_count": 73,
   "metadata": {
    "execution": {
     "iopub.execute_input": "2022-11-16T05:47:10.771464Z",
     "iopub.status.busy": "2022-11-16T05:47:10.771067Z",
     "iopub.status.idle": "2022-11-16T05:47:10.775472Z",
     "shell.execute_reply": "2022-11-16T05:47:10.774612Z",
     "shell.execute_reply.started": "2022-11-16T05:47:10.771445Z"
    }
   },
   "outputs": [],
   "source": [
    "from lightgbm import LGBMClassifier"
   ]
  },
  {
   "cell_type": "code",
   "execution_count": 117,
   "metadata": {
    "execution": {
     "iopub.execute_input": "2022-11-16T06:30:08.211927Z",
     "iopub.status.busy": "2022-11-16T06:30:08.211644Z",
     "iopub.status.idle": "2022-11-16T06:30:08.216018Z",
     "shell.execute_reply": "2022-11-16T06:30:08.215103Z",
     "shell.execute_reply.started": "2022-11-16T06:30:08.211910Z"
    },
    "tags": []
   },
   "outputs": [],
   "source": [
    "from xgboost import XGBClassifier"
   ]
  },
  {
   "cell_type": "code",
   "execution_count": 42,
   "metadata": {
    "execution": {
     "iopub.execute_input": "2022-11-16T06:37:48.151004Z",
     "iopub.status.busy": "2022-11-16T06:37:48.150536Z",
     "iopub.status.idle": "2022-11-16T06:38:00.974298Z",
     "shell.execute_reply": "2022-11-16T06:38:00.972969Z",
     "shell.execute_reply.started": "2022-11-16T06:37:48.150985Z"
    },
    "tags": []
   },
   "outputs": [
    {
     "data": {
      "text/html": [
       "<style>#sk-container-id-1 {color: black;background-color: white;}#sk-container-id-1 pre{padding: 0;}#sk-container-id-1 div.sk-toggleable {background-color: white;}#sk-container-id-1 label.sk-toggleable__label {cursor: pointer;display: block;width: 100%;margin-bottom: 0;padding: 0.3em;box-sizing: border-box;text-align: center;}#sk-container-id-1 label.sk-toggleable__label-arrow:before {content: \"▸\";float: left;margin-right: 0.25em;color: #696969;}#sk-container-id-1 label.sk-toggleable__label-arrow:hover:before {color: black;}#sk-container-id-1 div.sk-estimator:hover label.sk-toggleable__label-arrow:before {color: black;}#sk-container-id-1 div.sk-toggleable__content {max-height: 0;max-width: 0;overflow: hidden;text-align: left;background-color: #f0f8ff;}#sk-container-id-1 div.sk-toggleable__content pre {margin: 0.2em;color: black;border-radius: 0.25em;background-color: #f0f8ff;}#sk-container-id-1 input.sk-toggleable__control:checked~div.sk-toggleable__content {max-height: 200px;max-width: 100%;overflow: auto;}#sk-container-id-1 input.sk-toggleable__control:checked~label.sk-toggleable__label-arrow:before {content: \"▾\";}#sk-container-id-1 div.sk-estimator input.sk-toggleable__control:checked~label.sk-toggleable__label {background-color: #d4ebff;}#sk-container-id-1 div.sk-label input.sk-toggleable__control:checked~label.sk-toggleable__label {background-color: #d4ebff;}#sk-container-id-1 input.sk-hidden--visually {border: 0;clip: rect(1px 1px 1px 1px);clip: rect(1px, 1px, 1px, 1px);height: 1px;margin: -1px;overflow: hidden;padding: 0;position: absolute;width: 1px;}#sk-container-id-1 div.sk-estimator {font-family: monospace;background-color: #f0f8ff;border: 1px dotted black;border-radius: 0.25em;box-sizing: border-box;margin-bottom: 0.5em;}#sk-container-id-1 div.sk-estimator:hover {background-color: #d4ebff;}#sk-container-id-1 div.sk-parallel-item::after {content: \"\";width: 100%;border-bottom: 1px solid gray;flex-grow: 1;}#sk-container-id-1 div.sk-label:hover label.sk-toggleable__label {background-color: #d4ebff;}#sk-container-id-1 div.sk-serial::before {content: \"\";position: absolute;border-left: 1px solid gray;box-sizing: border-box;top: 0;bottom: 0;left: 50%;z-index: 0;}#sk-container-id-1 div.sk-serial {display: flex;flex-direction: column;align-items: center;background-color: white;padding-right: 0.2em;padding-left: 0.2em;position: relative;}#sk-container-id-1 div.sk-item {position: relative;z-index: 1;}#sk-container-id-1 div.sk-parallel {display: flex;align-items: stretch;justify-content: center;background-color: white;position: relative;}#sk-container-id-1 div.sk-item::before, #sk-container-id-1 div.sk-parallel-item::before {content: \"\";position: absolute;border-left: 1px solid gray;box-sizing: border-box;top: 0;bottom: 0;left: 50%;z-index: -1;}#sk-container-id-1 div.sk-parallel-item {display: flex;flex-direction: column;z-index: 1;position: relative;background-color: white;}#sk-container-id-1 div.sk-parallel-item:first-child::after {align-self: flex-end;width: 50%;}#sk-container-id-1 div.sk-parallel-item:last-child::after {align-self: flex-start;width: 50%;}#sk-container-id-1 div.sk-parallel-item:only-child::after {width: 0;}#sk-container-id-1 div.sk-dashed-wrapped {border: 1px dashed gray;margin: 0 0.4em 0.5em 0.4em;box-sizing: border-box;padding-bottom: 0.4em;background-color: white;}#sk-container-id-1 div.sk-label label {font-family: monospace;font-weight: bold;display: inline-block;line-height: 1.2em;}#sk-container-id-1 div.sk-label-container {text-align: center;}#sk-container-id-1 div.sk-container {/* jupyter's `normalize.less` sets `[hidden] { display: none; }` but bootstrap.min.css set `[hidden] { display: none !important; }` so we also need the `!important` here to be able to override the default hidden behavior on the sphinx rendered scikit-learn.org. See: https://github.com/scikit-learn/scikit-learn/issues/21755 */display: inline-block !important;position: relative;}#sk-container-id-1 div.sk-text-repr-fallback {display: none;}</style><div id=\"sk-container-id-1\" class=\"sk-top-container\"><div class=\"sk-text-repr-fallback\"><pre>MultiOutputRegressor(estimator=RandomForestClassifier())</pre><b>In a Jupyter environment, please rerun this cell to show the HTML representation or trust the notebook. <br />On GitHub, the HTML representation is unable to render, please try loading this page with nbviewer.org.</b></div><div class=\"sk-container\" hidden><div class=\"sk-item sk-dashed-wrapped\"><div class=\"sk-label-container\"><div class=\"sk-label sk-toggleable\"><input class=\"sk-toggleable__control sk-hidden--visually\" id=\"sk-estimator-id-1\" type=\"checkbox\" ><label for=\"sk-estimator-id-1\" class=\"sk-toggleable__label sk-toggleable__label-arrow\">MultiOutputRegressor</label><div class=\"sk-toggleable__content\"><pre>MultiOutputRegressor(estimator=RandomForestClassifier())</pre></div></div></div><div class=\"sk-parallel\"><div class=\"sk-parallel-item\"><div class=\"sk-item\"><div class=\"sk-label-container\"><div class=\"sk-label sk-toggleable\"><input class=\"sk-toggleable__control sk-hidden--visually\" id=\"sk-estimator-id-2\" type=\"checkbox\" ><label for=\"sk-estimator-id-2\" class=\"sk-toggleable__label sk-toggleable__label-arrow\">estimator: RandomForestClassifier</label><div class=\"sk-toggleable__content\"><pre>RandomForestClassifier()</pre></div></div></div><div class=\"sk-serial\"><div class=\"sk-item\"><div class=\"sk-estimator sk-toggleable\"><input class=\"sk-toggleable__control sk-hidden--visually\" id=\"sk-estimator-id-3\" type=\"checkbox\" ><label for=\"sk-estimator-id-3\" class=\"sk-toggleable__label sk-toggleable__label-arrow\">RandomForestClassifier</label><div class=\"sk-toggleable__content\"><pre>RandomForestClassifier()</pre></div></div></div></div></div></div></div></div></div></div>"
      ],
      "text/plain": [
       "MultiOutputRegressor(estimator=RandomForestClassifier())"
      ]
     },
     "execution_count": 42,
     "metadata": {},
     "output_type": "execute_result"
    }
   ],
   "source": [
    "#Making the model\n",
    "\n",
    "X=categorized_data\n",
    "from sklearn.multioutput import MultiOutputRegressor\n",
    "from sklearn.svm import SVC\n",
    "from sklearn.tree import DecisionTreeClassifier\n",
    "from sklearn.ensemble import RandomForestClassifier\n",
    "from sklearn.neighbors import KNeighborsClassifier\n",
    "\n",
    "#Use any algorithm\n",
    "model = MultiOutputRegressor(RandomForestClassifier())\n",
    "model.fit(X.to_numpy(),Y)"
   ]
  },
  {
   "cell_type": "code",
   "execution_count": 85,
   "metadata": {
    "execution": {
     "iopub.execute_input": "2022-11-16T06:22:22.183668Z",
     "iopub.status.busy": "2022-11-16T06:22:22.183056Z",
     "iopub.status.idle": "2022-11-16T06:22:22.193695Z",
     "shell.execute_reply": "2022-11-16T06:22:22.192764Z",
     "shell.execute_reply.started": "2022-11-16T06:22:22.183634Z"
    },
    "tags": []
   },
   "outputs": [
    {
     "data": {
      "text/plain": [
       "array([[1999,  179,   48,  179],\n",
       "       [2004,  163,  330,  163],\n",
       "       [2016,  286,   23,  286],\n",
       "       ...,\n",
       "       [1988,  127,  308,  127],\n",
       "       [1926,  290,   80,  290],\n",
       "       [2010,  308,   40,  308]])"
      ]
     },
     "execution_count": 85,
     "metadata": {},
     "output_type": "execute_result"
    }
   ],
   "source": [
    "X.to_numpy()"
   ]
  },
  {
   "cell_type": "code",
   "execution_count": 43,
   "metadata": {
    "execution": {
     "iopub.execute_input": "2022-11-16T06:38:00.977304Z",
     "iopub.status.busy": "2022-11-16T06:38:00.976606Z",
     "iopub.status.idle": "2022-11-16T06:38:04.090626Z",
     "shell.execute_reply": "2022-11-16T06:38:04.089590Z",
     "shell.execute_reply.started": "2022-11-16T06:38:00.977278Z"
    },
    "tags": []
   },
   "outputs": [
    {
     "data": {
      "text/plain": [
       "array([[1., 4.],\n",
       "       [1., 0.],\n",
       "       [2., 2.],\n",
       "       ...,\n",
       "       [1., 0.],\n",
       "       [1., 1.],\n",
       "       [2., 1.]])"
      ]
     },
     "execution_count": 43,
     "metadata": {},
     "output_type": "execute_result"
    }
   ],
   "source": [
    "#Making the predictions\n",
    "\n",
    "prd=model.predict(X.to_numpy())\n",
    "prd"
   ]
  },
  {
   "cell_type": "code",
   "execution_count": 79,
   "metadata": {
    "execution": {
     "iopub.execute_input": "2022-11-16T06:21:22.412308Z",
     "iopub.status.busy": "2022-11-16T06:21:22.411848Z",
     "iopub.status.idle": "2022-11-16T06:21:27.638892Z",
     "shell.execute_reply": "2022-11-16T06:21:27.638109Z",
     "shell.execute_reply.started": "2022-11-16T06:21:22.412292Z"
    },
    "tags": []
   },
   "outputs": [
    {
     "name": "stderr",
     "output_type": "stream",
     "text": [
      "/home/ncortes/miniconda3/envs/py39/lib/python3.9/site-packages/sklearn/base.py:443: UserWarning: X has feature names, but RandomForestClassifier was fitted without feature names\n",
      "  warnings.warn(\n",
      "/home/ncortes/miniconda3/envs/py39/lib/python3.9/site-packages/sklearn/base.py:443: UserWarning: X has feature names, but RandomForestClassifier was fitted without feature names\n",
      "  warnings.warn(\n"
     ]
    },
    {
     "data": {
      "text/plain": [
       "array([[1., 0.],\n",
       "       [2., 0.],\n",
       "       [4., 2.],\n",
       "       ...,\n",
       "       [5., 3.],\n",
       "       [2., 2.],\n",
       "       [1., 0.]])"
      ]
     },
     "execution_count": 79,
     "metadata": {},
     "output_type": "execute_result"
    }
   ],
   "source": [
    "#Making the predictions\n",
    "\n",
    "prd=model.predict(X)\n",
    "prd"
   ]
  },
  {
   "cell_type": "code",
   "execution_count": 44,
   "metadata": {
    "execution": {
     "iopub.execute_input": "2022-11-16T06:38:10.674101Z",
     "iopub.status.busy": "2022-11-16T06:38:10.673194Z",
     "iopub.status.idle": "2022-11-16T06:38:10.771991Z",
     "shell.execute_reply": "2022-11-16T06:38:10.771073Z",
     "shell.execute_reply.started": "2022-11-16T06:38:10.674077Z"
    },
    "tags": []
   },
   "outputs": [],
   "source": [
    "#Creating the Confusion matrix for each predictions\n",
    "\n",
    "score_team_1=[i[0] for i in prd]\n",
    "score_team_2=[i[1] for i in prd]\n",
    "\n",
    "from sklearn.metrics import confusion_matrix\n",
    "cm1=confusion_matrix(list(Y.iloc[:,0]),score_team_1)\n",
    "cm2=confusion_matrix(list(Y.iloc[:,1]),score_team_2)"
   ]
  },
  {
   "cell_type": "code",
   "execution_count": 45,
   "metadata": {
    "execution": {
     "iopub.execute_input": "2022-11-16T06:38:11.270541Z",
     "iopub.status.busy": "2022-11-16T06:38:11.269903Z",
     "iopub.status.idle": "2022-11-16T06:38:11.875057Z",
     "shell.execute_reply": "2022-11-16T06:38:11.874279Z",
     "shell.execute_reply.started": "2022-11-16T06:38:11.270520Z"
    },
    "tags": []
   },
   "outputs": [
    {
     "data": {
      "text/plain": [
       "Text(220.72222222222223, 0.5, 'Predicted')"
      ]
     },
     "execution_count": 45,
     "metadata": {},
     "output_type": "execute_result"
    },
    {
     "data": {
      "image/png": "[encoded data removed]",
      "text/plain": [
       "<Figure size 2000x2000 with 2 Axes>"
      ]
     },
     "metadata": {},
     "output_type": "display_data"
    }
   ],
   "source": [
    "#Plotting the Confussion Matrix for score of team 01\n",
    "\n",
    "plt.figure(figsize=(20,20))\n",
    "sns.heatmap(cm1, annot=True,fmt=\"d\", cmap='YlGnBu', linecolor='black', linewidths=1)\n",
    "plt.title(\"Confusion Matrix for Team 1 Score\")\n",
    "plt.xlabel(\"Actual\")\n",
    "plt.ylabel(\"Predicted\")"
   ]
  },
  {
   "cell_type": "code",
   "execution_count": 46,
   "metadata": {
    "execution": {
     "iopub.execute_input": "2022-11-16T06:38:17.323356Z",
     "iopub.status.busy": "2022-11-16T06:38:17.322883Z",
     "iopub.status.idle": "2022-11-16T06:38:17.420510Z",
     "shell.execute_reply": "2022-11-16T06:38:17.419639Z",
     "shell.execute_reply.started": "2022-11-16T06:38:17.323340Z"
    },
    "tags": []
   },
   "outputs": [
    {
     "name": "stdout",
     "output_type": "stream",
     "text": [
      "              precision    recall  f1-score   support\n",
      "\n",
      "         0.0       0.87      0.89      0.88     16846\n",
      "         1.0       0.86      0.87      0.86     16091\n",
      "         2.0       0.85      0.83      0.84     10211\n",
      "         3.0       0.86      0.79      0.82      4971\n",
      "         4.0       0.85      0.79      0.82      2489\n",
      "         5.0       0.85      0.77      0.81      1145\n",
      "         6.0       0.84      0.81      0.83       630\n",
      "         7.0       0.84      0.85      0.84       328\n",
      "         8.0       0.85      0.80      0.82       201\n",
      "         9.0       0.91      0.78      0.84       111\n",
      "        10.0       0.91      0.91      0.91        65\n",
      "        11.0       0.94      0.91      0.92        33\n",
      "        12.0       0.86      0.93      0.89        27\n",
      "        13.0       1.00      0.82      0.90        17\n",
      "        14.0       1.00      0.91      0.95        11\n",
      "\n",
      "    accuracy                           0.86     53176\n",
      "   macro avg       0.88      0.85      0.86     53176\n",
      "weighted avg       0.86      0.86      0.86     53176\n",
      "\n"
     ]
    }
   ],
   "source": [
    "#Classification Report to team 1 Score\n",
    "\n",
    "from sklearn.metrics import classification_report\n",
    "report_1=classification_report(Y.iloc[:,0],score_team_1)\n",
    "print(report_1)\n",
    "\n",
    "#Has a good Accuracy in predicting the team 1 Score"
   ]
  },
  {
   "cell_type": "code",
   "execution_count": 47,
   "metadata": {
    "execution": {
     "iopub.execute_input": "2022-11-16T06:38:20.903799Z",
     "iopub.status.busy": "2022-11-16T06:38:20.903500Z",
     "iopub.status.idle": "2022-11-16T06:38:21.532324Z",
     "shell.execute_reply": "2022-11-16T06:38:21.531327Z",
     "shell.execute_reply.started": "2022-11-16T06:38:20.903782Z"
    },
    "tags": []
   },
   "outputs": [
    {
     "data": {
      "text/plain": [
       "Text(220.72222222222223, 0.5, 'Predicted')"
      ]
     },
     "execution_count": 47,
     "metadata": {},
     "output_type": "execute_result"
    },
    {
     "data": {
      "image/png": "[encoded data removed]",
      "text/plain": [
       "<Figure size 2000x2000 with 2 Axes>"
      ]
     },
     "metadata": {},
     "output_type": "display_data"
    }
   ],
   "source": [
    "#Plotting the Confussion Matrix for score of team 02\n",
    "\n",
    "plt.figure(figsize=(20,20))\n",
    "sns.heatmap(cm2, annot=True,fmt=\"d\", cmap='YlGnBu', linecolor='black', linewidths=1)\n",
    "plt.title(\"Confusion Matrix for team 2 score\")\n",
    "plt.xlabel(\"Actual\")\n",
    "plt.ylabel(\"Predicted\")"
   ]
  },
  {
   "cell_type": "code",
   "execution_count": 48,
   "metadata": {
    "execution": {
     "iopub.execute_input": "2022-11-16T06:38:25.335583Z",
     "iopub.status.busy": "2022-11-16T06:38:25.335285Z",
     "iopub.status.idle": "2022-11-16T06:38:25.442669Z",
     "shell.execute_reply": "2022-11-16T06:38:25.441741Z",
     "shell.execute_reply.started": "2022-11-16T06:38:25.335564Z"
    },
    "tags": []
   },
   "outputs": [
    {
     "name": "stdout",
     "output_type": "stream",
     "text": [
      "              precision    recall  f1-score   support\n",
      "\n",
      "         0.0       0.87      0.89      0.88     16846\n",
      "         1.0       0.85      0.87      0.86     16091\n",
      "         2.0       0.85      0.83      0.84     10211\n",
      "         3.0       0.85      0.80      0.82      4971\n",
      "         4.0       0.86      0.78      0.82      2489\n",
      "         5.0       0.84      0.79      0.81      1145\n",
      "         6.0       0.85      0.81      0.83       630\n",
      "         7.0       0.86      0.82      0.84       328\n",
      "         8.0       0.86      0.79      0.82       201\n",
      "         9.0       0.90      0.79      0.84       111\n",
      "        10.0       0.95      0.86      0.90        65\n",
      "        11.0       0.94      0.91      0.92        33\n",
      "        12.0       0.84      0.96      0.90        27\n",
      "        13.0       0.94      0.88      0.91        17\n",
      "        14.0       1.00      0.91      0.95        11\n",
      "\n",
      "    accuracy                           0.86     53176\n",
      "   macro avg       0.88      0.85      0.86     53176\n",
      "weighted avg       0.86      0.86      0.86     53176\n",
      "\n"
     ]
    }
   ],
   "source": [
    "#Classification Report to team 2 Score\n",
    "\n",
    "report_2=classification_report(Y.iloc[:,1],score_team_2)\n",
    "print(report_2)\n",
    "\n",
    "#Has a good Accuracy in predicting the team 1 Score#"
   ]
  },
  {
   "cell_type": "code",
   "execution_count": 49,
   "metadata": {
    "execution": {
     "iopub.execute_input": "2022-11-16T06:38:27.960171Z",
     "iopub.status.busy": "2022-11-16T06:38:27.959751Z",
     "iopub.status.idle": "2022-11-16T06:38:27.965209Z",
     "shell.execute_reply": "2022-11-16T06:38:27.964152Z",
     "shell.execute_reply.started": "2022-11-16T06:38:27.960151Z"
    },
    "tags": []
   },
   "outputs": [],
   "source": [
    "#Fuction to Select the winning team for the prediction array\n",
    "\n",
    "def select_winning_team(probability_array):\n",
    "    prob_lst=[round(probability_array[0][i],3) for i in range(2)]\n",
    "    if (prob_lst[0]>prob_lst[1]):\n",
    "        out=0\n",
    "    elif (prob_lst[0]<prob_lst[1]):\n",
    "        out=1\n",
    "    elif (prob_lst[0]==prob_lst[1]):\n",
    "        out=2\n",
    "    return out,prob_lst"
   ]
  },
  {
   "cell_type": "code",
   "execution_count": 50,
   "metadata": {
    "execution": {
     "iopub.execute_input": "2022-11-16T06:38:29.848701Z",
     "iopub.status.busy": "2022-11-16T06:38:29.848274Z",
     "iopub.status.idle": "2022-11-16T06:38:29.854871Z",
     "shell.execute_reply": "2022-11-16T06:38:29.853930Z",
     "shell.execute_reply.started": "2022-11-16T06:38:29.848681Z"
    },
    "tags": []
   },
   "outputs": [
    {
     "name": "stdout",
     "output_type": "stream",
     "text": [
      "Team 01 is Brazil -35\n",
      "Team 02 is Mexico -170\n",
      "Played in  Qatar -214\n"
     ]
    }
   ],
   "source": [
    "#Sample Prediction\n",
    "\n",
    "mactch_played=2022\n",
    "team_1=\"Brazil\"\n",
    "team_2=\"Mexico\"\n",
    "stadium=\"Qatar\"\n",
    "\n",
    "team_lst=[team_1,team_2]\n",
    "team_1_num=label_encoder.transform([team_1])[0]\n",
    "team_2_num=label_encoder.transform([team_2])[0]\n",
    "stadium_num=label_encoder.transform([stadium])[0]\n",
    "\n",
    "print(f\"Team 01 is {team_1} -{team_1_num}\")\n",
    "print(f\"Team 02 is {team_2} -{team_2_num}\")\n",
    "print(f\"Played in  {stadium} -{stadium_num}\")"
   ]
  },
  {
   "cell_type": "code",
   "execution_count": 51,
   "metadata": {
    "execution": {
     "iopub.execute_input": "2022-11-16T06:38:32.472125Z",
     "iopub.status.busy": "2022-11-16T06:38:32.471660Z",
     "iopub.status.idle": "2022-11-16T06:38:32.492164Z",
     "shell.execute_reply": "2022-11-16T06:38:32.491452Z",
     "shell.execute_reply.started": "2022-11-16T06:38:32.472107Z"
    },
    "tags": []
   },
   "outputs": [
    {
     "name": "stdout",
     "output_type": "stream",
     "text": [
      "Brazil vs Mexico \n",
      " Brazil wins 🏆⚽🎯\n",
      "\n"
     ]
    }
   ],
   "source": [
    "#Sample Prediction Output\n",
    "\n",
    "X_feature=np.array([[mactch_played,stadium_num,team_1_num,team_2_num]])\n",
    "res=model.predict(X_feature)\n",
    "win,_=select_winning_team(res)\n",
    "try:\n",
    "    print(f\"{team_1} vs {team_2} \\n {team_lst[win]} wins 🏆⚽🎯\\n\")\n",
    "except IndexError:\n",
    "    print(f\"{team_1} vs {team_2} \\n  Match Draw ⚽⚽⚽\\n\") "
   ]
  },
  {
   "cell_type": "code",
   "execution_count": 52,
   "metadata": {
    "execution": {
     "iopub.execute_input": "2022-11-16T06:38:34.301776Z",
     "iopub.status.busy": "2022-11-16T06:38:34.301504Z",
     "iopub.status.idle": "2022-11-16T06:38:34.308275Z",
     "shell.execute_reply": "2022-11-16T06:38:34.307271Z",
     "shell.execute_reply.started": "2022-11-16T06:38:34.301761Z"
    },
    "tags": []
   },
   "outputs": [
    {
     "data": {
      "text/plain": [
       "array([[2022,  214,   35,  170]])"
      ]
     },
     "execution_count": 52,
     "metadata": {},
     "output_type": "execute_result"
    }
   ],
   "source": [
    "X_feature"
   ]
  },
  {
   "cell_type": "code",
   "execution_count": 53,
   "metadata": {
    "execution": {
     "iopub.execute_input": "2022-11-16T06:38:35.306316Z",
     "iopub.status.busy": "2022-11-16T06:38:35.305584Z",
     "iopub.status.idle": "2022-11-16T06:38:35.311082Z",
     "shell.execute_reply": "2022-11-16T06:38:35.310352Z",
     "shell.execute_reply.started": "2022-11-16T06:38:35.306296Z"
    },
    "tags": []
   },
   "outputs": [
    {
     "data": {
      "text/plain": [
       "array([[1., 0.]])"
      ]
     },
     "execution_count": 53,
     "metadata": {},
     "output_type": "execute_result"
    }
   ],
   "source": [
    "res"
   ]
  },
  {
   "cell_type": "code",
   "execution_count": 54,
   "metadata": {
    "execution": {
     "iopub.execute_input": "2022-11-16T06:38:38.849621Z",
     "iopub.status.busy": "2022-11-16T06:38:38.849279Z",
     "iopub.status.idle": "2022-11-16T06:38:38.856011Z",
     "shell.execute_reply": "2022-11-16T06:38:38.855213Z",
     "shell.execute_reply.started": "2022-11-16T06:38:38.849605Z"
    },
    "tags": []
   },
   "outputs": [
    {
     "data": {
      "text/plain": [
       "(0, [1.0, 0.0])"
      ]
     },
     "execution_count": 54,
     "metadata": {},
     "output_type": "execute_result"
    }
   ],
   "source": [
    "select_winning_team(res)"
   ]
  },
  {
   "cell_type": "code",
   "execution_count": 55,
   "metadata": {
    "execution": {
     "iopub.execute_input": "2022-11-16T06:38:40.936531Z",
     "iopub.status.busy": "2022-11-16T06:38:40.936039Z",
     "iopub.status.idle": "2022-11-16T06:38:40.958099Z",
     "shell.execute_reply": "2022-11-16T06:38:40.957109Z",
     "shell.execute_reply.started": "2022-11-16T06:38:40.936510Z"
    },
    "tags": []
   },
   "outputs": [
    {
     "name": "stdout",
     "output_type": "stream",
     "text": [
      "Brazil vs Mexico \n",
      " Brazil wins 🏆⚽🎯\n",
      "\n"
     ]
    }
   ],
   "source": [
    "#Sample Prediction Output\n",
    "\n",
    "X_feature=np.array([[mactch_played,stadium_num,team_1_num,team_2_num]])\n",
    "res=model.predict(X_feature)\n",
    "win,_=select_winning_team(res)\n",
    "try:\n",
    "    print(f\"{team_1} vs {team_2} \\n {team_lst[win]} wins 🏆⚽🎯\\n\")\n",
    "except IndexError:\n",
    "    print(f\"{team_1} vs {team_2} \\n  Match Draw ⚽⚽⚽\\n\") "
   ]
  },
  {
   "cell_type": "markdown",
   "metadata": {},
   "source": [
    "**FIFA WORLD CUP - 2022 -**\n",
    "\n",
    "I have selected 32 teams that has the maximum posibility to participate in FIFA World Cup 2022.\n",
    "These teams are selected accordingto the current world ranking and recently helg Euro Cup performances.\n",
    "\n",
    "Every team plays with evey one-else(League System).That means one team plays 63 matches.Then from the model I predict who is going to win the match.\n",
    "* Winning team gets 02 Point\n",
    "* Match draw (Both teams scored same number of goals)- both teams get 1 points each\n",
    "* Team Lost gets no points\n",
    "\n",
    "According this points system final winner will be selected"
   ]
  },
  {
   "cell_type": "markdown",
   "metadata": {
    "execution": {
     "iopub.execute_input": "2021-08-03T21:22:17.900718Z",
     "iopub.status.busy": "2021-08-03T21:22:17.900395Z",
     "iopub.status.idle": "2021-08-03T21:22:17.906136Z",
     "shell.execute_reply": "2021-08-03T21:22:17.904849Z",
     "shell.execute_reply.started": "2021-08-03T21:22:17.900689Z"
    }
   },
   "source": [
    "<img src= \"https://www.sinceindependence.com/wp-content/uploads/2019/12/fifa-world-cup-2022.jpg\" alt =\"Fifa\">"
   ]
  },
  {
   "cell_type": "code",
   "execution_count": 94,
   "metadata": {
    "execution": {
     "iopub.execute_input": "2022-11-16T06:23:07.237694Z",
     "iopub.status.busy": "2022-11-16T06:23:07.237228Z",
     "iopub.status.idle": "2022-11-16T06:23:08.833136Z",
     "shell.execute_reply": "2022-11-16T06:23:08.831916Z",
     "shell.execute_reply.started": "2022-11-16T06:23:07.237678Z"
    },
    "tags": []
   },
   "outputs": [],
   "source": [
    "dfs = pd.read_html(r\"https://en.wikipedia.org/wiki/2022_FIFA_World_Cup#Teams\")\n",
    "matches = []\n",
    "groups = [\"A\", \"B\", \"C\", \"D\", \"E\", \"F\", \"G\", \"H\"]\n",
    "group_count = 0 \n",
    "\n",
    "table = {}\n",
    "#TABLE -> TEAM, POINTS, WIN PROBS (CRITERIO DE DESEMPATE)\n",
    "table[groups[group_count]] = [[a.split(\" \")[0], 0, []] for a in list(dfs[11].iloc[:, 1].values)]\n",
    "\n",
    "for i in range(12, 67, 1):\n",
    "    if len(dfs[i].columns) == 3:\n",
    "        team_1 = dfs[i].columns.values[0]\n",
    "        team_2 = dfs[i].columns.values[-1]\n",
    "        \n",
    "        matches.append((groups[group_count], team_1, team_2))\n",
    "    else:\n",
    "        group_count+=1\n",
    "        table[groups[group_count]] = [[a, 0, []] for a in list(dfs[i].iloc[:, 1].values)]"
   ]
  },
  {
   "cell_type": "code",
   "execution_count": 99,
   "metadata": {
    "execution": {
     "iopub.execute_input": "2022-11-16T06:25:28.736750Z",
     "iopub.status.busy": "2022-11-16T06:25:28.735855Z",
     "iopub.status.idle": "2022-11-16T06:25:28.742785Z",
     "shell.execute_reply": "2022-11-16T06:25:28.741883Z",
     "shell.execute_reply.started": "2022-11-16T06:25:28.736728Z"
    },
    "tags": []
   },
   "outputs": [
    {
     "data": {
      "text/plain": [
       "['Brazil', 'Serbia', 'Switzerland', 'Cameroon']"
      ]
     },
     "execution_count": 99,
     "metadata": {},
     "output_type": "execute_result"
    }
   ],
   "source": [
    "[x[0] for x in table['G']]"
   ]
  },
  {
   "cell_type": "code",
   "execution_count": 56,
   "metadata": {
    "execution": {
     "iopub.execute_input": "2022-11-16T06:38:48.674260Z",
     "iopub.status.busy": "2022-11-16T06:38:48.673881Z",
     "iopub.status.idle": "2022-11-16T06:38:48.679589Z",
     "shell.execute_reply": "2022-11-16T06:38:48.678374Z",
     "shell.execute_reply.started": "2022-11-16T06:38:48.674239Z"
    },
    "tags": []
   },
   "outputs": [],
   "source": [
    "Group_A= ['Qatar', 'Ecuador', 'Senegal', 'Netherlands']\n",
    "Group_B= ['England', 'Iran', 'United States', 'Wales']\n",
    "Group_C= ['Argentina', 'Saudi Arabia', 'Mexico', 'Poland']\n",
    "Group_D= ['France', 'Australia', 'Denmark', 'Tunisia']\n",
    "Group_E= ['Spain', 'Costa Rica', 'Germany', 'Japan']\n",
    "Group_F= ['Belgium', 'Canada', 'Morocco', 'Croatia']\n",
    "Group_G= ['Brazil', 'Serbia', 'Switzerland', 'Cameroon']\n",
    "Group_H= ['Portugal', 'Ghana', 'Uruguay', 'South Korea']\n",
    "Groups={\"Group A\":Group_A,\"Group B\":Group_B,\"Group C\":Group_C,\"Group D\":Group_D,\"Group E\":Group_E,\"Group F\":Group_F,\"Group G\":Group_G,\"Group H\":Group_H}"
   ]
  },
  {
   "cell_type": "code",
   "execution_count": 67,
   "metadata": {
    "execution": {
     "iopub.execute_input": "2022-11-16T06:45:45.825314Z",
     "iopub.status.busy": "2022-11-16T06:45:45.824784Z",
     "iopub.status.idle": "2022-11-16T06:45:45.830186Z",
     "shell.execute_reply": "2022-11-16T06:45:45.829078Z",
     "shell.execute_reply.started": "2022-11-16T06:45:45.825296Z"
    },
    "tags": []
   },
   "outputs": [],
   "source": [
    "#Initialize basic parameters\n",
    "\n",
    "year=2021\n",
    "stadium=\"Qatar\"\n",
    "stadium_num=label_encoder.transform([stadium])[0]\n",
    "host_num=stadium_num"
   ]
  },
  {
   "cell_type": "code",
   "execution_count": 68,
   "metadata": {
    "execution": {
     "iopub.execute_input": "2022-11-16T06:45:46.913364Z",
     "iopub.status.busy": "2022-11-16T06:45:46.913079Z",
     "iopub.status.idle": "2022-11-16T06:45:47.585237Z",
     "shell.execute_reply": "2022-11-16T06:45:47.584302Z",
     "shell.execute_reply.started": "2022-11-16T06:45:46.913346Z"
    },
    "tags": []
   },
   "outputs": [
    {
     "name": "stdout",
     "output_type": "stream",
     "text": [
      "Group A Matches\n",
      "Qatar vs Ecuador \n",
      "  Results of the Match [0. 0.]\n",
      "   Match Draw ⚽⚽⚽\n",
      "\n",
      "Qatar vs Senegal \n",
      "  Results of the Match [1. 1.]\n",
      "   Match Draw ⚽⚽⚽\n",
      "\n",
      " Qatar vs Netherlands \n",
      "  Results of the Match [2. 0.]\n",
      "   Qatar wins 🎊🏆⚽🎖️\n",
      "\n",
      "Ecuador vs Senegal \n",
      "  Results of the Match [0. 0.]\n",
      "   Match Draw ⚽⚽⚽\n",
      "\n",
      " Ecuador vs Netherlands \n",
      "  Results of the Match [1. 0.]\n",
      "   Ecuador wins 🎊🏆⚽🎖️\n",
      "\n",
      " Senegal vs Netherlands \n",
      "  Results of the Match [2. 1.]\n",
      "   Senegal wins 🎊🏆⚽🎖️\n",
      "\n",
      "Group B Matches\n",
      "England vs Iran \n",
      "  Results of the Match [1. 1.]\n",
      "   Match Draw ⚽⚽⚽\n",
      "\n",
      " England vs United States \n",
      "  Results of the Match [1. 0.]\n",
      "   England wins 🎊🏆⚽🎖️\n",
      "\n",
      " England vs Wales \n",
      "  Results of the Match [1. 0.]\n",
      "   England wins 🎊🏆⚽🎖️\n",
      "\n",
      "Iran vs United States \n",
      "  Results of the Match [0. 0.]\n",
      "   Match Draw ⚽⚽⚽\n",
      "\n",
      "Iran vs Wales \n",
      "  Results of the Match [0. 0.]\n",
      "   Match Draw ⚽⚽⚽\n",
      "\n",
      " United States vs Wales \n",
      "  Results of the Match [1. 0.]\n",
      "   United States wins 🎊🏆⚽🎖️\n",
      "\n",
      "Group C Matches\n",
      " Argentina vs Saudi Arabia \n",
      "  Results of the Match [1. 0.]\n",
      "   Argentina wins 🎊🏆⚽🎖️\n",
      "\n",
      " Argentina vs Mexico \n",
      "  Results of the Match [1. 0.]\n",
      "   Argentina wins 🎊🏆⚽🎖️\n",
      "\n",
      " Argentina vs Poland \n",
      "  Results of the Match [2. 0.]\n",
      "   Argentina wins 🎊🏆⚽🎖️\n",
      "\n",
      " Saudi Arabia vs Mexico \n",
      "  Results of the Match [0. 1.]\n",
      "   Mexico wins 🎊🏆⚽🎖️\n",
      "\n",
      " Saudi Arabia vs Poland \n",
      "  Results of the Match [2. 0.]\n",
      "   Saudi Arabia wins 🎊🏆⚽🎖️\n",
      "\n",
      " Mexico vs Poland \n",
      "  Results of the Match [1. 0.]\n",
      "   Mexico wins 🎊🏆⚽🎖️\n",
      "\n",
      "Group D Matches\n",
      " France vs Australia \n",
      "  Results of the Match [1. 0.]\n",
      "   France wins 🎊🏆⚽🎖️\n",
      "\n",
      "France vs Denmark \n",
      "  Results of the Match [0. 0.]\n",
      "   Match Draw ⚽⚽⚽\n",
      "\n",
      "France vs Tunisia \n",
      "  Results of the Match [1. 1.]\n",
      "   Match Draw ⚽⚽⚽\n",
      "\n",
      " Australia vs Denmark \n",
      "  Results of the Match [0. 1.]\n",
      "   Denmark wins 🎊🏆⚽🎖️\n",
      "\n",
      "Australia vs Tunisia \n",
      "  Results of the Match [0. 0.]\n",
      "   Match Draw ⚽⚽⚽\n",
      "\n",
      " Denmark vs Tunisia \n",
      "  Results of the Match [1. 0.]\n",
      "   Denmark wins 🎊🏆⚽🎖️\n",
      "\n",
      "Group E Matches\n",
      " Spain vs Costa Rica \n",
      "  Results of the Match [1. 0.]\n",
      "   Spain wins 🎊🏆⚽🎖️\n",
      "\n",
      " Spain vs Germany \n",
      "  Results of the Match [1. 0.]\n",
      "   Spain wins 🎊🏆⚽🎖️\n",
      "\n",
      " Spain vs Japan \n",
      "  Results of the Match [1. 0.]\n",
      "   Spain wins 🎊🏆⚽🎖️\n",
      "\n",
      "Costa Rica vs Germany \n",
      "  Results of the Match [0. 0.]\n",
      "   Match Draw ⚽⚽⚽\n",
      "\n",
      "Costa Rica vs Japan \n",
      "  Results of the Match [0. 0.]\n",
      "   Match Draw ⚽⚽⚽\n",
      "\n",
      "Germany vs Japan \n",
      "  Results of the Match [0. 0.]\n",
      "   Match Draw ⚽⚽⚽\n",
      "\n",
      "Group F Matches\n",
      " Belgium vs Canada \n",
      "  Results of the Match [0. 1.]\n",
      "   Canada wins 🎊🏆⚽🎖️\n",
      "\n",
      " Belgium vs Morocco \n",
      "  Results of the Match [1. 0.]\n",
      "   Belgium wins 🎊🏆⚽🎖️\n",
      "\n",
      " Belgium vs Croatia \n",
      "  Results of the Match [0. 1.]\n",
      "   Croatia wins 🎊🏆⚽🎖️\n",
      "\n",
      "Canada vs Morocco \n",
      "  Results of the Match [0. 0.]\n",
      "   Match Draw ⚽⚽⚽\n",
      "\n",
      "Canada vs Croatia \n",
      "  Results of the Match [0. 0.]\n",
      "   Match Draw ⚽⚽⚽\n",
      "\n",
      "Morocco vs Croatia \n",
      "  Results of the Match [0. 0.]\n",
      "   Match Draw ⚽⚽⚽\n",
      "\n",
      "Group G Matches\n",
      " Brazil vs Serbia \n",
      "  Results of the Match [1. 0.]\n",
      "   Brazil wins 🎊🏆⚽🎖️\n",
      "\n",
      " Brazil vs Switzerland \n",
      "  Results of the Match [1. 0.]\n",
      "   Brazil wins 🎊🏆⚽🎖️\n",
      "\n",
      "Brazil vs Cameroon \n",
      "  Results of the Match [0. 0.]\n",
      "   Match Draw ⚽⚽⚽\n",
      "\n",
      "Serbia vs Switzerland \n",
      "  Results of the Match [1. 1.]\n",
      "   Match Draw ⚽⚽⚽\n",
      "\n",
      "Serbia vs Cameroon \n",
      "  Results of the Match [0. 0.]\n",
      "   Match Draw ⚽⚽⚽\n",
      "\n",
      "Switzerland vs Cameroon \n",
      "  Results of the Match [0. 0.]\n",
      "   Match Draw ⚽⚽⚽\n",
      "\n",
      "Group H Matches\n",
      "Portugal vs Ghana \n",
      "  Results of the Match [0. 0.]\n",
      "   Match Draw ⚽⚽⚽\n",
      "\n",
      "Portugal vs Uruguay \n",
      "  Results of the Match [1. 1.]\n",
      "   Match Draw ⚽⚽⚽\n",
      "\n",
      "Portugal vs South Korea \n",
      "  Results of the Match [0. 0.]\n",
      "   Match Draw ⚽⚽⚽\n",
      "\n",
      " Ghana vs Uruguay \n",
      "  Results of the Match [0. 1.]\n",
      "   Uruguay wins 🎊🏆⚽🎖️\n",
      "\n",
      " Ghana vs South Korea \n",
      "  Results of the Match [0. 1.]\n",
      "   South Korea wins 🎊🏆⚽🎖️\n",
      "\n",
      " Uruguay vs South Korea \n",
      "  Results of the Match [1. 0.]\n",
      "   Uruguay wins 🎊🏆⚽🎖️\n",
      "\n"
     ]
    }
   ],
   "source": [
    "##Group stage Matches\n",
    "\n",
    "Group_standings={}\n",
    "for grp_name in list(Groups.keys()):\n",
    "    print(f\"{grp_name} Matches\")\n",
    "    probable_countries=Groups[grp_name]\n",
    "    team_wins_dct={}\n",
    "    goal_scored_dct={}\n",
    "    goal_against_dct={}\n",
    "    win_dct={}\n",
    "    draw_dct={}\n",
    "    lost_dct={}\n",
    "    for i in range(len(probable_countries)):\n",
    "        j=i+1\n",
    "        team_1=probable_countries[i]\n",
    "        team_1_num=label_encoder.transform([team_1])[0]\n",
    "        team_wins=0\n",
    "        while j<len((probable_countries)):\n",
    "            team_2=probable_countries[j]\n",
    "            team_2_num=label_encoder.transform([team_2])[0]\n",
    "            team_lst=[team_1,team_2]\n",
    "            Input_vector=np.array([[year,stadium_num,team_1_num,team_2_num]])\n",
    "            res=model.predict(Input_vector)\n",
    "\n",
    "            win,prob_lst=select_winning_team(res)\n",
    "            goal_scored_dct[team_1] = goal_scored_dct.get(team_1,0)+prob_lst[0]\n",
    "            goal_scored_dct[team_2] = goal_scored_dct.get(team_2,0)+prob_lst[1]\n",
    "\n",
    "            goal_against_dct[team_1] = goal_against_dct.get(team_1,0)+prob_lst[1]\n",
    "            goal_against_dct[team_2] = goal_against_dct.get(team_2,0)+prob_lst[0]\n",
    "\n",
    "            try:\n",
    "                print(f\" {team_1} vs {team_2} \\n  Results of the Match {res[0]}\\n   {team_lst[win]} wins 🎊🏆⚽🎖️\\n\")\n",
    "                if (win)==0:\n",
    "                    team_wins_dct[team_1] = team_wins_dct.get(team_1,0)+2\n",
    "                    team_wins_dct[team_2] = team_wins_dct.get(team_2,0)\n",
    "                    \n",
    "                    win_dct[team_1] = win_dct.get(team_1,0)+1\n",
    "                    win_dct[team_2] = win_dct.get(team_2,0)\n",
    "                    lost_dct[team_2] = lost_dct.get(team_2,0)+1\n",
    "                    lost_dct[team_1] = lost_dct.get(team_1,0)\n",
    "                    draw_dct[team_2] = draw_dct.get(team_2,0)\n",
    "                    draw_dct[team_1] = draw_dct.get(team_1,0)\n",
    "\n",
    "                elif (win)==1:\n",
    "                    team_wins_dct[team_2] = team_wins_dct.get(team_2,0)+2\n",
    "                    team_wins_dct[team_1] = team_wins_dct.get(team_1,0)\n",
    "                    \n",
    "                    win_dct[team_2] = win_dct.get(team_2,0)+1\n",
    "                    win_dct[team_1] = win_dct.get(team_1,0)\n",
    "                    lost_dct[team_1] = lost_dct.get(team_1,0)+1\n",
    "                    lost_dct[team_2] = lost_dct.get(team_2,0)\n",
    "                    draw_dct[team_1] = draw_dct.get(team_1,0)\n",
    "                    draw_dct[team_2] = draw_dct.get(team_2,0)\n",
    "\n",
    "            except IndexError:\n",
    "                print(f\"{team_1} vs {team_2} \\n  Results of the Match {res[0]}\\n   Match Draw ⚽⚽⚽\\n\") \n",
    "                team_wins_dct[team_1] = team_wins_dct.get(team_1,0)+1\n",
    "                team_wins_dct[team_2] = team_wins_dct.get(team_2,0)+1\n",
    "                \n",
    "                draw_dct[team_1] = draw_dct.get(team_1,0)+1\n",
    "                draw_dct[team_2] = draw_dct.get(team_2,0)+1\n",
    "                \n",
    "                win_dct[team_1] = win_dct.get(team_1,0)\n",
    "                lost_dct[team_1] = lost_dct.get(team_1,0)\n",
    "                \n",
    "                win_dct[team_2] = win_dct.get(team_2,0)\n",
    "                lost_dct[team_2] = lost_dct.get(team_2,0)\n",
    "                    \n",
    "            j=j+1\n",
    "    group_results=[win_dct,draw_dct,lost_dct,team_wins_dct,goal_scored_dct,goal_against_dct]\n",
    "    Group_standings[grp_name]=group_results"
   ]
  },
  {
   "cell_type": "code",
   "execution_count": 69,
   "metadata": {
    "execution": {
     "iopub.execute_input": "2022-11-16T06:46:17.131184Z",
     "iopub.status.busy": "2022-11-16T06:46:17.130787Z",
     "iopub.status.idle": "2022-11-16T06:46:17.154213Z",
     "shell.execute_reply": "2022-11-16T06:46:17.153322Z",
     "shell.execute_reply.started": "2022-11-16T06:46:17.131165Z"
    },
    "scrolled": true,
    "tags": []
   },
   "outputs": [
    {
     "name": "stdout",
     "output_type": "stream",
     "text": [
      "\n",
      "\n",
      "Group A Final Rankings\n",
      "|    | Team        |   Wins |   Draw |   Lost |   Goal Scored |   Goal Against |   Goal Differance |   Points |\n",
      "|---:|:------------|-------:|-------:|-------:|--------------:|---------------:|------------------:|---------:|\n",
      "|  1 | Ecuador     |      1 |      2 |      0 |             1 |              0 |                 1 |        4 |\n",
      "|  2 | Qatar       |      1 |      2 |      0 |             3 |              1 |                 2 |        4 |\n",
      "|  3 | Senegal     |      1 |      2 |      0 |             3 |              2 |                 1 |        4 |\n",
      "|  4 | Netherlands |      0 |      0 |      3 |             1 |              5 |                -4 |        0 |\n",
      "\n",
      "\n",
      "Group B Final Rankings\n",
      "|    | Team          |   Wins |   Draw |   Lost |   Goal Scored |   Goal Against |   Goal Differance |   Points |\n",
      "|---:|:--------------|-------:|-------:|-------:|--------------:|---------------:|------------------:|---------:|\n",
      "|  1 | England       |      2 |      1 |      0 |             3 |              1 |                 2 |        5 |\n",
      "|  2 | Iran          |      0 |      3 |      0 |             1 |              1 |                 0 |        3 |\n",
      "|  3 | United States |      1 |      1 |      1 |             1 |              1 |                 0 |        3 |\n",
      "|  4 | Wales         |      0 |      1 |      2 |             0 |              2 |                -2 |        1 |\n",
      "\n",
      "\n",
      "Group C Final Rankings\n",
      "|    | Team         |   Wins |   Draw |   Lost |   Goal Scored |   Goal Against |   Goal Differance |   Points |\n",
      "|---:|:-------------|-------:|-------:|-------:|--------------:|---------------:|------------------:|---------:|\n",
      "|  1 | Argentina    |      3 |      0 |      0 |             4 |              0 |                 4 |        6 |\n",
      "|  2 | Mexico       |      2 |      0 |      1 |             2 |              1 |                 1 |        4 |\n",
      "|  3 | Saudi Arabia |      1 |      0 |      2 |             2 |              2 |                 0 |        2 |\n",
      "|  4 | Poland       |      0 |      0 |      3 |             0 |              5 |                -5 |        0 |\n",
      "\n",
      "\n",
      "Group D Final Rankings\n",
      "|    | Team      |   Wins |   Draw |   Lost |   Goal Scored |   Goal Against |   Goal Differance |   Points |\n",
      "|---:|:----------|-------:|-------:|-------:|--------------:|---------------:|------------------:|---------:|\n",
      "|  1 | Denmark   |      2 |      1 |      0 |             2 |              0 |                 2 |        5 |\n",
      "|  2 | France    |      1 |      2 |      0 |             2 |              1 |                 1 |        4 |\n",
      "|  3 | Tunisia   |      0 |      2 |      1 |             1 |              2 |                -1 |        2 |\n",
      "|  4 | Australia |      0 |      1 |      2 |             0 |              2 |                -2 |        1 |\n",
      "\n",
      "\n",
      "Group E Final Rankings\n",
      "|    | Team       |   Wins |   Draw |   Lost |   Goal Scored |   Goal Against |   Goal Differance |   Points |\n",
      "|---:|:-----------|-------:|-------:|-------:|--------------:|---------------:|------------------:|---------:|\n",
      "|  1 | Spain      |      3 |      0 |      0 |             3 |              0 |                 3 |        6 |\n",
      "|  2 | Costa Rica |      0 |      2 |      1 |             0 |              1 |                -1 |        2 |\n",
      "|  3 | Germany    |      0 |      2 |      1 |             0 |              1 |                -1 |        2 |\n",
      "|  4 | Japan      |      0 |      2 |      1 |             0 |              1 |                -1 |        2 |\n",
      "\n",
      "\n",
      "Group F Final Rankings\n",
      "|    | Team    |   Wins |   Draw |   Lost |   Goal Scored |   Goal Against |   Goal Differance |   Points |\n",
      "|---:|:--------|-------:|-------:|-------:|--------------:|---------------:|------------------:|---------:|\n",
      "|  1 | Canada  |      1 |      2 |      0 |             1 |              0 |                 1 |        4 |\n",
      "|  2 | Croatia |      1 |      2 |      0 |             1 |              0 |                 1 |        4 |\n",
      "|  3 | Belgium |      1 |      0 |      2 |             1 |              2 |                -1 |        2 |\n",
      "|  4 | Morocco |      0 |      2 |      1 |             0 |              1 |                -1 |        2 |\n",
      "\n",
      "\n",
      "Group G Final Rankings\n",
      "|    | Team        |   Wins |   Draw |   Lost |   Goal Scored |   Goal Against |   Goal Differance |   Points |\n",
      "|---:|:------------|-------:|-------:|-------:|--------------:|---------------:|------------------:|---------:|\n",
      "|  1 | Brazil      |      2 |      1 |      0 |             2 |              0 |                 2 |        5 |\n",
      "|  2 | Cameroon    |      0 |      3 |      0 |             0 |              0 |                 0 |        3 |\n",
      "|  3 | Serbia      |      0 |      2 |      1 |             1 |              2 |                -1 |        2 |\n",
      "|  4 | Switzerland |      0 |      2 |      1 |             1 |              2 |                -1 |        2 |\n",
      "\n",
      "\n",
      "Group H Final Rankings\n",
      "|    | Team        |   Wins |   Draw |   Lost |   Goal Scored |   Goal Against |   Goal Differance |   Points |\n",
      "|---:|:------------|-------:|-------:|-------:|--------------:|---------------:|------------------:|---------:|\n",
      "|  1 | Uruguay     |      2 |      1 |      0 |             3 |              1 |                 2 |        5 |\n",
      "|  2 | Portugal    |      0 |      3 |      0 |             1 |              1 |                 0 |        3 |\n",
      "|  3 | South Korea |      1 |      1 |      1 |             1 |              1 |                 0 |        3 |\n",
      "|  4 | Ghana       |      0 |      1 |      2 |             0 |              2 |                -2 |        1 |\n"
     ]
    }
   ],
   "source": [
    "#Display group stage results\n",
    "\n",
    "for grp_name in list(Group_standings.keys()):\n",
    "\n",
    "    team_wins_dct= dict(sorted(Group_standings[grp_name][3].items()))\n",
    "    goal_scored_dct=dict(sorted(Group_standings[grp_name][4].items()))\n",
    "    goal_against_dct=dict(sorted(Group_standings[grp_name][5].items()))\n",
    "    \n",
    "    win_dct=dict(sorted(Group_standings[grp_name][0].items()))\n",
    "    draw_dct=dict(sorted(Group_standings[grp_name][1].items()))\n",
    "    lost_dct=dict(sorted(Group_standings[grp_name][2].items()))\n",
    "    \n",
    "    lst_teams=list(team_wins_dct.keys())\n",
    "    \n",
    "    win_lst=list(win_dct.values())\n",
    "    draw_lst=list(draw_dct.values())\n",
    "    lost_lst=list(lost_dct.values())\n",
    "    \n",
    "    lst_win_count=list(team_wins_dct.values())\n",
    "    goal_scored=list(goal_scored_dct.values())\n",
    "    goal_against=list(goal_against_dct.values())\n",
    "    goal_differance=[goal_scored[i]-goal_against[i] for i in range (len(goal_scored))]\n",
    "    ranking_table=pd.DataFrame(list(zip(lst_teams,win_lst,draw_lst,lost_lst,goal_scored,goal_against,goal_differance,lst_win_count)),columns=[\"Team\",\"Wins\",\"Draw\",\"Lost\",\"Goal Scored\",\"Goal Against\",\"Goal Differance\",\"Points\"])\n",
    "    ranking_table=ranking_table.sort_values(\"Points\",ascending=False).reset_index(drop=True)\n",
    "    ranking_table.index = ranking_table.index + 1\n",
    "    print(f\"\\n\\n{grp_name} Final Rankings\")\n",
    "    print(ranking_table.to_markdown())\n",
    "    "
   ]
  },
  {
   "cell_type": "code",
   "execution_count": 70,
   "metadata": {
    "execution": {
     "iopub.execute_input": "2022-11-16T06:46:27.407004Z",
     "iopub.status.busy": "2022-11-16T06:46:27.406770Z",
     "iopub.status.idle": "2022-11-16T06:46:27.530063Z",
     "shell.execute_reply": "2022-11-16T06:46:27.529194Z",
     "shell.execute_reply.started": "2022-11-16T06:46:27.406987Z"
    },
    "tags": []
   },
   "outputs": [
    {
     "name": "stdout",
     "output_type": "stream",
     "text": [
      "Round of 16\n",
      "\n",
      "Qatar vs Iran \n",
      "  Match Draw ⚽⚽\n",
      "   Qatar wins at Penaly Shoot-Out 🥅🎯\n",
      "    Qatar into the Quater-Finals ⏩⏩ \n",
      "\n",
      "Argentina vs France \n",
      "  Match Draw ⚽⚽\n",
      "   France wins at Penaly Shoot-Out 🥅🎯\n",
      "    France into the Quater-Finals ⏩⏩ \n",
      "\n",
      "Spain vs Croatia \n",
      "  Spain wins 🏆🏆\n",
      "    Spain into the Quater-Finals ⏩⏩ \n",
      "\n",
      "Brazil vs Portugal \n",
      "  Match Draw ⚽⚽\n",
      "   Brazil wins at Penaly Shoot-Out 🥅🎯\n",
      "    Brazil into the Quater-Finals ⏩⏩ \n",
      "\n",
      "Ecuador vs England \n",
      "  Ecuador wins 🏆🏆\n",
      "    Ecuador into the Quater-Finals ⏩⏩ \n",
      "\n",
      "Mexico vs Denmark \n",
      "  Denmark wins 🏆🏆\n",
      "    Denmark into the Quater-Finals ⏩⏩ \n",
      "\n",
      "Costa Rica vs Canada \n",
      "  Match Draw ⚽⚽\n",
      "   Canada wins at Penaly Shoot-Out 🥅🎯\n",
      "    Canada into the Quater-Finals ⏩⏩ \n",
      "\n",
      "Cameroon vs Uruguay \n",
      "  Cameroon wins 🏆🏆\n",
      "    Cameroon into the Quater-Finals ⏩⏩ \n",
      "\n"
     ]
    }
   ],
   "source": [
    "##Round of 16 Section_1\n",
    "\n",
    "qualified_teams_1=[]\n",
    "standings=list(Group_standings.keys())\n",
    "i=0\n",
    "print(f\"Round of 16\\n\")\n",
    "while i < (len(standings)):\n",
    "    A_team= sorted(Group_standings[standings[i]][3].items(), key=lambda x: x[1], reverse=True)\n",
    "    team_1=A_team[0][0]\n",
    "    B_team= sorted(Group_standings[standings[i+1]][3].items(), key=lambda x: x[1], reverse=True)\n",
    "    team_2=B_team[1][0]\n",
    "    \n",
    "    team_1_num=label_encoder.transform([team_1])[0]\n",
    "    team_2_num=label_encoder.transform([team_2])[0]\n",
    "    team_lst=[team_1,team_2]\n",
    "    \n",
    "    Input_vector=np.array([[year,host_num,team_1_num,team_2_num]])\n",
    "    res=model.predict(Input_vector)\n",
    "    win,_=select_winning_team(res)\n",
    "\n",
    "    try:\n",
    "            print(f\"{team_1} vs {team_2} \\n  {team_lst[win]} wins 🏆🏆\")\n",
    "            print(f\"    {team_lst[win]} into the Quater-Finals ⏩⏩ \\n\")\n",
    "            qualified_teams_1.append(team_lst[win])\n",
    "    except IndexError:\n",
    "            print(f\"{team_1} vs {team_2} \\n  Match Draw ⚽⚽\") \n",
    "            winning_team=random.choice(team_lst)\n",
    "            print(f\"   {winning_team} wins at Penaly Shoot-Out 🥅🎯\")\n",
    "            print(f\"    {winning_team} into the Quater-Finals ⏩⏩ \\n\")\n",
    "            qualified_teams_1.append(winning_team)\n",
    "    i=i+2\n",
    "    \n",
    "##Round of 16 Section_2\n",
    "qualified_teams_2=[]\n",
    "standings=list(Group_standings.keys())\n",
    "i=0\n",
    "while i < (len(standings)):\n",
    "    A_team= sorted(Group_standings[standings[i]][3].items(), key=lambda x: x[1], reverse=True)\n",
    "    team_1=A_team[1][0]\n",
    "    B_team= sorted(Group_standings[standings[i+1]][3].items(), key=lambda x: x[1], reverse=True)\n",
    "    team_2=B_team[0][0]\n",
    "    \n",
    "    team_1_num=label_encoder.transform([team_1])[0]\n",
    "    team_2_num=label_encoder.transform([team_2])[0]\n",
    "    team_lst=[team_1,team_2]\n",
    "    \n",
    "    Input_vector=np.array([[year,host_num,team_1_num,team_2_num]])\n",
    "    res=model.predict(Input_vector)\n",
    "    win,_=select_winning_team(res)\n",
    "\n",
    "    try:\n",
    "            print(f\"{team_1} vs {team_2} \\n  {team_lst[win]} wins 🏆🏆\")\n",
    "            print(f\"    {team_lst[win]} into the Quater-Finals ⏩⏩ \\n\")\n",
    "            qualified_teams_2.append(team_lst[win])\n",
    "            \n",
    "    except IndexError:\n",
    "            print(f\"{team_1} vs {team_2} \\n  Match Draw ⚽⚽\") \n",
    "            winning_team=random.choice(team_lst)\n",
    "            print(f\"   {winning_team} wins at Penaly Shoot-Out 🥅🎯\")\n",
    "            print(f\"    {winning_team} into the Quater-Finals ⏩⏩ \\n\")\n",
    "            qualified_teams_2.append(winning_team)\n",
    "    i=i+2"
   ]
  },
  {
   "cell_type": "code",
   "execution_count": 71,
   "metadata": {
    "execution": {
     "iopub.execute_input": "2022-11-16T06:46:27.915032Z",
     "iopub.status.busy": "2022-11-16T06:46:27.914747Z",
     "iopub.status.idle": "2022-11-16T06:46:27.920297Z",
     "shell.execute_reply": "2022-11-16T06:46:27.919181Z",
     "shell.execute_reply.started": "2022-11-16T06:46:27.915015Z"
    },
    "tags": []
   },
   "outputs": [
    {
     "name": "stdout",
     "output_type": "stream",
     "text": [
      "Teams selected to the Quater Finals - ['Qatar', 'France', 'Spain', 'Brazil', 'Ecuador', 'Denmark', 'Canada', 'Cameroon']\n"
     ]
    }
   ],
   "source": [
    "print(f\"Teams selected to the Quater Finals - {qualified_teams_1+qualified_teams_2}\")"
   ]
  },
  {
   "cell_type": "code",
   "execution_count": 72,
   "metadata": {
    "execution": {
     "iopub.execute_input": "2022-11-16T06:46:28.392587Z",
     "iopub.status.busy": "2022-11-16T06:46:28.392005Z",
     "iopub.status.idle": "2022-11-16T06:46:28.463129Z",
     "shell.execute_reply": "2022-11-16T06:46:28.462306Z",
     "shell.execute_reply.started": "2022-11-16T06:46:28.392569Z"
    },
    "tags": []
   },
   "outputs": [
    {
     "name": "stdout",
     "output_type": "stream",
     "text": [
      "Quater Final Matches\n",
      "\n",
      "Qatar vs France \n",
      "  Match Draw ⚽⚽\n",
      "   Qatar wins at Penaly Shoot-Out 🥅🎯\n",
      "    Qatar into the Semi-Finals ⏩⏩ \n",
      "\n",
      "Spain vs Brazil \n",
      "  Match Draw ⚽⚽\n",
      "   Brazil wins at Penaly Shoot-Out 🥅🎯\n",
      "    Brazil into the Semi-Finals ⏩⏩ \n",
      "\n",
      "Ecuador vs Denmark \n",
      "  Match Draw ⚽⚽\n",
      "   Ecuador wins at Penaly Shoot-Out 🥅🎯\n",
      "    Ecuador into the Semi-Finals ⏩⏩ \n",
      "\n",
      "Canada vs Cameroon \n",
      "  Match Draw ⚽⚽\n",
      "   Cameroon wins at Penaly Shoot-Out 🥅🎯\n",
      "    Cameroon into the Semi-Finals ⏩⏩ \n",
      "\n"
     ]
    }
   ],
   "source": [
    "#Quarter Finals\n",
    "\n",
    "Semifinal_teams=[]\n",
    "i=0\n",
    "print(f\"Quater Final Matches\\n\")\n",
    "while i < (len(qualified_teams_1))-1:\n",
    "    team_1= qualified_teams_1[i]\n",
    "    team_2= qualified_teams_1[i+1]\n",
    "    \n",
    "    team_1_num=label_encoder.transform([team_1])[0]\n",
    "    team_2_num=label_encoder.transform([team_2])[0]\n",
    "    team_lst=[team_1,team_2]\n",
    "    \n",
    "    Input_vector=np.array([[year,host_num,team_1_num,team_2_num]])\n",
    "    res=model.predict(Input_vector)\n",
    "    win,_=select_winning_team(res)\n",
    "\n",
    "    try:\n",
    "            print(f\"{team_1} vs {team_2} \\n  {team_lst[win]} wins 🏆🏆\")\n",
    "            print(f\"    {team_lst[win]} into the Semi-Finals ⏩⏩ \\n\")\n",
    "            Semifinal_teams.append(team_lst[win])\n",
    "            \n",
    "    except IndexError:\n",
    "            print(f\"{team_1} vs {team_2} \\n  Match Draw ⚽⚽\")\n",
    "            winning_team=random.choice(team_lst)\n",
    "            print(f\"   {winning_team} wins at Penaly Shoot-Out 🥅🎯\")\n",
    "            print(f\"    {winning_team} into the Semi-Finals ⏩⏩ \\n\")\n",
    "            Semifinal_teams.append(winning_team)\n",
    "    i=i+2\n",
    "    \n",
    "i=0\n",
    "while i < (len(qualified_teams_2))-1:\n",
    "    team_1= qualified_teams_2[i]\n",
    "    team_2= qualified_teams_2[i+1]\n",
    "    team_1_num=label_encoder.transform([team_1])[0]\n",
    "    team_2_num=label_encoder.transform([team_2])[0]\n",
    "    team_lst=[team_1,team_2]\n",
    "    \n",
    "    Input_vector=np.array([[year,host_num,team_1_num,team_2_num]])\n",
    "    res=model.predict(Input_vector)\n",
    "    win,_=select_winning_team(res)\n",
    "\n",
    "    try:\n",
    "            print(f\"{team_1} vs {team_2} \\n  {team_lst[win]} wins 🏆🏆\")\n",
    "            print(f\"    {team_lst[win]} into the Semi-Finals ⏩⏩ \\n\")\n",
    "            Semifinal_teams.append(team_lst[win])\n",
    "            \n",
    "    except IndexError:\n",
    "            print(f\"{team_1} vs {team_2} \\n  Match Draw ⚽⚽\") \n",
    "            winning_team=random.choice(team_lst)\n",
    "            print(f\"   {winning_team} wins at Penaly Shoot-Out 🥅🎯\")\n",
    "            print(f\"    {winning_team} into the Semi-Finals ⏩⏩ \\n\")\n",
    "            Semifinal_teams.append(winning_team)\n",
    "    i=i+2"
   ]
  },
  {
   "cell_type": "code",
   "execution_count": 73,
   "metadata": {
    "execution": {
     "iopub.execute_input": "2022-11-16T06:46:28.760168Z",
     "iopub.status.busy": "2022-11-16T06:46:28.759264Z",
     "iopub.status.idle": "2022-11-16T06:46:28.764649Z",
     "shell.execute_reply": "2022-11-16T06:46:28.763685Z",
     "shell.execute_reply.started": "2022-11-16T06:46:28.760130Z"
    },
    "tags": []
   },
   "outputs": [
    {
     "name": "stdout",
     "output_type": "stream",
     "text": [
      "Teams selected to the Semi-Finals - ['Qatar', 'Brazil', 'Ecuador', 'Cameroon']\n"
     ]
    }
   ],
   "source": [
    "print(f\"Teams selected to the Semi-Finals - {Semifinal_teams}\")"
   ]
  },
  {
   "cell_type": "code",
   "execution_count": 74,
   "metadata": {
    "execution": {
     "iopub.execute_input": "2022-11-16T06:46:29.265694Z",
     "iopub.status.busy": "2022-11-16T06:46:29.265229Z",
     "iopub.status.idle": "2022-11-16T06:46:29.305897Z",
     "shell.execute_reply": "2022-11-16T06:46:29.304821Z",
     "shell.execute_reply.started": "2022-11-16T06:46:29.265673Z"
    },
    "tags": []
   },
   "outputs": [
    {
     "name": "stdout",
     "output_type": "stream",
     "text": [
      "Semi Final Matches\n",
      "\n",
      "Qatar vs Brazil \n",
      "  Match Draw ⚽⚽\n",
      "   Brazil wins at Penaly Shoot-Out 🥅🎯\n",
      "    Brazil into the FIFA-Finals ⏩⏩ \n",
      "\n",
      "Ecuador vs Cameroon \n",
      "  Match Draw ⚽⚽\n",
      "   Ecuador wins at Penaly Shoot-Out 🥅🎯\n",
      "    Ecuador into the FIFA-Finals ⏩⏩ \n",
      "\n"
     ]
    }
   ],
   "source": [
    "#Semi Finals\n",
    "\n",
    "final_teams=[]\n",
    "third_place_match_teams=[]\n",
    "i=0\n",
    "print(f\"Semi Final Matches\\n\")\n",
    "while i < (len(Semifinal_teams))-1:\n",
    "    team_1= Semifinal_teams[i]\n",
    "    team_2= Semifinal_teams[i+1]\n",
    "    \n",
    "    team_1_num=label_encoder.transform([team_1])[0]\n",
    "    team_2_num=label_encoder.transform([team_2])[0]\n",
    "    team_lst=[team_1,team_2]\n",
    "    \n",
    "    Input_vector=np.array([[year,host_num,team_1_num,team_2_num]])\n",
    "    res=model.predict(Input_vector)\n",
    "    win,_=select_winning_team(res)\n",
    "\n",
    "    try:\n",
    "            print(f\"{team_1} vs {team_2} \\n  {team_lst[win]} wins 🏆🏆\")\n",
    "            print(f\"    {team_lst[win]} into the FiIFA-Finals ⏩⏩ \\n\")\n",
    "            final_teams.append(team_lst[win])\n",
    "            third_place_match_teams.append(team_lst[(win+1)%2])\n",
    "\n",
    "            \n",
    "    except IndexError:\n",
    "            print(f\"{team_1} vs {team_2} \\n  Match Draw ⚽⚽\") \n",
    "            winning_team=random.choice(team_lst)\n",
    "            print(f\"   {winning_team} wins at Penaly Shoot-Out 🥅🎯\")\n",
    "            print(f\"    {winning_team} into the FIFA-Finals ⏩⏩ \\n\")\n",
    "            final_teams.append(winning_team)\n",
    "            team_lst.remove(winning_team)\n",
    "            third_place_match_teams.append(team_lst[0])\n",
    "    i=i+2\n",
    "    "
   ]
  },
  {
   "cell_type": "code",
   "execution_count": 75,
   "metadata": {
    "execution": {
     "iopub.execute_input": "2022-11-16T06:46:29.766140Z",
     "iopub.status.busy": "2022-11-16T06:46:29.765820Z",
     "iopub.status.idle": "2022-11-16T06:46:29.770650Z",
     "shell.execute_reply": "2022-11-16T06:46:29.769876Z",
     "shell.execute_reply.started": "2022-11-16T06:46:29.766122Z"
    },
    "tags": []
   },
   "outputs": [
    {
     "name": "stdout",
     "output_type": "stream",
     "text": [
      "Teams selected to the Finals - ['Brazil', 'Ecuador']\n",
      "Teams selected to the Third Place match - ['Qatar', 'Cameroon']\n"
     ]
    }
   ],
   "source": [
    "print(f\"Teams selected to the Finals - {final_teams}\")\n",
    "print(f\"Teams selected to the Third Place match - {third_place_match_teams}\")"
   ]
  },
  {
   "cell_type": "code",
   "execution_count": 76,
   "metadata": {
    "execution": {
     "iopub.execute_input": "2022-11-16T06:46:30.739255Z",
     "iopub.status.busy": "2022-11-16T06:46:30.738963Z",
     "iopub.status.idle": "2022-11-16T06:46:30.785665Z",
     "shell.execute_reply": "2022-11-16T06:46:30.784671Z",
     "shell.execute_reply.started": "2022-11-16T06:46:30.739238Z"
    },
    "tags": []
   },
   "outputs": [
    {
     "name": "stdout",
     "output_type": "stream",
     "text": [
      "FiIFA FINAl\n",
      "\n",
      "Ecuador vs Brazil \n",
      "  Match Draw ⚽⚽\n",
      "   Brazil wins at Penaly Shoot-Out 🥅🎯\n",
      "    Brazil are the Winners 🎉🏆🎉\n",
      "\n",
      "\n",
      "Third Place match\n",
      "\n",
      "Cameroon vs Qatar \n",
      "  Match Draw ⚽⚽\n",
      "   Cameroon wins at Penaly Shoot-Out 🥅🎯\n",
      "    Cameroon Wins the 3rd Place 🎉🏆🎉\n",
      "\n",
      "\n",
      "\n",
      "Winner is Brazil 🥇🥇🥇\n",
      "Runner-up is Ecuador 🥈🥈🥈\n",
      "3rd Place is Cameroon 🥉🥉🥉\n"
     ]
    }
   ],
   "source": [
    "#Finals and Third Place match\n",
    "\n",
    "print(f\"FiIFA FINAl\\n\")\n",
    "team_1= final_teams[1]\n",
    "team_2= final_teams[0]\n",
    "    \n",
    "team_1_num=label_encoder.transform([team_1])[0]\n",
    "team_2_num=label_encoder.transform([team_2])[0]\n",
    "team_lst=[team_1,team_2]\n",
    "    \n",
    "Input_vector=np.array([[year,host_num,team_1_num,team_2_num]])\n",
    "res=model.predict(Input_vector)\n",
    "win,_=select_winning_team(res)\n",
    "\n",
    "try:\n",
    "    print(f\"{team_1} vs {team_2} \\n  {team_lst[win]} are the Winners 🎉🏆🎉\\n\\n\")\n",
    "    winner=team_lst[win]\n",
    "    place_2=team_lst[(win+1)%2]\n",
    "            \n",
    "except IndexError:\n",
    "    print(f\"{team_1} vs {team_2} \\n  Match Draw ⚽⚽\") \n",
    "    winning_team=random.choice(team_lst)\n",
    "    print(f\"   {winning_team} wins at Penaly Shoot-Out 🥅🎯\")\n",
    "    print(f\"    {winning_team} are the Winners 🎉🏆🎉\\n\\n\")\n",
    "    winner=winning_team\n",
    "    \n",
    "    team_lst.remove(winning_team)\n",
    "    place_2=team_lst[0]\n",
    "\n",
    "print(f\"Third Place match\\n\")\n",
    "team_1= third_place_match_teams[1]\n",
    "team_2= third_place_match_teams[0]\n",
    "    \n",
    "team_1_num=label_encoder.transform([team_1])[0]\n",
    "team_2_num=label_encoder.transform([team_2])[0]\n",
    "team_lst=[team_1,team_2]\n",
    "    \n",
    "Input_vector=np.array([[year,host_num,team_1_num,team_2_num]])\n",
    "res=model.predict(Input_vector)\n",
    "win,_=select_winning_team(res)\n",
    "\n",
    "try:\n",
    "    print(f\"{team_1} vs {team_2} \\n  {team_lst[win]} Wins the 3rd Place 🎉🏆🎉\\n\")\n",
    "    place_3=team_lst[win]\n",
    "            \n",
    "except IndexError:\n",
    "    print(f\"{team_1} vs {team_2} \\n  Match Draw ⚽⚽\") \n",
    "    winning_team=random.choice(team_lst)\n",
    "    print(f\"   {winning_team} wins at Penaly Shoot-Out 🥅🎯\")\n",
    "    print(f\"    {winning_team} Wins the 3rd Place 🎉🏆🎉\\n\")\n",
    "    place_3=winning_team\n",
    "    \n",
    "\n",
    "    \n",
    "print(f\"\\n\\nWinner is {winner} 🥇🥇🥇\")\n",
    "print(f\"Runner-up is {place_2} 🥈🥈🥈\")\n",
    "print(f\"3rd Place is {place_3} 🥉🥉🥉\")"
   ]
  },
  {
   "cell_type": "markdown",
   "metadata": {
    "execution": {
     "iopub.execute_input": "2021-08-03T21:14:13.990179Z",
     "iopub.status.busy": "2021-08-03T21:14:13.989833Z",
     "iopub.status.idle": "2021-08-03T21:14:13.995223Z",
     "shell.execute_reply": "2021-08-03T21:14:13.994085Z",
     "shell.execute_reply.started": "2021-08-03T21:14:13.990149Z"
    }
   },
   "source": [
    "<img src= \"https://images.indianexpress.com/2020/10/fifa-world-cup-trophy.jpg\" alt =\"Wining Moment\">"
   ]
  },
  {
   "cell_type": "code",
   "execution_count": null,
   "metadata": {},
   "outputs": [],
   "source": []
  }
 ],
 "metadata": {
  "kernelspec": {
   "display_name": "Python 3 (ipykernel)",
   "language": "python",
   "name": "python3"
  },
  "language_info": {
   "codemirror_mode": {
    "name": "ipython",
    "version": 3
   },
   "file_extension": ".py",
   "mimetype": "text/x-python",
   "name": "python",
   "nbconvert_exporter": "python",
   "pygments_lexer": "ipython3",
   "version": "3.9.13"
  }
 },
 "nbformat": 4,
 "nbformat_minor": 4
}
