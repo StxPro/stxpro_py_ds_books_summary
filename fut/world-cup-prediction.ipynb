{
 "cells": [
  {
   "cell_type": "markdown",
   "metadata": {
    "_uuid": "49dafc03437b8de81b18bac6924425a8a27eeffc"
   },
   "source": [
    "# Predicting FIFA World Cup 2018 using Machine Learning.\n",
    "\n",
    "Launay Christian & Alfred Chantharath \n",
    "\n",
    "With the 2018 FIFA World Cup finished : We were curious to know wich team would had won using Machine Learning ?\n",
    "\n"
   ]
  },
  {
   "cell_type": "markdown",
   "metadata": {
    "_uuid": "f8f6f8c9b75e850dc088daa441d4639e27c5e183"
   },
   "source": [
    "# Goal\n",
    "1. The goal is to use Machine Learning to predict who is going to win the FIFA World Cup 2018.\n",
    "1. Predict the outcome of individual matches for the entire competition.\n",
    "1. Run simulation of the next matches i.e quarter finals, semi finals and finals.\n",
    "These goals present a unique real-world Machine Learning prediction problem and involve solving various Machine Learning tasks: data integration, feature modelling and outcome prediction."
   ]
  },
  {
   "cell_type": "markdown",
   "metadata": {
    "_uuid": "47302622c9f69e177ffedbdfe2023d2fead9d186"
   },
   "source": [
    "# Data\n",
    "We used four data sets from Kaggle. Fifa Soccer Rankings ,International foorball result from 1870 to 2018, fixture_cup ans World Cup 2018.\n",
    "We will use results of historical matches since the beginning of the championship (1930) for all participating teams.\n",
    "\n",
    "Limitation: FIFA ranking was created in the 90’s thus a huge portion of the dataset is lacking. So let’s stick to historical match records.\n",
    "\n",
    "Environment and tools: jupyter notebook, numpy, pandas, seaborn, matplotlib and scikit-learn.\n",
    "\n",
    "We are first going to do some exploratory analysis on Fifa Soccer Rankings and International foorball result from 1870 to 2018, do some feature engineering to select most relevant feature for prediction, do some data manipulation, choose a Machine Learning model and finally deploy it on the dataset.\n",
    "\n"
   ]
  },
  {
   "cell_type": "code",
   "execution_count": null,
   "metadata": {
    "_cell_guid": "b1076dfc-b9ad-4769-8c92-a6c4dae69d19",
    "_uuid": "8f2839f25d086af736a60e9eeb907d3b93b6e0e5"
   },
   "outputs": [],
   "source": [
    "# This Python 3 environment comes with many helpful analytics libraries installed\n",
    "# It is defined by the kaggle/python docker image: https://github.com/kaggle/docker-python\n",
    "# For example, here's several helpful packages to load in \n",
    "\n",
    "import numpy as np # linear algebra\n",
    "import pandas as pd # data processing, CSV file I/O (e.g. pd.read_csv)\n",
    "\n",
    "# Input data files are available in the \"../input/\" directory.\n",
    "# For example, running this (by clicking run or pressing Shift+Enter) will list the files in the input directory\n",
    "\n",
    "import os\n",
    "print(os.listdir(\"../input\"))\n",
    "\n",
    "# Any results you write to the current directory are saved as output."
   ]
  },
  {
   "cell_type": "code",
   "execution_count": null,
   "metadata": {
    "_cell_guid": "79c7e3d0-c299-4dcb-8224-4455121ee9b0",
    "_uuid": "d629ff2d2480ee46fbb7e2d37f6b5fab8052498a"
   },
   "outputs": [],
   "source": [
    "import pandas as pd\n",
    "import numpy as np\n",
    "import matplotlib.pyplot as plt\n",
    "import seaborn as sns\n",
    "import matplotlib.ticker as ticker\n",
    "import matplotlib.ticker as plticker\n",
    "from sklearn.model_selection import train_test_split\n",
    "from sklearn.linear_model import LogisticRegression"
   ]
  },
  {
   "cell_type": "code",
   "execution_count": null,
   "metadata": {
    "_uuid": "ab5fd080ba5f2539c917e5013c4e430c445e7973"
   },
   "outputs": [],
   "source": [
    "world_cup = pd.read_csv('../input/world-cup-2018/World Cup 2018 Dataset.csv')"
   ]
  },
  {
   "cell_type": "code",
   "execution_count": null,
   "metadata": {
    "_uuid": "b86e331c814238df32a8f0f0a69ec940b7b33324"
   },
   "outputs": [],
   "source": [
    "#load data \n",
    "results = pd.read_csv('../input/international-football-results-from-1872-to-2017/results.csv')"
   ]
  },
  {
   "cell_type": "code",
   "execution_count": null,
   "metadata": {
    "_uuid": "5994423d95404581c516ae44ef995f8ac1c81196"
   },
   "outputs": [],
   "source": [
    "world_cup.head()\n"
   ]
  },
  {
   "cell_type": "code",
   "execution_count": null,
   "metadata": {
    "_uuid": "01c96a43c9cb735a704a6843f9309cfa035f7167"
   },
   "outputs": [],
   "source": [
    "results.head()\n"
   ]
  },
  {
   "cell_type": "markdown",
   "metadata": {
    "_uuid": "825df662aef58b185d65c1efae8a8e4075ddc39f"
   },
   "source": [
    "# Exploratory Analysis\n",
    "\n",
    "\n",
    "Exploratory analysis and feature engineering: which involve establishing which features are relevant for the Machine Learning model is the most time consuming part of any Data science project.\n",
    "\n",
    "Let’s now add goal difference and outcome column to the results dataset and Check out the new results dataframe.\n",
    "\n",
    "\n",
    "\n"
   ]
  },
  {
   "cell_type": "code",
   "execution_count": null,
   "metadata": {
    "_uuid": "2e01e40d0940dcc2c7e725669e7fb8e95831b2be"
   },
   "outputs": [],
   "source": [
    "#Adding goal difference and establishing who is the winner \n",
    "winner = []\n",
    "for i in range (len(results['home_team'])):\n",
    "    if results ['home_score'][i] > results['away_score'][i]:\n",
    "        winner.append(results['home_team'][i])\n",
    "    elif results['home_score'][i] < results ['away_score'][i]:\n",
    "        winner.append(results['away_team'][i])\n",
    "    else:\n",
    "        winner.append('Draw')\n",
    "results['winning_team'] = winner\n",
    "\n",
    "#adding goal difference column\n",
    "results['goal_difference'] = np.absolute(results['home_score'] - results['away_score'])\n",
    "\n",
    "results.head()"
   ]
  },
  {
   "cell_type": "markdown",
   "metadata": {
    "_uuid": "b20a709082c8a92341539450970226c03d59a29f"
   },
   "source": [
    "Then we’ll work with a subset of the data. One that includes games played only by France. This will help us focus on what features are interesting for one country and later expand to countries participating in the world cup."
   ]
  },
  {
   "cell_type": "code",
   "execution_count": null,
   "metadata": {
    "_uuid": "066897d0f73b775a09cfe5c01cbec5882cb9ad86"
   },
   "outputs": [],
   "source": [
    "#lets work with a subset of the data one that includes games played by Nigeria in a Nigeria dataframe\n",
    "df = results[(results['home_team'] == 'France') | (results['away_team'] == 'France')]\n",
    "france = df.iloc[:]\n",
    "france.head()"
   ]
  },
  {
   "cell_type": "markdown",
   "metadata": {
    "_uuid": "ded16f18574b831fb0c97631fdc34d1de4ef9ba1"
   },
   "source": [
    "The first World Cup was played in 1930. Create a column for year and pick all the games played after 1930."
   ]
  },
  {
   "cell_type": "code",
   "execution_count": null,
   "metadata": {
    "_uuid": "bfbd49f5ad718c0e81d5c884e9d4acc3e063ebd5"
   },
   "outputs": [],
   "source": [
    "#creating a column for year and the first world cup was held in 1930\n",
    "year = []\n",
    "for row in france['date']:\n",
    "    year.append(int(row[:4]))\n",
    "france ['match_year']= year\n",
    "france_1930 = france[france.match_year >= 1930]\n",
    "france_1930.count()"
   ]
  },
  {
   "cell_type": "markdown",
   "metadata": {
    "_uuid": "2db2583df04ac6c3be4ce303ed384ad57cd2b5c3"
   },
   "source": [
    "We can now visualize the most common match outcome for France throughout the years.\n",
    "\n"
   ]
  },
  {
   "cell_type": "code",
   "execution_count": null,
   "metadata": {
    "_uuid": "e9cc188bea1e5d6f26efae7bd97593f2c1b49ae8"
   },
   "outputs": [],
   "source": [
    "#what is the common game outcome for nigeria visualisation\n",
    "wins = []\n",
    "for row in france_1930['winning_team']:\n",
    "    if row != 'France' and row != 'Draw':\n",
    "        wins.append('Loss')\n",
    "    else:\n",
    "        wins.append(row)\n",
    "winsdf= pd.DataFrame(wins, columns=[ 'France_Results'])\n",
    "\n",
    "#plotting\n",
    "fig, ax = plt.subplots(1)\n",
    "fig.set_size_inches(10.7, 6.27)\n",
    "sns.set(style='darkgrid')\n",
    "sns.countplot(x='France_Results', data=winsdf)"
   ]
  },
  {
   "cell_type": "markdown",
   "metadata": {
    "_uuid": "ef5f7c1873e5e9410b13ae143ee50b51d16af218"
   },
   "source": [
    "Getting the winning rate for every country that will participate in the world cup is a useful metric and we could use it to predict the most likely outcome of each match in the tournament.\n",
    "\n",
    "Venue of the matches won’t matter that much."
   ]
  },
  {
   "cell_type": "markdown",
   "metadata": {
    "_uuid": "c42fb455e2e90721852999ac13439227909b881b"
   },
   "source": [
    "# Narrowing to the teams participating in the World Cup\n",
    "Create a dataframe with all the participating teams."
   ]
  },
  {
   "cell_type": "markdown",
   "metadata": {
    "_uuid": "35689c9f2258b2690cf31b6896c78f59e3a684dc"
   },
   "source": [
    "We then further filter the results dataframe to show only teams in this years world cup from 1930 onwards as well as drop duplicates."
   ]
  },
  {
   "cell_type": "code",
   "execution_count": null,
   "metadata": {
    "_uuid": "078008b6ce18530f7b6fc1bd8c7cec8c3ac0a2bc"
   },
   "outputs": [],
   "source": [
    "#narrowing to team patcipating in the world cup\n",
    "worldcup_teams = ['Australia', ' Iran', 'Japan', 'Korea Republic', \n",
    "            'Saudi Arabia', 'Egypt', 'Morocco', 'Nigeria', \n",
    "            'Senegal', 'Tunisia', 'Costa Rica', 'Mexico', \n",
    "            'Panama', 'Argentina', 'Brazil', 'Colombia', \n",
    "            'Peru', 'Uruguay', 'Belgium', 'Croatia', \n",
    "            'Denmark', 'England', 'France', 'Germany', \n",
    "            'Iceland', 'Poland', 'Portugal', 'Russia', \n",
    "            'Serbia', 'Spain', 'Sweden', 'Switzerland']\n",
    "df_teams_home = results[results['home_team'].isin(worldcup_teams)]\n",
    "df_teams_away = results[results['away_team'].isin(worldcup_teams)]\n",
    "df_teams = pd.concat((df_teams_home, df_teams_away))\n",
    "df_teams.drop_duplicates()\n",
    "df_teams.count()"
   ]
  },
  {
   "cell_type": "code",
   "execution_count": null,
   "metadata": {
    "_uuid": "7502f38d222daafbfe66ac6340be66bfe96b09aa"
   },
   "outputs": [],
   "source": [
    "df_teams.head()\n"
   ]
  },
  {
   "cell_type": "markdown",
   "metadata": {
    "_uuid": "4abb7d4892a33d631edcd494b215e96f7d98ed38"
   },
   "source": [
    "Create a year column and drop games before 1930 as well as columns that won’t affect match outcome for example date, home_score, away_score, tournament, city, country, goal_difference and match_year"
   ]
  },
  {
   "cell_type": "code",
   "execution_count": null,
   "metadata": {
    "_uuid": "d5ab1e2db94e7f1b6626954820014f4670fd6e14"
   },
   "outputs": [],
   "source": [
    "#create an year column to drop games before 1930\n",
    "year = []\n",
    "for row in df_teams['date']:\n",
    "    year.append(int(row[:4]))\n",
    "df_teams['match_year'] = year\n",
    "df_teams_1930 = df_teams[df_teams.match_year >= 1930]\n",
    "df_teams_1930.head()"
   ]
  },
  {
   "cell_type": "code",
   "execution_count": null,
   "metadata": {
    "_uuid": "e297e8ad3713c222cb26dcb83381ee3dafa6666d"
   },
   "outputs": [],
   "source": [
    "#dropping columns that wll not affect matchoutcomes\n",
    "df_teams_1930 = df_teams.drop(['date', 'home_score', 'away_score', 'tournament', 'city', 'country', 'goal_difference', 'match_year'], axis=1)\n",
    "df_teams_1930.head()"
   ]
  },
  {
   "cell_type": "markdown",
   "metadata": {
    "_uuid": "412f79a1d6a4a3da6017a9e9e9f9b052283f00a6"
   },
   "source": [
    "Modify the “Y” (prediction label) in order to simplify our model’s processing.\n",
    "\n",
    "The winning_team column will show “2” if the home team has won, “1” if it was a tie, and “0” if the away team has won."
   ]
  },
  {
   "cell_type": "code",
   "execution_count": null,
   "metadata": {
    "_uuid": "d68a3850f2d7c0fdebfb71e7f5590d6e6d84d368"
   },
   "outputs": [],
   "source": [
    "#Building the model\n",
    "#the prediction label: The winning_team column will show \"2\" if the home team has won, \"1\" if it was a tie, and \"0\" if the away team has won.\n",
    "\n",
    "df_teams_1930 = df_teams_1930.reset_index(drop=True)\n",
    "df_teams_1930.loc[df_teams_1930.winning_team == df_teams_1930.home_team,'winning_team']=2\n",
    "df_teams_1930.loc[df_teams_1930.winning_team == 'Draw', 'winning_team']=1\n",
    "df_teams_1930.loc[df_teams_1930.winning_team == df_teams_1930.away_team, 'winning_team']=0\n",
    "\n",
    "df_teams_1930.head()"
   ]
  },
  {
   "cell_type": "markdown",
   "metadata": {
    "_uuid": "adf64e488d708254f36b583788c5da923d900bef"
   },
   "source": [
    "Convert home_team and away _team from categorical variables to continuous inputs, by setting dummy variables.\n",
    "\n",
    "Using pandas, get_dummies() function. It replaces categorical columns with their one-hot (numbers ‘1’ and ‘0’) representations enabling them to be loaded into Scikit-learn model.\n",
    "\n",
    "We then separate the X and Y set and split the data into 75 percent training and 25 percent test.\n",
    "\n"
   ]
  },
  {
   "cell_type": "code",
   "execution_count": null,
   "metadata": {
    "_uuid": "ffa0553534f687c0f5ce37333b16f55fbc61804f"
   },
   "outputs": [],
   "source": [
    "#convert home team and away team from categorical variables to continous inputs \n",
    "# Get dummy variables\n",
    "final = pd.get_dummies(df_teams_1930, prefix=['home_team', 'away_team'], columns=['home_team', 'away_team'])\n",
    "\n",
    "# Separate X and y sets\n",
    "X = final.drop(['winning_team'], axis=1)\n",
    "y = final[\"winning_team\"]\n",
    "y = y.astype('int')\n",
    "\n",
    "# Separate train and test sets\n",
    "X_train, X_test, y_train, y_test = train_test_split(X, y, test_size=0.25, random_state=42)"
   ]
  },
  {
   "cell_type": "markdown",
   "metadata": {
    "_uuid": "626c012885ded5e354c88577928a216d2fb21b07"
   },
   "source": [
    "We will use logistic regression, a classifier algorithm. How does this algorithm work? It measures the relationship between the categorical dependent variable and one or more independent variables by estimating probabilities using a logistic function. Specifically the cumulative logistic distribution.\n",
    "\n",
    "In other words logistic regression attempts to predict an outcome (a win or a loss) given a set of data points (stats) that likely influence that outcome.\n",
    "\n",
    "The way this works in practice is you feed the algorithm one game at a time, with both the aforementioned “set of data” and the actual outcome of the game. The model then learns how each piece of data you feed it influences the outcome of the game positively, negatively and to what extent.\n",
    "\n",
    "Give it enough (good) data and you have a model that you can use to predict future outcomes.\n",
    "\n",
    "A model is as good as the data you give it.\n",
    "\n",
    "Let’s have a look at our final dataframe:"
   ]
  },
  {
   "cell_type": "code",
   "execution_count": null,
   "metadata": {
    "_uuid": "319493e95b24f92c30ff4644cc3ac697ddbe894d"
   },
   "outputs": [],
   "source": [
    "final.head()\n"
   ]
  },
  {
   "cell_type": "code",
   "execution_count": null,
   "metadata": {
    "_uuid": "476c84cf76aef24571faf8d43637c8194302bc8f"
   },
   "outputs": [],
   "source": [
    "logreg = LogisticRegression()\n",
    "logreg.fit(X_train, y_train)\n",
    "score = logreg.score(X_train, y_train)\n",
    "score2 = logreg.score(X_test, y_test)\n",
    "\n",
    "print(\"Training set accuracy: \", '%.3f'%(score))\n",
    "print(\"Test set accuracy: \", '%.3f'%(score2))"
   ]
  },
  {
   "cell_type": "markdown",
   "metadata": {
    "_uuid": "0635ab30f85903f2c6cd779e5499420160f83a84"
   },
   "source": [
    "Our model got a 57% accuracy on the training set and 56% accuracy on the test set. This doesn’t look great but let’s move on.\n",
    "\n",
    "At this point we will create a dataframe that we will deploy our model.\n",
    "\n",
    "We will start by loading the FIFA ranking dataset and a dataset containing the fixture of the group stages of the tournament obtained from here. The team which is positioned higher on the FIFA Ranking will be considered “favourite” for the match and therefore, will be positioned under the “home_teams” column since there are no “home” or “away” teams in World Cup games. We then add teams to the new prediction dataset based on ranking position of each team. The next step will be to create dummy variables and and deploy the machine learning model.\n",
    "\n"
   ]
  },
  {
   "cell_type": "markdown",
   "metadata": {
    "_uuid": "94fc1a9a09d593f121b72fbb98994003687555a3"
   },
   "source": [
    "# Match Prediction\n"
   ]
  },
  {
   "cell_type": "markdown",
   "metadata": {
    "_uuid": "6a7db2614e5cd93fb7583768016c12595a8db617"
   },
   "source": [
    "# Deploying the model to the dataset\n",
    "We start with deploying the model to the group matches."
   ]
  },
  {
   "cell_type": "code",
   "execution_count": null,
   "metadata": {
    "_uuid": "32b4d7616341758af0a9faa45346804d8f82814d"
   },
   "outputs": [],
   "source": [
    "#adding Fifa rankings\n",
    "#the team which is positioned higher on the FIFA Ranking will be considered \"favourite\" for the match\n",
    "#and therefore, will be positioned under the \"home_teams\" column\n",
    "#since there are no \"home\" or \"away\" teams in World Cup games. \n",
    "\n",
    "# Loading new datasets\n",
    "ranking = pd.read_csv('../input/fifa-international-soccer-mens-ranking-1993now/fifa_ranking.csv') \n",
    "fixtures = pd.read_csv('../input/fixture-cup/cupp.csv')\n",
    "rankings = ranking.drop_duplicates(subset='country_full',)\n",
    "# List for storing the group stage games\n",
    "pred_set = []"
   ]
  },
  {
   "cell_type": "code",
   "execution_count": null,
   "metadata": {
    "_uuid": "902a51fe30dec845553eb8d266e4d93d6595dbf2"
   },
   "outputs": [],
   "source": [
    "# Create new columns with ranking position of each team\n",
    "fixtures.insert(1, 'first_position', fixtures['Home Team'].map(rankings.set_index('country_full',verify_integrity= True)['rank']))\n",
    "fixtures.insert(2, 'second_position', fixtures['Away Team'].map(rankings.set_index('country_full')['rank']))\n",
    "\n",
    "# We only need the group stage games, so we have to slice the dataset\n",
    "fixtures = fixtures.iloc[:48, :]\n",
    "fixtures.tail()"
   ]
  },
  {
   "cell_type": "code",
   "execution_count": null,
   "metadata": {
    "_uuid": "f6c7453de091487b1abbac7c0bb0ee838cb5364a"
   },
   "outputs": [],
   "source": [
    "\n",
    "# Loop to add teams to new prediction dataset based on the ranking position of each team\n",
    "for index, row in fixtures.iterrows():\n",
    "    if row['first_position'] < row['second_position']:\n",
    "        pred_set.append({'home_team': row['Home Team'], 'away_team': row['Away Team'], 'winning_team': None})\n",
    "    else:\n",
    "        pred_set.append({'home_team': row['Away Team'], 'away_team': row['Home Team'], 'winning_team': None})\n",
    "        \n",
    "pred_set = pd.DataFrame(pred_set)\n",
    "backup_pred_set = pred_set\n",
    "\n",
    "pred_set.head()"
   ]
  },
  {
   "cell_type": "code",
   "execution_count": null,
   "metadata": {
    "_uuid": "b2862930b19df523ffbae3a7b4785f4dabad0ec0"
   },
   "outputs": [],
   "source": [
    "# Get dummy variables and drop winning_team column\n",
    "pred_set = pd.get_dummies(pred_set, prefix=['home_team', 'away_team'], columns=['home_team', 'away_team'])\n",
    "\n",
    "# Add missing columns compared to the model's training dataset\n",
    "missing_cols = set(final.columns) - set(pred_set.columns)\n",
    "for c in missing_cols:\n",
    "    pred_set[c] = 0\n",
    "pred_set = pred_set[final.columns]\n",
    "\n",
    "# Remove winning team column\n",
    "pred_set = pred_set.drop(['winning_team'], axis=1)\n",
    "\n",
    "pred_set.head()"
   ]
  },
  {
   "cell_type": "markdown",
   "metadata": {
    "_uuid": "761a972f07e35a9a7e861d57c98a432c5d70f3a6"
   },
   "source": [
    "Here are the results of group stages.\n",
    "\n"
   ]
  },
  {
   "cell_type": "code",
   "execution_count": null,
   "metadata": {
    "_uuid": "bcf637b09ca0ea376c3bbd14cd6be6a6c107c5f4"
   },
   "outputs": [],
   "source": [
    "#group matches \n",
    "predictions = logreg.predict(pred_set)\n",
    "for i in range(fixtures.shape[0]):\n",
    "    print(backup_pred_set.iloc[i, 1] + \" and \" + backup_pred_set.iloc[i, 0])\n",
    "    if predictions[i] == 2:\n",
    "        print(\"Winner: \" + backup_pred_set.iloc[i, 1])\n",
    "    elif predictions[i] == 1:\n",
    "        print(\"Draw\")\n",
    "    elif predictions[i] == 0:\n",
    "        print(\"Winner: \" + backup_pred_set.iloc[i, 0])\n",
    "    print('Probability of ' + backup_pred_set.iloc[i, 1] + ' winning: ', '%.3f'%(logreg.predict_proba(pred_set)[i][2]))\n",
    "    print('Probability of Draw: ', '%.3f'%(logreg.predict_proba(pred_set)[i][1]))\n",
    "    print('Probability of ' + backup_pred_set.iloc[i, 0] + ' winning: ', '%.3f'%(logreg.predict_proba(pred_set)[i][0]))\n",
    "    print(\"\")"
   ]
  },
  {
   "cell_type": "code",
   "execution_count": null,
   "metadata": {
    "_uuid": "d73718b7dc413bd0134b4b1e6cffeb53b6eb522d"
   },
   "outputs": [],
   "source": [
    "# List of tuples before \n",
    "group_16 = [('Uruguay', 'Portugal'),\n",
    "            ('France', 'Croatia'),\n",
    "            ('Brazil', 'Sweden'),\n",
    "            ('England', 'Colombia'),\n",
    "            ('Spain', 'Russia'),\n",
    "            ('Argentina', 'Denmark'),\n",
    "            ('Germany', 'Switzerland'),\n",
    "            ('Poland', 'Belgium')]"
   ]
  },
  {
   "cell_type": "code",
   "execution_count": null,
   "metadata": {
    "_uuid": "af3fd9988672c83823fe9f3a21b1c4710cb6d42b"
   },
   "outputs": [],
   "source": [
    "def clean_and_predict(matches, ranking, final, logreg):\n",
    "\n",
    "    # Initialization of auxiliary list for data cleaning\n",
    "    positions = []\n",
    "\n",
    "    # Loop to retrieve each team's position according to FIFA ranking\n",
    "    for match in matches:\n",
    "        positions.append(rankings.loc[rankings['country_full'] == match[0],'rank'].iloc[0])\n",
    "        positions.append(rankings.loc[rankings['country_full'] == match[1],'rank'].iloc[0])\n",
    "    \n",
    "    # Creating the DataFrame for prediction\n",
    "    pred_set = []\n",
    "\n",
    "    # Initializing iterators for while loop\n",
    "    i = 0\n",
    "    j = 0\n",
    "\n",
    "    # 'i' will be the iterator for the 'positions' list, and 'j' for the list of matches (list of tuples)\n",
    "    while i < len(positions):\n",
    "        dict1 = {}\n",
    "                # If position of first team is better, he will be the 'home' team, and vice-versa\n",
    "        if positions[i] < positions[i + 1]:\n",
    "            dict1.update({'home_team': matches[j][0], 'away_team': matches[j][1]})\n",
    "        else:\n",
    "            dict1.update({'home_team': matches[j][1], 'away_team': matches[j][0]})\n",
    "\n",
    "        # Append updated dictionary to the list, that will later be converted into a DataFrame\n",
    "        pred_set.append(dict1)\n",
    "        i += 2\n",
    "        j += 1\n",
    "\n",
    "    # Convert list into DataFrame\n",
    "    pred_set = pd.DataFrame(pred_set)\n",
    "    backup_pred_set = pred_set\n",
    "\n",
    "    # Get dummy variables and drop winning_team column\n",
    "    pred_set = pd.get_dummies(pred_set, prefix=['home_team', 'away_team'], columns=['home_team', 'away_team'])\n",
    "\n",
    "    # Add missing columns compared to the model's training dataset\n",
    "    missing_cols2 = set(final.columns) - set(pred_set.columns)\n",
    "    for c in missing_cols2:\n",
    "        pred_set[c] = 0\n",
    "    pred_set = pred_set[final.columns]\n",
    "\n",
    "    # Remove winning team column\n",
    "    pred_set = pred_set.drop(['winning_team'], axis=1)\n",
    "\n",
    "    # Predict!\n",
    "    predictions = logreg.predict(pred_set)\n",
    "    for i in range(len(pred_set)):\n",
    "        print(backup_pred_set.iloc[i, 1] + \" and \" + backup_pred_set.iloc[i, 0])\n",
    "        if predictions[i] == 2:\n",
    "            print(\"Winner: \" + backup_pred_set.iloc[i, 1])\n",
    "        elif predictions[i] == 1:\n",
    "            print(\"Draw\")\n",
    "        elif predictions[i] == 0:\n",
    "            print(\"Winner: \" + backup_pred_set.iloc[i, 0])\n",
    "        print('Probability of ' + backup_pred_set.iloc[i, 1] + ' winning: ' , '%.3f'%(logreg.predict_proba(pred_set)[i][2]))\n",
    "        print('Probability of Draw: ', '%.3f'%(logreg.predict_proba(pred_set)[i][1])) \n",
    "        print('Probability of ' + backup_pred_set.iloc[i, 0] + ' winning: ', '%.3f'%(logreg.predict_proba(pred_set)[i][0]))\n",
    "        print(\"\")"
   ]
  },
  {
   "cell_type": "code",
   "execution_count": null,
   "metadata": {
    "_uuid": "46e4d84f11422294eb310a7a95d3066b9e7b7467"
   },
   "outputs": [],
   "source": [
    "clean_and_predict(group_16, ranking, final, logreg)\n"
   ]
  },
  {
   "cell_type": "code",
   "execution_count": null,
   "metadata": {
    "_uuid": "bb9c8bd7c33d2bdf248d4c9dd9ad5ff56969b664"
   },
   "outputs": [],
   "source": [
    "# List of matches\n",
    "quarters = [('France', 'Russia'),\n",
    "            ('Uruguay', 'Argentina'),\n",
    "            ('Brazil', 'England'),\n",
    "            ('Germany', 'Belgium')]"
   ]
  },
  {
   "cell_type": "code",
   "execution_count": null,
   "metadata": {
    "_uuid": "7830f364105f2911dd73f40af4b02a093dc80f14"
   },
   "outputs": [],
   "source": [
    "clean_and_predict(quarters, ranking, final, logreg)\n"
   ]
  },
  {
   "cell_type": "code",
   "execution_count": null,
   "metadata": {
    "_uuid": "7d69a3396bd44fe501b17332596b1401c19c9d3f"
   },
   "outputs": [],
   "source": [
    "# List of matches\n",
    "semi = [('Russia', 'Brazil'),\n",
    "        ('Argentina', 'Germany')]"
   ]
  },
  {
   "cell_type": "code",
   "execution_count": null,
   "metadata": {
    "_uuid": "349b50bfb83d69243dc15e49a5db10dd0034849f"
   },
   "outputs": [],
   "source": [
    "clean_and_predict(semi, ranking, final, logreg)\n"
   ]
  },
  {
   "cell_type": "code",
   "execution_count": null,
   "metadata": {
    "_uuid": "36d723a3db66c7b90841d46c5ee55ee80d97b38a"
   },
   "outputs": [],
   "source": [
    "# Finals\n",
    "finals = [('Brazil', 'Germany')]"
   ]
  },
  {
   "cell_type": "code",
   "execution_count": null,
   "metadata": {
    "_uuid": "ea1868d2041ecd2c936b5c14adba2f2ab66b54ae"
   },
   "outputs": [],
   "source": [
    "clean_and_predict(finals, ranking, final, logreg)\n"
   ]
  },
  {
   "cell_type": "markdown",
   "metadata": {
    "_uuid": "80ab6a98ea0239e70e6713f47b2e0da0c2ae236c"
   },
   "source": [
    "According to this model Germany was likely to win this World Cup.\n",
    "\n",
    "# Areas of further Research/ Improvement\n",
    "We used the global ranking we could have used the 2018 Fifa ranking which could have been more realistic for the prevision , moreover including key player influence in parameters could be something interessant to do we will probably improve this work in the weeks to come .\n",
    "\n"
   ]
  }
 ],
 "metadata": {
  "kernelspec": {
   "display_name": "Python 3 (ipykernel)",
   "language": "python",
   "name": "python3"
  },
  "language_info": {
   "codemirror_mode": {
    "name": "ipython",
    "version": 3
   },
   "file_extension": ".py",
   "mimetype": "text/x-python",
   "name": "python",
   "nbconvert_exporter": "python",
   "pygments_lexer": "ipython3",
   "version": "3.9.13"
  }
 },
 "nbformat": 4,
 "nbformat_minor": 4
}
